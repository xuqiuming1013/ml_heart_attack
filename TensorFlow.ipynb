{
 "cells": [
  {
   "cell_type": "markdown",
   "id": "a75905d1",
   "metadata": {},
   "source": [
    "## TensorFlow"
   ]
  },
  {
   "cell_type": "markdown",
   "id": "e5286db2",
   "metadata": {},
   "source": [
    "Data in CSV is structured data, structured data can be modeled and processed using tensorflow\n",
    "\n",
    "Step:\n",
    " 1.Load the data (CSV file) using Pandas.\n",
    "\n",
    " 2.Build an input pipeline that batches and shuffles rows using tf.data\n",
    "\n",
    " 3.Map from columns in the CSV to features used to train the model.\n",
    "\n",
    " 4.Build, train, and evaluate models with Keras."
   ]
  },
  {
   "cell_type": "code",
   "execution_count": 1,
   "id": "a85fe97f",
   "metadata": {},
   "outputs": [
    {
     "name": "stdout",
     "output_type": "stream",
     "text": [
      "3.9.12 (main, Apr  4 2022, 05:22:27) [MSC v.1916 64 bit (AMD64)]\n",
      "D:\\anaconda3\\python.exe\n"
     ]
    }
   ],
   "source": [
    "import sys\n",
    "print(sys.version)\n",
    "print(sys.executable)"
   ]
  },
  {
   "cell_type": "code",
   "execution_count": 4,
   "id": "2989e5ef",
   "metadata": {},
   "outputs": [],
   "source": [
    "# global imports\n",
    "\n",
    "# Import Python extension library (mathematical function library)\n",
    "import numpy as np\n",
    "\n",
    "# Import Python data analysis tools\n",
    "import pandas as pd\n",
    "\n",
    "# Import Python data visualization library\n",
    "import seaborn as sns\n",
    "\n",
    "# Import matplotlib-based plotting tools\n",
    "import matplotlib.pyplot as plt\n",
    "\n",
    "# Import warning filter\n",
    "import warnings\n",
    "\n",
    "# Set the warning state to 'ignore'\n",
    "warnings.filterwarnings(\"ignore\")\n",
    "\n",
    "# Import Python data calculation tool\n",
    "import statistics\n",
    "\n",
    "import matplotlib.pyplot as plt\n",
    "import seaborn as sns\n",
    "\n",
    "# Import tensorflow model\n",
    "import tensorflow as tf\n",
    "\n",
    "# Import feature handling\n",
    "from tensorflow import feature_column\n",
    "\n",
    "# Import layers in tensorflow\n",
    "from tensorflow.keras import layers\n",
    "\n",
    "# Import dataset cutter\n",
    "from sklearn.model_selection import train_test_split\n",
    "\n",
    "# Import data handling function\n",
    "from __future__ import absolute_import, division, print_function, unicode_literals"
   ]
  },
  {
   "cell_type": "code",
   "execution_count": 79,
   "id": "f07e3c67",
   "metadata": {},
   "outputs": [
    {
     "data": {
      "text/plain": [
       "'2.10.0'"
      ]
     },
     "execution_count": 79,
     "metadata": {},
     "output_type": "execute_result"
    }
   ],
   "source": [
    "# View tf version\n",
    "tf.__version__ "
   ]
  },
  {
   "cell_type": "code",
   "execution_count": 5,
   "id": "6069ee14",
   "metadata": {},
   "outputs": [
    {
     "data": {
      "text/html": [
       "<div>\n",
       "<style scoped>\n",
       "    .dataframe tbody tr th:only-of-type {\n",
       "        vertical-align: middle;\n",
       "    }\n",
       "\n",
       "    .dataframe tbody tr th {\n",
       "        vertical-align: top;\n",
       "    }\n",
       "\n",
       "    .dataframe thead th {\n",
       "        text-align: right;\n",
       "    }\n",
       "</style>\n",
       "<table border=\"1\" class=\"dataframe\">\n",
       "  <thead>\n",
       "    <tr style=\"text-align: right;\">\n",
       "      <th></th>\n",
       "      <th>age</th>\n",
       "      <th>sex</th>\n",
       "      <th>cp</th>\n",
       "      <th>trtbps</th>\n",
       "      <th>chol</th>\n",
       "      <th>fbs</th>\n",
       "      <th>restecg</th>\n",
       "      <th>thalach</th>\n",
       "      <th>exng</th>\n",
       "      <th>oldpeak</th>\n",
       "      <th>slp</th>\n",
       "      <th>ca</th>\n",
       "      <th>thal</th>\n",
       "      <th>output</th>\n",
       "    </tr>\n",
       "  </thead>\n",
       "  <tbody>\n",
       "    <tr>\n",
       "      <th>0</th>\n",
       "      <td>63</td>\n",
       "      <td>1</td>\n",
       "      <td>3</td>\n",
       "      <td>145</td>\n",
       "      <td>233</td>\n",
       "      <td>1</td>\n",
       "      <td>0</td>\n",
       "      <td>150</td>\n",
       "      <td>0</td>\n",
       "      <td>2.3</td>\n",
       "      <td>0</td>\n",
       "      <td>0</td>\n",
       "      <td>1</td>\n",
       "      <td>1</td>\n",
       "    </tr>\n",
       "    <tr>\n",
       "      <th>1</th>\n",
       "      <td>37</td>\n",
       "      <td>1</td>\n",
       "      <td>2</td>\n",
       "      <td>130</td>\n",
       "      <td>250</td>\n",
       "      <td>0</td>\n",
       "      <td>1</td>\n",
       "      <td>187</td>\n",
       "      <td>0</td>\n",
       "      <td>3.5</td>\n",
       "      <td>0</td>\n",
       "      <td>0</td>\n",
       "      <td>2</td>\n",
       "      <td>1</td>\n",
       "    </tr>\n",
       "    <tr>\n",
       "      <th>2</th>\n",
       "      <td>41</td>\n",
       "      <td>0</td>\n",
       "      <td>1</td>\n",
       "      <td>130</td>\n",
       "      <td>204</td>\n",
       "      <td>0</td>\n",
       "      <td>0</td>\n",
       "      <td>172</td>\n",
       "      <td>0</td>\n",
       "      <td>1.4</td>\n",
       "      <td>2</td>\n",
       "      <td>0</td>\n",
       "      <td>2</td>\n",
       "      <td>1</td>\n",
       "    </tr>\n",
       "  </tbody>\n",
       "</table>\n",
       "</div>"
      ],
      "text/plain": [
       "   age  sex  cp  trtbps  chol  fbs  restecg  thalach  exng  oldpeak  slp  ca  \\\n",
       "0   63    1   3     145   233    1        0      150     0      2.3    0   0   \n",
       "1   37    1   2     130   250    0        1      187     0      3.5    0   0   \n",
       "2   41    0   1     130   204    0        0      172     0      1.4    2   0   \n",
       "\n",
       "   thal  output  \n",
       "0     1       1  \n",
       "1     2       1  \n",
       "2     2       1  "
      ]
     },
     "execution_count": 5,
     "metadata": {},
     "output_type": "execute_result"
    }
   ],
   "source": [
    "# Read Dataset\n",
    "#dataframe = pd.read_csv(\"xxx\")\n",
    "dataframe = pd.read_csv(\"../dataset/heartattack-dataset.csv\")\n",
    "\n",
    "dataframe.head(3)"
   ]
  },
  {
   "cell_type": "code",
   "execution_count": 6,
   "id": "113461a5",
   "metadata": {},
   "outputs": [
    {
     "name": "stdout",
     "output_type": "stream",
     "text": [
      "<class 'pandas.core.frame.DataFrame'>\n",
      "RangeIndex: 303 entries, 0 to 302\n",
      "Data columns (total 14 columns):\n",
      " #   Column   Non-Null Count  Dtype  \n",
      "---  ------   --------------  -----  \n",
      " 0   age      303 non-null    int64  \n",
      " 1   sex      303 non-null    int64  \n",
      " 2   cp       303 non-null    int64  \n",
      " 3   trtbps   303 non-null    int64  \n",
      " 4   chol     303 non-null    int64  \n",
      " 5   fbs      303 non-null    int64  \n",
      " 6   restecg  303 non-null    int64  \n",
      " 7   thalach  303 non-null    int64  \n",
      " 8   exng     303 non-null    int64  \n",
      " 9   oldpeak  303 non-null    float64\n",
      " 10  slp      303 non-null    int64  \n",
      " 11  ca       303 non-null    int64  \n",
      " 12  thal     303 non-null    int64  \n",
      " 13  output   303 non-null    int64  \n",
      "dtypes: float64(1), int64(13)\n",
      "memory usage: 33.3 KB\n"
     ]
    }
   ],
   "source": [
    "# View the basic information of the dataset (name, null value, number of rows, data type, etc.) \n",
    "dataframe.info()"
   ]
  },
  {
   "cell_type": "code",
   "execution_count": 7,
   "id": "7133b136",
   "metadata": {},
   "outputs": [
    {
     "data": {
      "text/html": [
       "<div>\n",
       "<style scoped>\n",
       "    .dataframe tbody tr th:only-of-type {\n",
       "        vertical-align: middle;\n",
       "    }\n",
       "\n",
       "    .dataframe tbody tr th {\n",
       "        vertical-align: top;\n",
       "    }\n",
       "\n",
       "    .dataframe thead th {\n",
       "        text-align: right;\n",
       "    }\n",
       "</style>\n",
       "<table border=\"1\" class=\"dataframe\">\n",
       "  <thead>\n",
       "    <tr style=\"text-align: right;\">\n",
       "      <th></th>\n",
       "      <th>age</th>\n",
       "      <th>sex</th>\n",
       "      <th>cp</th>\n",
       "      <th>trtbps</th>\n",
       "      <th>chol</th>\n",
       "      <th>fbs</th>\n",
       "      <th>restecg</th>\n",
       "      <th>thalach</th>\n",
       "      <th>exng</th>\n",
       "      <th>oldpeak</th>\n",
       "      <th>slp</th>\n",
       "      <th>ca</th>\n",
       "      <th>thal</th>\n",
       "      <th>output</th>\n",
       "    </tr>\n",
       "  </thead>\n",
       "  <tbody>\n",
       "    <tr>\n",
       "      <th>96</th>\n",
       "      <td>62</td>\n",
       "      <td>0</td>\n",
       "      <td>0</td>\n",
       "      <td>140</td>\n",
       "      <td>394</td>\n",
       "      <td>0</td>\n",
       "      <td>0</td>\n",
       "      <td>157</td>\n",
       "      <td>0</td>\n",
       "      <td>1.2</td>\n",
       "      <td>1</td>\n",
       "      <td>0</td>\n",
       "      <td>2</td>\n",
       "      <td>1</td>\n",
       "    </tr>\n",
       "    <tr>\n",
       "      <th>142</th>\n",
       "      <td>42</td>\n",
       "      <td>0</td>\n",
       "      <td>2</td>\n",
       "      <td>120</td>\n",
       "      <td>209</td>\n",
       "      <td>0</td>\n",
       "      <td>1</td>\n",
       "      <td>173</td>\n",
       "      <td>0</td>\n",
       "      <td>0.0</td>\n",
       "      <td>1</td>\n",
       "      <td>0</td>\n",
       "      <td>2</td>\n",
       "      <td>1</td>\n",
       "    </tr>\n",
       "    <tr>\n",
       "      <th>80</th>\n",
       "      <td>41</td>\n",
       "      <td>1</td>\n",
       "      <td>2</td>\n",
       "      <td>112</td>\n",
       "      <td>250</td>\n",
       "      <td>0</td>\n",
       "      <td>1</td>\n",
       "      <td>179</td>\n",
       "      <td>0</td>\n",
       "      <td>0.0</td>\n",
       "      <td>2</td>\n",
       "      <td>0</td>\n",
       "      <td>2</td>\n",
       "      <td>1</td>\n",
       "    </tr>\n",
       "  </tbody>\n",
       "</table>\n",
       "</div>"
      ],
      "text/plain": [
       "     age  sex  cp  trtbps  chol  fbs  restecg  thalach  exng  oldpeak  slp  \\\n",
       "96    62    0   0     140   394    0        0      157     0      1.2    1   \n",
       "142   42    0   2     120   209    0        1      173     0      0.0    1   \n",
       "80    41    1   2     112   250    0        1      179     0      0.0    2   \n",
       "\n",
       "     ca  thal  output  \n",
       "96    0     2       1  \n",
       "142   0     2       1  \n",
       "80    0     2       1  "
      ]
     },
     "execution_count": 7,
     "metadata": {},
     "output_type": "execute_result"
    }
   ],
   "source": [
    "# Split the dataset with a ratio of 8:2\n",
    "dataframe_val = dataframe.sample(frac=0.2, random_state=1337)\n",
    "dataframe_val.head(3)"
   ]
  },
  {
   "cell_type": "code",
   "execution_count": 8,
   "id": "e389a5b0",
   "metadata": {},
   "outputs": [
    {
     "data": {
      "text/html": [
       "<div>\n",
       "<style scoped>\n",
       "    .dataframe tbody tr th:only-of-type {\n",
       "        vertical-align: middle;\n",
       "    }\n",
       "\n",
       "    .dataframe tbody tr th {\n",
       "        vertical-align: top;\n",
       "    }\n",
       "\n",
       "    .dataframe thead th {\n",
       "        text-align: right;\n",
       "    }\n",
       "</style>\n",
       "<table border=\"1\" class=\"dataframe\">\n",
       "  <thead>\n",
       "    <tr style=\"text-align: right;\">\n",
       "      <th></th>\n",
       "      <th>age</th>\n",
       "      <th>sex</th>\n",
       "      <th>cp</th>\n",
       "      <th>trtbps</th>\n",
       "      <th>chol</th>\n",
       "      <th>fbs</th>\n",
       "      <th>restecg</th>\n",
       "      <th>thalach</th>\n",
       "      <th>exng</th>\n",
       "      <th>oldpeak</th>\n",
       "      <th>slp</th>\n",
       "      <th>ca</th>\n",
       "      <th>thal</th>\n",
       "      <th>output</th>\n",
       "    </tr>\n",
       "  </thead>\n",
       "  <tbody>\n",
       "    <tr>\n",
       "      <th>0</th>\n",
       "      <td>63</td>\n",
       "      <td>1</td>\n",
       "      <td>3</td>\n",
       "      <td>145</td>\n",
       "      <td>233</td>\n",
       "      <td>1</td>\n",
       "      <td>0</td>\n",
       "      <td>150</td>\n",
       "      <td>0</td>\n",
       "      <td>2.3</td>\n",
       "      <td>0</td>\n",
       "      <td>0</td>\n",
       "      <td>1</td>\n",
       "      <td>1</td>\n",
       "    </tr>\n",
       "    <tr>\n",
       "      <th>1</th>\n",
       "      <td>37</td>\n",
       "      <td>1</td>\n",
       "      <td>2</td>\n",
       "      <td>130</td>\n",
       "      <td>250</td>\n",
       "      <td>0</td>\n",
       "      <td>1</td>\n",
       "      <td>187</td>\n",
       "      <td>0</td>\n",
       "      <td>3.5</td>\n",
       "      <td>0</td>\n",
       "      <td>0</td>\n",
       "      <td>2</td>\n",
       "      <td>1</td>\n",
       "    </tr>\n",
       "    <tr>\n",
       "      <th>3</th>\n",
       "      <td>56</td>\n",
       "      <td>1</td>\n",
       "      <td>1</td>\n",
       "      <td>120</td>\n",
       "      <td>236</td>\n",
       "      <td>0</td>\n",
       "      <td>1</td>\n",
       "      <td>178</td>\n",
       "      <td>0</td>\n",
       "      <td>0.8</td>\n",
       "      <td>2</td>\n",
       "      <td>0</td>\n",
       "      <td>2</td>\n",
       "      <td>1</td>\n",
       "    </tr>\n",
       "  </tbody>\n",
       "</table>\n",
       "</div>"
      ],
      "text/plain": [
       "   age  sex  cp  trtbps  chol  fbs  restecg  thalach  exng  oldpeak  slp  ca  \\\n",
       "0   63    1   3     145   233    1        0      150     0      2.3    0   0   \n",
       "1   37    1   2     130   250    0        1      187     0      3.5    0   0   \n",
       "3   56    1   1     120   236    0        1      178     0      0.8    2   0   \n",
       "\n",
       "   thal  output  \n",
       "0     1       1  \n",
       "1     2       1  \n",
       "3     2       1  "
      ]
     },
     "execution_count": 8,
     "metadata": {},
     "output_type": "execute_result"
    }
   ],
   "source": [
    "# Create training data\n",
    "dataframe_train = dataframe.drop(dataframe_val.index)\n",
    "dataframe_train.head(3)"
   ]
  },
  {
   "cell_type": "code",
   "execution_count": 11,
   "id": "da40a4bd",
   "metadata": {},
   "outputs": [
    {
     "name": "stdout",
     "output_type": "stream",
     "text": [
      "The size of the training dataset is:  242\n",
      "\n",
      "The size of the training dataset is:  61\n"
     ]
    }
   ],
   "source": [
    "# View the size of training and test sets\n",
    "# To ensure fair comparison, the size of the dataset should be consistent with the previous algorithm\n",
    "\n",
    "print(\"The size of the training dataset is: \", len(dataframe_train))\n",
    "print(\"\")\n",
    "print(\"The size of the training dataset is: \", len(dataframe_val))"
   ]
  },
  {
   "cell_type": "code",
   "execution_count": 12,
   "id": "fc7cccc1",
   "metadata": {},
   "outputs": [],
   "source": [
    "# Define a function to create our tensors\n",
    "\n",
    "# Wrap the dataframe with tf.data\n",
    "# map from the columns in the dataframe to the features used to train the model using the feature column as a bridge.\n",
    "\n",
    "# Parameter meaning\n",
    "# shuffle\n",
    "# batch_size\n",
    "#dataframe - df\n",
    "#dataset - ds\n",
    "\n",
    "# The function converts each training and verification set into tf.data.Dataset, and then performs shuffling and batch processing on the data\n",
    "\n",
    "# Create input pipeline\n",
    "# A utility method to create a tf.data dataset from a Pandas Dataframe\n",
    "def dataframe_to_dataset(dataframe, shuffle=True, batch_size=32):\n",
    "  \n",
    "  # Make a copy of the index and data of this object\n",
    "  # Deep=True (default): A new object will be created using a copy of the data and index of the calling object.\n",
    "  dataframe = dataframe.copy()\n",
    "\n",
    "  # Set Output Label\n",
    "  labels = dataframe.pop('output')\n",
    "    \n",
    "  # Create tensors\n",
    "  ds = tf.data.Dataset.from_tensor_slices((dict(dataframe), labels))\n",
    "  if shuffle:\n",
    "    ds = ds.shuffle(buffer_size=len(dataframe))\n",
    "  ds = ds.batch(batch_size)\n",
    "  #dataframe = ds.prefetch(batch_size)\n",
    "  return ds"
   ]
  },
  {
   "cell_type": "code",
   "execution_count": 14,
   "id": "bb84a073",
   "metadata": {},
   "outputs": [],
   "source": [
    "# Specify the size of several pieces of data to be trained in the data set (batch_size)\n",
    "\n",
    "# Modifying the size of the batch_size value can gradually improve the accuracy of the model\n",
    "\n",
    "# Create tensor with batch size n\n",
    "\n",
    "batch_size = 5\n",
    "\n",
    "# Generate new training set \n",
    "ds_train = dataframe_to_dataset(dataframe_train, shuffle=True, batch_size=batch_size)\n",
    "\n",
    "# Generate new validation set\n",
    "ds_val = dataframe_to_dataset(dataframe_val, shuffle=True, batch_size=batch_size)"
   ]
  },
  {
   "cell_type": "code",
   "execution_count": 17,
   "id": "0c3cfedf",
   "metadata": {},
   "outputs": [
    {
     "name": "stdout",
     "output_type": "stream",
     "text": [
      "Every feature: ['age', 'sex', 'cp', 'trtbps', 'chol', 'fbs', 'restecg', 'thalach', 'exng', 'oldpeak', 'slp', 'ca', 'thal']\n",
      "=============\n",
      "A batch of ages: tf.Tensor([66 51 44 56 43], shape=(5,), dtype=int64)\n",
      "=============\n",
      "A batch of output: tf.Tensor([0 1 1 1 1], shape=(5,), dtype=int64)\n"
     ]
    }
   ],
   "source": [
    "# Take age as an example\n",
    "# The dataset returns a dictionary that maps the column name (from dataframe) to the column value of the row in dataframe\n",
    "\n",
    "for feature_batch, label_batch in ds_train.take(1):\n",
    "  # Output all features\n",
    "  print('Every feature:', list(feature_batch.keys()))\n",
    "  print('=============')\n",
    "  # Tensors can be understood as a group of randomly selected data (n means n data if the tensor size is n)\n",
    "  print('A batch of ages:', feature_batch['age'])\n",
    "  print('=============')\n",
    "# n output data corresponding to (one-to-one) tensor data\n",
    "# n input data correspond to n output data\n",
    "  print('A batch of output:', label_batch )"
   ]
  },
  {
   "cell_type": "code",
   "execution_count": 18,
   "id": "a07b123d",
   "metadata": {},
   "outputs": [],
   "source": [
    "# Batch Characteristic Columns\n",
    "# Different types of data correspond to different processing methods\n",
    "example_batch = next(iter(ds_train))[0]\n",
    "\n",
    "# Create characteristic columns and convert batch data\n",
    "def demo(feature_column):\n",
    "  feature_layer = layers.DenseFeatures(feature_column)\n",
    "  print(feature_layer(example_batch).numpy())"
   ]
  },
  {
   "cell_type": "markdown",
   "id": "654b7b8a",
   "metadata": {},
   "source": [
    "### 1. Continuous data (5)"
   ]
  },
  {
   "cell_type": "code",
   "execution_count": 19,
   "id": "ca46d3ea",
   "metadata": {},
   "outputs": [
    {
     "name": "stdout",
     "output_type": "stream",
     "text": [
      "[[43.]\n",
      " [54.]\n",
      " [41.]\n",
      " [57.]\n",
      " [68.]]\n"
     ]
    }
   ],
   "source": [
    "# age\n",
    "age_count = feature_column.numeric_column('age')\n",
    "\n",
    "demo(age_count)"
   ]
  },
  {
   "cell_type": "code",
   "execution_count": 20,
   "id": "f9267161",
   "metadata": {},
   "outputs": [
    {
     "name": "stdout",
     "output_type": "stream",
     "text": [
      "[[132.]\n",
      " [108.]\n",
      " [130.]\n",
      " [150.]\n",
      " [180.]]\n"
     ]
    }
   ],
   "source": [
    "# trtbps\n",
    "trtbps_count = feature_column.numeric_column('trtbps')\n",
    "\n",
    "demo(trtbps_count)"
   ]
  },
  {
   "cell_type": "code",
   "execution_count": 21,
   "id": "5ba34a15",
   "metadata": {},
   "outputs": [
    {
     "name": "stdout",
     "output_type": "stream",
     "text": [
      "[[247.]\n",
      " [309.]\n",
      " [214.]\n",
      " [276.]\n",
      " [274.]]\n"
     ]
    }
   ],
   "source": [
    "# chol\n",
    "chol_count = feature_column.numeric_column('chol')\n",
    "\n",
    "demo(chol_count)"
   ]
  },
  {
   "cell_type": "code",
   "execution_count": 22,
   "id": "3ad5ba80",
   "metadata": {},
   "outputs": [
    {
     "name": "stdout",
     "output_type": "stream",
     "text": [
      "[[143.]\n",
      " [156.]\n",
      " [168.]\n",
      " [112.]\n",
      " [150.]]\n"
     ]
    }
   ],
   "source": [
    "# thalach\n",
    "thalach_count = feature_column.numeric_column('thalach')\n",
    "\n",
    "demo(thalach_count)"
   ]
  },
  {
   "cell_type": "code",
   "execution_count": 24,
   "id": "6754ddaa",
   "metadata": {},
   "outputs": [
    {
     "name": "stdout",
     "output_type": "stream",
     "text": [
      "[[0.1]\n",
      " [0. ]\n",
      " [2. ]\n",
      " [0.6]\n",
      " [1.6]]\n"
     ]
    }
   ],
   "source": [
    "# oldpeak\n",
    "oldpeak_count = feature_column.numeric_column('oldpeak')\n",
    "\n",
    "demo(oldpeak_count)"
   ]
  },
  {
   "cell_type": "markdown",
   "id": "26d45026",
   "metadata": {},
   "source": [
    "### 2. Bucketized data (age)"
   ]
  },
  {
   "cell_type": "code",
   "execution_count": 36,
   "id": "c33dff4a",
   "metadata": {},
   "outputs": [
    {
     "name": "stdout",
     "output_type": "stream",
     "text": [
      "[[0. 0. 0. 0. 0. 1. 0. 0. 0. 0. 0.]\n",
      " [0. 0. 0. 0. 0. 0. 0. 1. 0. 0. 0.]\n",
      " [0. 0. 0. 0. 0. 1. 0. 0. 0. 0. 0.]\n",
      " [0. 0. 0. 0. 0. 0. 0. 0. 1. 0. 0.]\n",
      " [0. 0. 0. 0. 0. 0. 0. 0. 0. 0. 1.]]\n"
     ]
    }
   ],
   "source": [
    "# Manually divide age into multiple groups\n",
    "age = feature_column.numeric_column('age')\n",
    "age_buckets = feature_column.bucketized_column(age, boundaries=[18, 25, 30, 35, 40, 45, 50, 55, 60, 65])\n",
    "demo(age_buckets)"
   ]
  },
  {
   "cell_type": "markdown",
   "id": "7419134e",
   "metadata": {},
   "source": [
    "### 3. Discontinuous data (8)"
   ]
  },
  {
   "cell_type": "code",
   "execution_count": 25,
   "id": "e1da703f",
   "metadata": {},
   "outputs": [
    {
     "name": "stdout",
     "output_type": "stream",
     "text": [
      "[[0. 1.]\n",
      " [0. 1.]\n",
      " [0. 1.]\n",
      " [0. 1.]\n",
      " [0. 1.]]\n"
     ]
    }
   ],
   "source": [
    "# sex\n",
    "sex_type = feature_column.categorical_column_with_vocabulary_list(\n",
    "      'sex', [0, 1])\n",
    "\n",
    "sex_type_one_hot = feature_column.indicator_column(sex_type)\n",
    "demo(sex_type_one_hot)"
   ]
  },
  {
   "cell_type": "code",
   "execution_count": 37,
   "id": "bd6691af",
   "metadata": {},
   "outputs": [
    {
     "name": "stdout",
     "output_type": "stream",
     "text": [
      "[[0. 1.]\n",
      " [1. 0.]\n",
      " [1. 0.]\n",
      " [1. 0.]\n",
      " [0. 1.]]\n"
     ]
    }
   ],
   "source": [
    "# fbs\n",
    "fbs_type = feature_column.categorical_column_with_vocabulary_list(\n",
    "      'fbs', [0, 1])\n",
    "\n",
    "fbs_type_one_hot = feature_column.indicator_column(fbs_type)\n",
    "demo(fbs_type_one_hot)"
   ]
  },
  {
   "cell_type": "code",
   "execution_count": 26,
   "id": "9322fc8d",
   "metadata": {},
   "outputs": [
    {
     "name": "stdout",
     "output_type": "stream",
     "text": [
      "[[0. 1.]\n",
      " [1. 0.]\n",
      " [1. 0.]\n",
      " [0. 1.]\n",
      " [0. 1.]]\n"
     ]
    }
   ],
   "source": [
    "# exng\n",
    "exng_type = feature_column.categorical_column_with_vocabulary_list(\n",
    "      'exng', [0, 1])\n",
    "\n",
    "exng_type_one_hot = feature_column.indicator_column(exng_type)\n",
    "demo(exng_type_one_hot)"
   ]
  },
  {
   "cell_type": "code",
   "execution_count": 27,
   "id": "45387d1a",
   "metadata": {},
   "outputs": [
    {
     "name": "stdout",
     "output_type": "stream",
     "text": [
      "[[1. 0. 0. 0.]\n",
      " [0. 1. 0. 0.]\n",
      " [0. 0. 1. 0.]\n",
      " [1. 0. 0. 0.]\n",
      " [0. 0. 1. 0.]]\n"
     ]
    }
   ],
   "source": [
    "# cp\n",
    "cp_type = feature_column.categorical_column_with_vocabulary_list(\n",
    "      'cp', [0, 1, 2, 3])\n",
    "\n",
    "cp_type_one_hot = feature_column.indicator_column(cp_type)\n",
    "demo(cp_type_one_hot)"
   ]
  },
  {
   "cell_type": "code",
   "execution_count": 28,
   "id": "78d96866",
   "metadata": {},
   "outputs": [
    {
     "name": "stdout",
     "output_type": "stream",
     "text": [
      "[[1. 0. 0.]\n",
      " [0. 1. 0.]\n",
      " [1. 0. 0.]\n",
      " [1. 0. 0.]\n",
      " [1. 0. 0.]]\n"
     ]
    }
   ],
   "source": [
    "# restecg\n",
    "restecg_type = feature_column.categorical_column_with_vocabulary_list(\n",
    "      'restecg', [0, 1, 2])\n",
    "\n",
    "restecg_type_one_hot = feature_column.indicator_column(restecg_type)\n",
    "demo(restecg_type_one_hot)"
   ]
  },
  {
   "cell_type": "code",
   "execution_count": 29,
   "id": "43592f31",
   "metadata": {},
   "outputs": [
    {
     "name": "stdout",
     "output_type": "stream",
     "text": [
      "[[0. 1. 0.]\n",
      " [0. 0. 1.]\n",
      " [0. 1. 0.]\n",
      " [0. 1. 0.]\n",
      " [0. 1. 0.]]\n"
     ]
    }
   ],
   "source": [
    "# slp\n",
    "slp_type = feature_column.categorical_column_with_vocabulary_list(\n",
    "      'slp', [0, 1, 2])\n",
    "\n",
    "slp_type_one_hot = feature_column.indicator_column(slp_type)\n",
    "demo(slp_type_one_hot)"
   ]
  },
  {
   "cell_type": "code",
   "execution_count": 30,
   "id": "9a3f9daf",
   "metadata": {},
   "outputs": [
    {
     "name": "stdout",
     "output_type": "stream",
     "text": [
      "[[0. 0. 0. 1.]\n",
      " [1. 0. 0. 0.]\n",
      " [1. 0. 0. 0.]\n",
      " [0. 1. 0. 0.]\n",
      " [1. 0. 0. 0.]]\n"
     ]
    }
   ],
   "source": [
    "# ca\n",
    "ca_type = feature_column.categorical_column_with_vocabulary_list(\n",
    "      'ca', [0, 1, 2, 3])\n",
    "\n",
    "ca_type_one_hot = feature_column.indicator_column(ca_type)\n",
    "demo(ca_type_one_hot)"
   ]
  },
  {
   "cell_type": "code",
   "execution_count": 31,
   "id": "8512cc15",
   "metadata": {},
   "outputs": [
    {
     "name": "stdout",
     "output_type": "stream",
     "text": [
      "[[0. 0. 1.]\n",
      " [0. 0. 1.]\n",
      " [0. 1. 0.]\n",
      " [1. 0. 0.]\n",
      " [0. 0. 1.]]\n"
     ]
    }
   ],
   "source": [
    "# thal\n",
    "thal_type = feature_column.categorical_column_with_vocabulary_list(\n",
    "      'thal', [1, 2, 3])\n",
    "\n",
    "thal_type_one_hot = feature_column.indicator_column(thal_type)\n",
    "demo(thal_type_one_hot)"
   ]
  },
  {
   "cell_type": "code",
   "execution_count": 38,
   "id": "5631de6f",
   "metadata": {},
   "outputs": [],
   "source": [
    "# Create an empty feature column\n",
    "feature_columns = []\n",
    "\n",
    "# Continuous data (5)\n",
    "# numeric cols\n",
    "for header in ['age','trtbps','chol','thalach','oldpeak']:\n",
    "# for header in ['trtbps','chol','thalach','oldpeak']:\n",
    "  feature_columns.append(feature_column.numeric_column(header))\n",
    "\n",
    "indicator_column_names = ['sex','cp','fbs','restecg','exng','slp','ca','thal']\n",
    "for col_name in indicator_column_names:\n",
    "  categorical_column = feature_column.categorical_column_with_vocabulary_list(\n",
    "      col_name, dataframe[col_name].unique())\n",
    "  indicator_column = feature_column.indicator_column(categorical_column)\n",
    "  feature_columns.append(indicator_column)\n",
    "\n",
    "    \n",
    "# # Bucketized data (age)\n",
    "# # bucketized cols\n",
    "# age = feature_column.numeric_column('age')\n",
    "# age_buckets = feature_column.bucketized_column(age, boundaries=[18, 25, 30, 35, 40, 45, 50, 55, 60, 65])\n",
    "# feature_columns.append(age_buckets)\n",
    "\n",
    "# Discontinuous data (8)\n",
    "# indicator_columns"
   ]
  },
  {
   "cell_type": "code",
   "execution_count": 39,
   "id": "6d98336a",
   "metadata": {},
   "outputs": [],
   "source": [
    "# Use DenseFeatures layer to input feature columns into Keras model\n",
    "feature_layer = tf.keras.layers.DenseFeatures(feature_columns)"
   ]
  },
  {
   "cell_type": "code",
   "execution_count": 66,
   "id": "a503cbd0",
   "metadata": {},
   "outputs": [],
   "source": [
    "# Create tensor with batch size of 32\n",
    "\n",
    "# Set tensor to 32\n",
    "batch_size = 32\n",
    "\n",
    "# Generate new training set \n",
    "ds_train = dataframe_to_dataset(dataframe_train, shuffle=True, batch_size=batch_size)\n",
    "\n",
    "# Generate new validation set\n",
    "ds_val = dataframe_to_dataset(dataframe_val, shuffle=True, batch_size=batch_size)"
   ]
  },
  {
   "cell_type": "code",
   "execution_count": 69,
   "id": "5628148f",
   "metadata": {},
   "outputs": [
    {
     "name": "stdout",
     "output_type": "stream",
     "text": [
      "Epoch 1/50\n",
      "WARNING:tensorflow:Layers in a Sequential model should only have a single input tensor. Received: inputs={'age': <tf.Tensor 'IteratorGetNext:0' shape=(None,) dtype=int64>, 'sex': <tf.Tensor 'IteratorGetNext:8' shape=(None,) dtype=int64>, 'cp': <tf.Tensor 'IteratorGetNext:3' shape=(None,) dtype=int64>, 'trtbps': <tf.Tensor 'IteratorGetNext:12' shape=(None,) dtype=int64>, 'chol': <tf.Tensor 'IteratorGetNext:2' shape=(None,) dtype=int64>, 'fbs': <tf.Tensor 'IteratorGetNext:5' shape=(None,) dtype=int64>, 'restecg': <tf.Tensor 'IteratorGetNext:7' shape=(None,) dtype=int64>, 'thalach': <tf.Tensor 'IteratorGetNext:11' shape=(None,) dtype=int64>, 'exng': <tf.Tensor 'IteratorGetNext:4' shape=(None,) dtype=int64>, 'oldpeak': <tf.Tensor 'IteratorGetNext:6' shape=(None,) dtype=float64>, 'slp': <tf.Tensor 'IteratorGetNext:9' shape=(None,) dtype=int64>, 'ca': <tf.Tensor 'IteratorGetNext:1' shape=(None,) dtype=int64>, 'thal': <tf.Tensor 'IteratorGetNext:10' shape=(None,) dtype=int64>}. Consider rewriting this model with the Functional API.\n",
      "WARNING:tensorflow:Layers in a Sequential model should only have a single input tensor. Received: inputs={'age': <tf.Tensor 'IteratorGetNext:0' shape=(None,) dtype=int64>, 'sex': <tf.Tensor 'IteratorGetNext:8' shape=(None,) dtype=int64>, 'cp': <tf.Tensor 'IteratorGetNext:3' shape=(None,) dtype=int64>, 'trtbps': <tf.Tensor 'IteratorGetNext:12' shape=(None,) dtype=int64>, 'chol': <tf.Tensor 'IteratorGetNext:2' shape=(None,) dtype=int64>, 'fbs': <tf.Tensor 'IteratorGetNext:5' shape=(None,) dtype=int64>, 'restecg': <tf.Tensor 'IteratorGetNext:7' shape=(None,) dtype=int64>, 'thalach': <tf.Tensor 'IteratorGetNext:11' shape=(None,) dtype=int64>, 'exng': <tf.Tensor 'IteratorGetNext:4' shape=(None,) dtype=int64>, 'oldpeak': <tf.Tensor 'IteratorGetNext:6' shape=(None,) dtype=float64>, 'slp': <tf.Tensor 'IteratorGetNext:9' shape=(None,) dtype=int64>, 'ca': <tf.Tensor 'IteratorGetNext:1' shape=(None,) dtype=int64>, 'thal': <tf.Tensor 'IteratorGetNext:10' shape=(None,) dtype=int64>}. Consider rewriting this model with the Functional API.\n",
      "1/8 [==>...........................] - ETA: 10s - loss: 28.7033 - accuracy: 0.4062WARNING:tensorflow:Layers in a Sequential model should only have a single input tensor. Received: inputs={'age': <tf.Tensor 'IteratorGetNext:0' shape=(None,) dtype=int64>, 'sex': <tf.Tensor 'IteratorGetNext:8' shape=(None,) dtype=int64>, 'cp': <tf.Tensor 'IteratorGetNext:3' shape=(None,) dtype=int64>, 'trtbps': <tf.Tensor 'IteratorGetNext:12' shape=(None,) dtype=int64>, 'chol': <tf.Tensor 'IteratorGetNext:2' shape=(None,) dtype=int64>, 'fbs': <tf.Tensor 'IteratorGetNext:5' shape=(None,) dtype=int64>, 'restecg': <tf.Tensor 'IteratorGetNext:7' shape=(None,) dtype=int64>, 'thalach': <tf.Tensor 'IteratorGetNext:11' shape=(None,) dtype=int64>, 'exng': <tf.Tensor 'IteratorGetNext:4' shape=(None,) dtype=int64>, 'oldpeak': <tf.Tensor 'IteratorGetNext:6' shape=(None,) dtype=float64>, 'slp': <tf.Tensor 'IteratorGetNext:9' shape=(None,) dtype=int64>, 'ca': <tf.Tensor 'IteratorGetNext:1' shape=(None,) dtype=int64>, 'thal': <tf.Tensor 'IteratorGetNext:10' shape=(None,) dtype=int64>}. Consider rewriting this model with the Functional API.\n",
      "8/8 [==============================] - 2s 81ms/step - loss: 12.1008 - accuracy: 0.4669 - val_loss: 8.7659 - val_accuracy: 0.3770\n",
      "Epoch 2/50\n",
      "8/8 [==============================] - 0s 6ms/step - loss: 5.1810 - accuracy: 0.4959 - val_loss: 2.4431 - val_accuracy: 0.6230\n",
      "Epoch 3/50\n",
      "8/8 [==============================] - 0s 5ms/step - loss: 4.1343 - accuracy: 0.4917 - val_loss: 2.1293 - val_accuracy: 0.4754\n",
      "Epoch 4/50\n",
      "8/8 [==============================] - 0s 5ms/step - loss: 2.5413 - accuracy: 0.6240 - val_loss: 1.6968 - val_accuracy: 0.7049\n",
      "Epoch 5/50\n",
      "8/8 [==============================] - 0s 6ms/step - loss: 2.2718 - accuracy: 0.6446 - val_loss: 1.8028 - val_accuracy: 0.6885\n",
      "Epoch 6/50\n",
      "8/8 [==============================] - 0s 6ms/step - loss: 2.4842 - accuracy: 0.6198 - val_loss: 1.8066 - val_accuracy: 0.7049\n",
      "Epoch 7/50\n",
      "8/8 [==============================] - 0s 6ms/step - loss: 2.3097 - accuracy: 0.6033 - val_loss: 1.5113 - val_accuracy: 0.7213\n",
      "Epoch 8/50\n",
      "8/8 [==============================] - 0s 6ms/step - loss: 2.1332 - accuracy: 0.5826 - val_loss: 1.2912 - val_accuracy: 0.7049\n",
      "Epoch 9/50\n",
      "8/8 [==============================] - 0s 5ms/step - loss: 2.2488 - accuracy: 0.5909 - val_loss: 1.1803 - val_accuracy: 0.6557\n",
      "Epoch 10/50\n",
      "8/8 [==============================] - 0s 5ms/step - loss: 2.3733 - accuracy: 0.5579 - val_loss: 0.9956 - val_accuracy: 0.7377\n",
      "Epoch 11/50\n",
      "8/8 [==============================] - 0s 5ms/step - loss: 1.7863 - accuracy: 0.6116 - val_loss: 1.4182 - val_accuracy: 0.6557\n",
      "Epoch 12/50\n",
      "8/8 [==============================] - 0s 5ms/step - loss: 1.7563 - accuracy: 0.6405 - val_loss: 1.1521 - val_accuracy: 0.6721\n",
      "Epoch 13/50\n",
      "8/8 [==============================] - 0s 5ms/step - loss: 1.8237 - accuracy: 0.6198 - val_loss: 1.2045 - val_accuracy: 0.7377\n",
      "Epoch 14/50\n",
      "8/8 [==============================] - 0s 5ms/step - loss: 1.2592 - accuracy: 0.6364 - val_loss: 1.1518 - val_accuracy: 0.7541\n",
      "Epoch 15/50\n",
      "8/8 [==============================] - 0s 5ms/step - loss: 1.3995 - accuracy: 0.6157 - val_loss: 1.0049 - val_accuracy: 0.7049\n",
      "Epoch 16/50\n",
      "8/8 [==============================] - 0s 5ms/step - loss: 1.0771 - accuracy: 0.6860 - val_loss: 0.9835 - val_accuracy: 0.7377\n",
      "Epoch 17/50\n",
      "8/8 [==============================] - 0s 5ms/step - loss: 1.3297 - accuracy: 0.6405 - val_loss: 1.1026 - val_accuracy: 0.6885\n",
      "Epoch 18/50\n",
      "8/8 [==============================] - 0s 5ms/step - loss: 1.0633 - accuracy: 0.6694 - val_loss: 0.5672 - val_accuracy: 0.8033\n",
      "Epoch 19/50\n",
      "8/8 [==============================] - 0s 5ms/step - loss: 0.8837 - accuracy: 0.6529 - val_loss: 0.7145 - val_accuracy: 0.7541\n",
      "Epoch 20/50\n",
      "8/8 [==============================] - 0s 5ms/step - loss: 0.8558 - accuracy: 0.6736 - val_loss: 0.6377 - val_accuracy: 0.7705\n",
      "Epoch 21/50\n",
      "8/8 [==============================] - 0s 5ms/step - loss: 0.6967 - accuracy: 0.6860 - val_loss: 0.8079 - val_accuracy: 0.7377\n",
      "Epoch 22/50\n",
      "8/8 [==============================] - 0s 5ms/step - loss: 0.6108 - accuracy: 0.6860 - val_loss: 0.6170 - val_accuracy: 0.7705\n",
      "Epoch 23/50\n",
      "8/8 [==============================] - 0s 6ms/step - loss: 0.6002 - accuracy: 0.7107 - val_loss: 0.5696 - val_accuracy: 0.7869\n",
      "Epoch 24/50\n",
      "8/8 [==============================] - 0s 5ms/step - loss: 0.4977 - accuracy: 0.7851 - val_loss: 0.5469 - val_accuracy: 0.8197\n",
      "Epoch 25/50\n",
      "8/8 [==============================] - 0s 6ms/step - loss: 0.5517 - accuracy: 0.7314 - val_loss: 0.5350 - val_accuracy: 0.7869\n",
      "Epoch 26/50\n",
      "8/8 [==============================] - 0s 6ms/step - loss: 0.5594 - accuracy: 0.7397 - val_loss: 0.5897 - val_accuracy: 0.8033\n",
      "Epoch 27/50\n",
      "8/8 [==============================] - 0s 5ms/step - loss: 0.4927 - accuracy: 0.7397 - val_loss: 0.5645 - val_accuracy: 0.7869\n",
      "Epoch 28/50\n",
      "8/8 [==============================] - 0s 5ms/step - loss: 0.4511 - accuracy: 0.7934 - val_loss: 0.6338 - val_accuracy: 0.7541\n",
      "Epoch 29/50\n",
      "8/8 [==============================] - 0s 5ms/step - loss: 0.4760 - accuracy: 0.7479 - val_loss: 0.5094 - val_accuracy: 0.8033\n",
      "Epoch 30/50\n",
      "8/8 [==============================] - 0s 5ms/step - loss: 0.4786 - accuracy: 0.7810 - val_loss: 0.5093 - val_accuracy: 0.7705\n",
      "Epoch 31/50\n",
      "8/8 [==============================] - 0s 5ms/step - loss: 0.4482 - accuracy: 0.7562 - val_loss: 0.4776 - val_accuracy: 0.8033\n",
      "Epoch 32/50\n",
      "8/8 [==============================] - 0s 5ms/step - loss: 0.4773 - accuracy: 0.7314 - val_loss: 0.5506 - val_accuracy: 0.7705\n",
      "Epoch 33/50\n",
      "8/8 [==============================] - 0s 5ms/step - loss: 0.5109 - accuracy: 0.7314 - val_loss: 0.4691 - val_accuracy: 0.8361\n",
      "Epoch 34/50\n",
      "8/8 [==============================] - 0s 6ms/step - loss: 0.4121 - accuracy: 0.7975 - val_loss: 0.4482 - val_accuracy: 0.8525\n",
      "Epoch 35/50\n",
      "8/8 [==============================] - 0s 6ms/step - loss: 0.4023 - accuracy: 0.7934 - val_loss: 0.4583 - val_accuracy: 0.8525\n",
      "Epoch 36/50\n",
      "8/8 [==============================] - 0s 5ms/step - loss: 0.4633 - accuracy: 0.7810 - val_loss: 0.4723 - val_accuracy: 0.8197\n"
     ]
    },
    {
     "name": "stdout",
     "output_type": "stream",
     "text": [
      "Epoch 37/50\n",
      "8/8 [==============================] - 0s 5ms/step - loss: 0.4158 - accuracy: 0.8099 - val_loss: 0.4851 - val_accuracy: 0.7869\n",
      "Epoch 38/50\n",
      "8/8 [==============================] - 0s 5ms/step - loss: 0.3521 - accuracy: 0.8347 - val_loss: 0.5450 - val_accuracy: 0.8361\n",
      "Epoch 39/50\n",
      "8/8 [==============================] - 0s 6ms/step - loss: 0.4258 - accuracy: 0.8099 - val_loss: 0.7031 - val_accuracy: 0.6885\n",
      "Epoch 40/50\n",
      "8/8 [==============================] - 0s 6ms/step - loss: 0.4685 - accuracy: 0.7355 - val_loss: 0.5031 - val_accuracy: 0.8197\n",
      "Epoch 41/50\n",
      "8/8 [==============================] - 0s 6ms/step - loss: 0.4074 - accuracy: 0.8099 - val_loss: 0.4541 - val_accuracy: 0.8361\n",
      "Epoch 42/50\n",
      "8/8 [==============================] - 0s 5ms/step - loss: 0.3841 - accuracy: 0.7851 - val_loss: 0.4361 - val_accuracy: 0.7869\n",
      "Epoch 43/50\n",
      "8/8 [==============================] - 0s 6ms/step - loss: 0.4162 - accuracy: 0.7975 - val_loss: 0.4669 - val_accuracy: 0.8197\n",
      "Epoch 44/50\n",
      "8/8 [==============================] - 0s 6ms/step - loss: 0.4442 - accuracy: 0.7975 - val_loss: 0.5040 - val_accuracy: 0.8197\n",
      "Epoch 45/50\n",
      "8/8 [==============================] - 0s 6ms/step - loss: 0.4511 - accuracy: 0.7810 - val_loss: 0.4783 - val_accuracy: 0.7869\n",
      "Epoch 46/50\n",
      "8/8 [==============================] - 0s 5ms/step - loss: 0.3782 - accuracy: 0.8306 - val_loss: 0.4789 - val_accuracy: 0.7869\n",
      "Epoch 47/50\n",
      "8/8 [==============================] - 0s 5ms/step - loss: 0.3619 - accuracy: 0.8430 - val_loss: 0.4097 - val_accuracy: 0.8033\n",
      "Epoch 48/50\n",
      "8/8 [==============================] - 0s 5ms/step - loss: 0.3866 - accuracy: 0.8140 - val_loss: 0.4509 - val_accuracy: 0.8361\n",
      "Epoch 49/50\n",
      "8/8 [==============================] - 0s 5ms/step - loss: 0.3584 - accuracy: 0.8223 - val_loss: 0.4300 - val_accuracy: 0.8525\n",
      "Epoch 50/50\n",
      "8/8 [==============================] - 0s 5ms/step - loss: 0.3847 - accuracy: 0.8058 - val_loss: 0.5499 - val_accuracy: 0.8361\n"
     ]
    },
    {
     "data": {
      "text/plain": [
       "<keras.callbacks.History at 0x2198755c9a0>"
      ]
     },
     "execution_count": 69,
     "metadata": {},
     "output_type": "execute_result"
    }
   ],
   "source": [
    "# Creating, compiling, and training models\n",
    "model = tf.keras.Sequential([\n",
    "  feature_layer,\n",
    "  layers.Dense(128, activation='relu'),\n",
    "  layers.Dense(128, activation='relu'),\n",
    "  layers.Dropout(.1),\n",
    "  layers.Dense(1)\n",
    "])\n",
    "\n",
    "model.compile(optimizer='adam',\n",
    "              loss=tf.keras.losses.BinaryCrossentropy(from_logits=True),\n",
    "              metrics=['accuracy'])\n",
    "\n",
    "model.fit(ds_train,\n",
    "          validation_data=ds_val,\n",
    "          # Set cycle times of training process\n",
    "          epochs=50)"
   ]
  },
  {
   "cell_type": "code",
   "execution_count": 70,
   "id": "bdb90d39",
   "metadata": {},
   "outputs": [
    {
     "name": "stdout",
     "output_type": "stream",
     "text": [
      "2/2 [==============================] - 0s 6ms/step - loss: 0.5499 - accuracy: 0.8361\n",
      "Accuracy of tensorflow:  0.8360655903816223\n"
     ]
    }
   ],
   "source": [
    "# output test results\n",
    "\n",
    "loss, accuracy = model.evaluate(ds_val)\n",
    "\n",
    "# Lost of Tensorflow model\n",
    "# print(\"Lost of tensorflow: \", loss)\n",
    "\n",
    "# Accuracy of Tensorflow model\n",
    "print(\"Accuracy of tensorflow: \", accuracy)\n",
    "# print(\"Accuracy\", round(accuracy, 16))"
   ]
  },
  {
   "cell_type": "markdown",
   "id": "41cad65d",
   "metadata": {},
   "source": [
    "### Influence of epochs value on accuracy"
   ]
  },
  {
   "cell_type": "code",
   "execution_count": 72,
   "id": "427ed834",
   "metadata": {},
   "outputs": [
    {
     "data": {
      "image/png": "[encoded data removed]",
      "text/plain": [
       "<Figure size 864x504 with 1 Axes>"
      ]
     },
     "metadata": {
      "needs_background": "light"
     },
     "output_type": "display_data"
    }
   ],
   "source": [
    "tensorflow_epochs_accuracy = pd.DataFrame({\n",
    "    'Epochs' : [\n",
    "                 'epochs = 20', \n",
    "                 'epochs = 30', \n",
    "                 'epochs = 40', \n",
    "                 'epochs = 50', \n",
    "                 'epochs = 60'\n",
    "                ],\n",
    "    'Acc' : [\n",
    "               0.7213114500045776,\n",
    "               0.7868852615356445,\n",
    "               0.8196721076965332,\n",
    "               0.8852459192276001,\n",
    "               0.8688524365425111\n",
    "\n",
    "              ]\n",
    "})\n",
    "\n",
    "plt.figure(figsize = (12, 7))\n",
    "sns.barplot(x = 'Acc', y = 'Epochs', data = tensorflow_epochs_accuracy)\n",
    "\n",
    "# Set the title of the chart\n",
    "plt.title('Influence of epochs value on accuracy',fontsize = 16, fontweight = 'bold', alpha = 1)\n",
    "\n",
    "# Set the label of the axis\n",
    "plt.xlabel('Accuracy', fontsize = 16, labelpad=20)\n",
    "plt.ylabel('Epochs Value', fontsize = 16, labelpad=20)\n",
    "\n",
    "# Set Axis Precision\n",
    "my_x_ticks = np.arange(0.00, 1.20, 0.05)\n",
    "plt.xticks(my_x_ticks)\n",
    "\n",
    "# Set Axis Label Text Size\n",
    "plt.xticks(fontproperties = 'Times New Roman', size = 14)\n",
    "plt.yticks(fontproperties = 'Times New Roman', size = 14)\n",
    "\n",
    "# Display data\n",
    "plt.text(0.74, 0.04, '0.7213114500045776', size = 14)\n",
    "plt.text(0.80, 1.04, '0.7868852615356445', size = 14)\n",
    "plt.text(0.83, 2.04, '0.8196721076965332', size = 14)\n",
    "plt.text(0.885, 3.04, '0.8852459192276001', size = 14)\n",
    "plt.text(0.88, 4.04, '0.8688524365425111', size = 14)\n",
    "\n",
    "# Display chart\n",
    "plt.show()"
   ]
  },
  {
   "cell_type": "markdown",
   "id": "59705ba5",
   "metadata": {},
   "source": [
    "### Influence of batchsize value on accuracy"
   ]
  },
  {
   "cell_type": "code",
   "execution_count": 78,
   "id": "20843113",
   "metadata": {},
   "outputs": [
    {
     "data": {
      "image/png": "[encoded data removed]",
      "text/plain": [
       "<Figure size 864x504 with 1 Axes>"
      ]
     },
     "metadata": {
      "needs_background": "light"
     },
     "output_type": "display_data"
    }
   ],
   "source": [
    "tensorflow_batchsize_accuracy = pd.DataFrame({\n",
    "    'Batchsize' : [\n",
    "                 'batchsize = 16', \n",
    "                 'batchsize = 24', \n",
    "                 'batchsize = 32', \n",
    "                 'batchsize = 36', \n",
    "                 'batchsize = 48'\n",
    "                ],\n",
    "    'Acc' : [\n",
    "               0.8360655903816223,\n",
    "               0.8524590134620667,\n",
    "               0.8852459192276001,\n",
    "               0.8688524365425111,\n",
    "               0.8360655903816223,\n",
    "\n",
    "              ]\n",
    "})\n",
    "\n",
    "plt.figure(figsize = (12, 7))\n",
    "sns.barplot(x = 'Acc', y = 'Batchsize', data = tensorflow_batchsize_accuracy)\n",
    "\n",
    "# Set the title of the chart\n",
    "plt.title('Influence of batchsize value on accuracy',fontsize = 16, fontweight = 'bold', alpha = 1)\n",
    "\n",
    "# Set the label of the axis\n",
    "plt.xlabel('Accuracy', fontsize = 16, labelpad=20)\n",
    "plt.ylabel('Batchsize Value', fontsize = 16, labelpad=20)\n",
    "\n",
    "# Set Axis Precision\n",
    "my_x_ticks = np.arange(0.00, 1.20, 0.05)\n",
    "plt.xticks(my_x_ticks)\n",
    "\n",
    "# Set Axis Label Text Size\n",
    "plt.xticks(fontproperties = 'Times New Roman', size = 14)\n",
    "plt.yticks(fontproperties = 'Times New Roman', size = 14)\n",
    "\n",
    "# Display data\n",
    "plt.text(0.85, 0.04, '0.8360655903816223', size = 14)\n",
    "plt.text(0.87, 1.04, '0.8524590134620667', size = 14)\n",
    "plt.text(0.885, 2.04, '0.8852459192276001', size = 14)\n",
    "plt.text(0.88, 3.04, '0.8688524365425111', size = 14)\n",
    "plt.text(0.85, 4.04, '0.8360655903816223', size = 14)\n",
    "\n",
    "# Display chart\n",
    "plt.show()"
   ]
  },
  {
   "cell_type": "markdown",
   "id": "a8993b88",
   "metadata": {},
   "source": [
    "### Conclusion: The maximum accuracy of TensorFlow is 0.8852459192276001"
   ]
  }
 ],
 "metadata": {
  "kernelspec": {
   "display_name": "Python 3 (ipykernel)",
   "language": "python",
   "name": "python3"
  },
  "language_info": {
   "codemirror_mode": {
    "name": "ipython",
    "version": 3
   },
   "file_extension": ".py",
   "mimetype": "text/x-python",
   "name": "python",
   "nbconvert_exporter": "python",
   "pygments_lexer": "ipython3",
   "version": "3.9.12"
  }
 },
 "nbformat": 4,
 "nbformat_minor": 5
}
