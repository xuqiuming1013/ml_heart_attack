{
 "cells": [
  {
   "cell_type": "code",
   "execution_count": 168,
   "id": "aeb7e36e",
   "metadata": {},
   "outputs": [],
   "source": [
    "# global imports\n",
    "\n",
    "# Import Python extension library (mathematical function library)\n",
    "import numpy as np\n",
    "\n",
    "# Import Python data analysis tools\n",
    "import pandas as pd\n",
    "\n",
    "# Import Python data visualization library\n",
    "import seaborn as sns\n",
    "\n",
    "# Import matplotlib-based plotting tools\n",
    "import matplotlib.pyplot as plt\n",
    "\n",
    "# Import warning filter\n",
    "import warnings\n",
    "\n",
    "# Set the warning state to 'ignore'\n",
    "warnings.filterwarnings(\"ignore\")\n",
    "\n",
    "# Import Python data calculation tool\n",
    "import statistics\n",
    "\n",
    "# Scaling\n",
    "from sklearn.preprocessing import RobustScaler\n",
    "\n",
    "# Train Test Split\n",
    "from sklearn.model_selection import train_test_split\n",
    "\n",
    "# Models\n",
    "from sklearn.svm import SVC\n",
    "from sklearn.linear_model import LogisticRegression\n",
    "from sklearn.ensemble import RandomForestClassifier\n",
    "from sklearn.tree import DecisionTreeClassifier\n",
    "from sklearn.ensemble import GradientBoostingClassifier\n",
    "\n",
    "# Metrics\n",
    "from sklearn.metrics import accuracy_score, classification_report, roc_curve\n",
    "\n",
    "# Cross Validation\n",
    "from sklearn.model_selection import cross_val_score\n",
    "from sklearn.model_selection import GridSearchCV\n",
    "\n",
    "# KNN\n",
    "from sklearn.neighbors import KNeighborsClassifier\n",
    "\n",
    "# naive bayes\n",
    "from sklearn.naive_bayes import GaussianNB\n",
    "\n",
    "#decision tree\n",
    "from sklearn.tree import DecisionTreeClassifier\n",
    "\n",
    "# Confusing matrix and multiple confusing matrix\n",
    "from sklearn.metrics import confusion_matrix\n",
    "from sklearn.metrics import multilabel_confusion_matrix\n",
    "\n",
    "# Precision function\n",
    "from sklearn.metrics import precision_score\n",
    "\n",
    "# Recall function\n",
    "from sklearn.metrics import recall_score\n",
    "\n",
    "# F1 function\n",
    "from sklearn.metrics import f1_score\n",
    "\n",
    "# PR Curve\n",
    "from sklearn.metrics import precision_recall_curve\n",
    "\n",
    "# AP function Calculate AP value (area under PR Curve)\n",
    "from sklearn.metrics import average_precision_score\n",
    "\n",
    "# ROC Curve\n",
    "from sklearn.metrics import roc_curve\n",
    "\n",
    "# AUC function Calculate AUC value (area under ROC Curve)\n",
    "from sklearn.metrics import auc\n",
    "\n",
    "# Feature scaling\n",
    "from sklearn.preprocessing import MinMaxScaler\n",
    "from sklearn.preprocessing import StandardScaler\n",
    "\n",
    "# Cut Dataset\n",
    "from sklearn.model_selection import train_test_split\n",
    "\n",
    "# Evaluation indicator: logloss\n",
    "from sklearn.metrics import log_loss "
   ]
  },
  {
   "cell_type": "code",
   "execution_count": 5,
   "id": "1672bc49",
   "metadata": {},
   "outputs": [
    {
     "data": {
      "text/html": [
       "<div>\n",
       "<style scoped>\n",
       "    .dataframe tbody tr th:only-of-type {\n",
       "        vertical-align: middle;\n",
       "    }\n",
       "\n",
       "    .dataframe tbody tr th {\n",
       "        vertical-align: top;\n",
       "    }\n",
       "\n",
       "    .dataframe thead th {\n",
       "        text-align: right;\n",
       "    }\n",
       "</style>\n",
       "<table border=\"1\" class=\"dataframe\">\n",
       "  <thead>\n",
       "    <tr style=\"text-align: right;\">\n",
       "      <th></th>\n",
       "      <th>age</th>\n",
       "      <th>sex</th>\n",
       "      <th>cp</th>\n",
       "      <th>trtbps</th>\n",
       "      <th>chol</th>\n",
       "      <th>fbs</th>\n",
       "      <th>restecg</th>\n",
       "      <th>thalach</th>\n",
       "      <th>exng</th>\n",
       "      <th>oldpeak</th>\n",
       "      <th>slp</th>\n",
       "      <th>ca</th>\n",
       "      <th>thal</th>\n",
       "      <th>output</th>\n",
       "    </tr>\n",
       "  </thead>\n",
       "  <tbody>\n",
       "    <tr>\n",
       "      <th>0</th>\n",
       "      <td>63</td>\n",
       "      <td>1</td>\n",
       "      <td>3</td>\n",
       "      <td>145</td>\n",
       "      <td>233</td>\n",
       "      <td>1</td>\n",
       "      <td>0</td>\n",
       "      <td>150</td>\n",
       "      <td>0</td>\n",
       "      <td>2.3</td>\n",
       "      <td>0</td>\n",
       "      <td>0</td>\n",
       "      <td>1</td>\n",
       "      <td>1</td>\n",
       "    </tr>\n",
       "    <tr>\n",
       "      <th>1</th>\n",
       "      <td>37</td>\n",
       "      <td>1</td>\n",
       "      <td>2</td>\n",
       "      <td>130</td>\n",
       "      <td>250</td>\n",
       "      <td>0</td>\n",
       "      <td>1</td>\n",
       "      <td>187</td>\n",
       "      <td>0</td>\n",
       "      <td>3.5</td>\n",
       "      <td>0</td>\n",
       "      <td>0</td>\n",
       "      <td>2</td>\n",
       "      <td>1</td>\n",
       "    </tr>\n",
       "    <tr>\n",
       "      <th>2</th>\n",
       "      <td>41</td>\n",
       "      <td>0</td>\n",
       "      <td>1</td>\n",
       "      <td>130</td>\n",
       "      <td>204</td>\n",
       "      <td>0</td>\n",
       "      <td>0</td>\n",
       "      <td>172</td>\n",
       "      <td>0</td>\n",
       "      <td>1.4</td>\n",
       "      <td>2</td>\n",
       "      <td>0</td>\n",
       "      <td>2</td>\n",
       "      <td>1</td>\n",
       "    </tr>\n",
       "    <tr>\n",
       "      <th>3</th>\n",
       "      <td>56</td>\n",
       "      <td>1</td>\n",
       "      <td>1</td>\n",
       "      <td>120</td>\n",
       "      <td>236</td>\n",
       "      <td>0</td>\n",
       "      <td>1</td>\n",
       "      <td>178</td>\n",
       "      <td>0</td>\n",
       "      <td>0.8</td>\n",
       "      <td>2</td>\n",
       "      <td>0</td>\n",
       "      <td>2</td>\n",
       "      <td>1</td>\n",
       "    </tr>\n",
       "    <tr>\n",
       "      <th>4</th>\n",
       "      <td>57</td>\n",
       "      <td>0</td>\n",
       "      <td>0</td>\n",
       "      <td>120</td>\n",
       "      <td>354</td>\n",
       "      <td>0</td>\n",
       "      <td>1</td>\n",
       "      <td>163</td>\n",
       "      <td>1</td>\n",
       "      <td>0.6</td>\n",
       "      <td>2</td>\n",
       "      <td>0</td>\n",
       "      <td>2</td>\n",
       "      <td>1</td>\n",
       "    </tr>\n",
       "  </tbody>\n",
       "</table>\n",
       "</div>"
      ],
      "text/plain": [
       "   age  sex  cp  trtbps  chol  fbs  restecg  thalach  exng  oldpeak  slp  ca  \\\n",
       "0   63    1   3     145   233    1        0      150     0      2.3    0   0   \n",
       "1   37    1   2     130   250    0        1      187     0      3.5    0   0   \n",
       "2   41    0   1     130   204    0        0      172     0      1.4    2   0   \n",
       "3   56    1   1     120   236    0        1      178     0      0.8    2   0   \n",
       "4   57    0   0     120   354    0        1      163     1      0.6    2   0   \n",
       "\n",
       "   thal  output  \n",
       "0     1       1  \n",
       "1     2       1  \n",
       "2     2       1  \n",
       "3     2       1  \n",
       "4     2       1  "
      ]
     },
     "execution_count": 5,
     "metadata": {},
     "output_type": "execute_result"
    }
   ],
   "source": [
    "# read dataset\n",
    "\n",
    "# Create a dataframe for the dataset and import the data\n",
    "df_origin = pd.read_csv(\"../dataset/heartattack-dataset.csv\")\n",
    "\n",
    "# View the first five rows of the dataset\n",
    "df_origin.head()"
   ]
  },
  {
   "cell_type": "code",
   "execution_count": 6,
   "id": "91a45954",
   "metadata": {},
   "outputs": [
    {
     "name": "stdout",
     "output_type": "stream",
     "text": [
      "The categorial columns (discontinuous data) are :  ['sex', 'cp', 'fbs', 'restecg', 'exng', 'slp', 'ca', 'thal']\n",
      "The numerical columns (continuous data) are  :  ['age', 'trtbps', 'chol', 'thalach', 'oldpeak']\n",
      "The  target  variable  is  :  ['output']\n"
     ]
    }
   ],
   "source": [
    "# Classify the features in the database\n",
    "categorical_cols = ['sex','cp','fbs','restecg','exng','slp','ca','thal']\n",
    "numerical_cols = [\"age\",\"trtbps\",\"chol\",\"thalach\",\"oldpeak\"]\n",
    "target_col = [\"output\"]\n",
    "print(\"The categorial columns (discontinuous data) are : \", categorical_cols)\n",
    "print(\"The numerical columns (continuous data) are  : \", numerical_cols)\n",
    "print(\"The  target  variable  is  : \", target_col)"
   ]
  },
  {
   "cell_type": "code",
   "execution_count": 8,
   "id": "680ddeeb",
   "metadata": {},
   "outputs": [
    {
     "data": {
      "text/html": [
       "<div>\n",
       "<style scoped>\n",
       "    .dataframe tbody tr th:only-of-type {\n",
       "        vertical-align: middle;\n",
       "    }\n",
       "\n",
       "    .dataframe tbody tr th {\n",
       "        vertical-align: top;\n",
       "    }\n",
       "\n",
       "    .dataframe thead th {\n",
       "        text-align: right;\n",
       "    }\n",
       "</style>\n",
       "<table border=\"1\" class=\"dataframe\">\n",
       "  <thead>\n",
       "    <tr style=\"text-align: right;\">\n",
       "      <th></th>\n",
       "      <th>age</th>\n",
       "      <th>trtbps</th>\n",
       "      <th>chol</th>\n",
       "      <th>thalach</th>\n",
       "      <th>oldpeak</th>\n",
       "    </tr>\n",
       "  </thead>\n",
       "  <tbody>\n",
       "    <tr>\n",
       "      <th>0</th>\n",
       "      <td>63</td>\n",
       "      <td>145</td>\n",
       "      <td>233</td>\n",
       "      <td>150</td>\n",
       "      <td>2.3</td>\n",
       "    </tr>\n",
       "    <tr>\n",
       "      <th>1</th>\n",
       "      <td>37</td>\n",
       "      <td>130</td>\n",
       "      <td>250</td>\n",
       "      <td>187</td>\n",
       "      <td>3.5</td>\n",
       "    </tr>\n",
       "    <tr>\n",
       "      <th>2</th>\n",
       "      <td>41</td>\n",
       "      <td>130</td>\n",
       "      <td>204</td>\n",
       "      <td>172</td>\n",
       "      <td>1.4</td>\n",
       "    </tr>\n",
       "  </tbody>\n",
       "</table>\n",
       "</div>"
      ],
      "text/plain": [
       "   age  trtbps  chol  thalach  oldpeak\n",
       "0   63     145   233      150      2.3\n",
       "1   37     130   250      187      3.5\n",
       "2   41     130   204      172      1.4"
      ]
     },
     "execution_count": 8,
     "metadata": {},
     "output_type": "execute_result"
    }
   ],
   "source": [
    "# Features after classification\n",
    "\n",
    "# Discontinuous data\n",
    "# df_origin[categorical_cols].head(3)\n",
    "\n",
    "# Continuous data\n",
    "df_origin[numerical_cols].head(3)"
   ]
  },
  {
   "cell_type": "code",
   "execution_count": 10,
   "id": "9e5cbc23",
   "metadata": {},
   "outputs": [
    {
     "data": {
      "text/html": [
       "<div>\n",
       "<style scoped>\n",
       "    .dataframe tbody tr th:only-of-type {\n",
       "        vertical-align: middle;\n",
       "    }\n",
       "\n",
       "    .dataframe tbody tr th {\n",
       "        vertical-align: top;\n",
       "    }\n",
       "\n",
       "    .dataframe thead th {\n",
       "        text-align: right;\n",
       "    }\n",
       "</style>\n",
       "<table border=\"1\" class=\"dataframe\">\n",
       "  <thead>\n",
       "    <tr style=\"text-align: right;\">\n",
       "      <th></th>\n",
       "      <th>age</th>\n",
       "      <th>sex</th>\n",
       "      <th>cp</th>\n",
       "      <th>trtbps</th>\n",
       "      <th>chol</th>\n",
       "      <th>fbs</th>\n",
       "      <th>restecg</th>\n",
       "      <th>thalach</th>\n",
       "      <th>exng</th>\n",
       "      <th>oldpeak</th>\n",
       "      <th>slp</th>\n",
       "      <th>ca</th>\n",
       "      <th>thal</th>\n",
       "      <th>output</th>\n",
       "    </tr>\n",
       "  </thead>\n",
       "  <tbody>\n",
       "    <tr>\n",
       "      <th>0</th>\n",
       "      <td>63</td>\n",
       "      <td>1</td>\n",
       "      <td>3</td>\n",
       "      <td>145</td>\n",
       "      <td>233</td>\n",
       "      <td>1</td>\n",
       "      <td>0</td>\n",
       "      <td>150</td>\n",
       "      <td>0</td>\n",
       "      <td>2.3</td>\n",
       "      <td>0</td>\n",
       "      <td>0</td>\n",
       "      <td>1</td>\n",
       "      <td>1</td>\n",
       "    </tr>\n",
       "    <tr>\n",
       "      <th>1</th>\n",
       "      <td>37</td>\n",
       "      <td>1</td>\n",
       "      <td>2</td>\n",
       "      <td>130</td>\n",
       "      <td>250</td>\n",
       "      <td>0</td>\n",
       "      <td>1</td>\n",
       "      <td>187</td>\n",
       "      <td>0</td>\n",
       "      <td>3.5</td>\n",
       "      <td>0</td>\n",
       "      <td>0</td>\n",
       "      <td>2</td>\n",
       "      <td>1</td>\n",
       "    </tr>\n",
       "    <tr>\n",
       "      <th>2</th>\n",
       "      <td>41</td>\n",
       "      <td>0</td>\n",
       "      <td>1</td>\n",
       "      <td>130</td>\n",
       "      <td>204</td>\n",
       "      <td>0</td>\n",
       "      <td>0</td>\n",
       "      <td>172</td>\n",
       "      <td>0</td>\n",
       "      <td>1.4</td>\n",
       "      <td>2</td>\n",
       "      <td>0</td>\n",
       "      <td>2</td>\n",
       "      <td>1</td>\n",
       "    </tr>\n",
       "  </tbody>\n",
       "</table>\n",
       "</div>"
      ],
      "text/plain": [
       "   age  sex  cp  trtbps  chol  fbs  restecg  thalach  exng  oldpeak  slp  ca  \\\n",
       "0   63    1   3     145   233    1        0      150     0      2.3    0   0   \n",
       "1   37    1   2     130   250    0        1      187     0      3.5    0   0   \n",
       "2   41    0   1     130   204    0        0      172     0      1.4    2   0   \n",
       "\n",
       "   thal  output  \n",
       "0     1       1  \n",
       "1     2       1  \n",
       "2     2       1  "
      ]
     },
     "execution_count": 10,
     "metadata": {},
     "output_type": "execute_result"
    }
   ],
   "source": [
    "# Feature scaling\n",
    "\n",
    "# In order to eliminate the effects of unit and scale differences between features, \n",
    "#to treat each dimension feature equally, features need to be normalized.\n",
    "\n",
    "# Create backup df1 of df_origin\n",
    "df1 = df_origin\n",
    "\n",
    "df1.head(3)"
   ]
  },
  {
   "cell_type": "code",
   "execution_count": 11,
   "id": "7237b736",
   "metadata": {},
   "outputs": [
    {
     "data": {
      "text/html": [
       "<div>\n",
       "<style scoped>\n",
       "    .dataframe tbody tr th:only-of-type {\n",
       "        vertical-align: middle;\n",
       "    }\n",
       "\n",
       "    .dataframe tbody tr th {\n",
       "        vertical-align: top;\n",
       "    }\n",
       "\n",
       "    .dataframe thead th {\n",
       "        text-align: right;\n",
       "    }\n",
       "</style>\n",
       "<table border=\"1\" class=\"dataframe\">\n",
       "  <thead>\n",
       "    <tr style=\"text-align: right;\">\n",
       "      <th></th>\n",
       "      <th>age</th>\n",
       "      <th>trtbps</th>\n",
       "      <th>chol</th>\n",
       "      <th>thalach</th>\n",
       "      <th>oldpeak</th>\n",
       "      <th>output</th>\n",
       "      <th>sex_1</th>\n",
       "      <th>cp_1</th>\n",
       "      <th>cp_2</th>\n",
       "      <th>cp_3</th>\n",
       "      <th>...</th>\n",
       "      <th>restecg_1</th>\n",
       "      <th>restecg_2</th>\n",
       "      <th>exng_1</th>\n",
       "      <th>slp_1</th>\n",
       "      <th>slp_2</th>\n",
       "      <th>ca_1</th>\n",
       "      <th>ca_2</th>\n",
       "      <th>ca_3</th>\n",
       "      <th>thal_2</th>\n",
       "      <th>thal_3</th>\n",
       "    </tr>\n",
       "  </thead>\n",
       "  <tbody>\n",
       "    <tr>\n",
       "      <th>0</th>\n",
       "      <td>63</td>\n",
       "      <td>145</td>\n",
       "      <td>233</td>\n",
       "      <td>150</td>\n",
       "      <td>2.3</td>\n",
       "      <td>1</td>\n",
       "      <td>1</td>\n",
       "      <td>0</td>\n",
       "      <td>0</td>\n",
       "      <td>1</td>\n",
       "      <td>...</td>\n",
       "      <td>0</td>\n",
       "      <td>0</td>\n",
       "      <td>0</td>\n",
       "      <td>0</td>\n",
       "      <td>0</td>\n",
       "      <td>0</td>\n",
       "      <td>0</td>\n",
       "      <td>0</td>\n",
       "      <td>0</td>\n",
       "      <td>0</td>\n",
       "    </tr>\n",
       "    <tr>\n",
       "      <th>1</th>\n",
       "      <td>37</td>\n",
       "      <td>130</td>\n",
       "      <td>250</td>\n",
       "      <td>187</td>\n",
       "      <td>3.5</td>\n",
       "      <td>1</td>\n",
       "      <td>1</td>\n",
       "      <td>0</td>\n",
       "      <td>1</td>\n",
       "      <td>0</td>\n",
       "      <td>...</td>\n",
       "      <td>1</td>\n",
       "      <td>0</td>\n",
       "      <td>0</td>\n",
       "      <td>0</td>\n",
       "      <td>0</td>\n",
       "      <td>0</td>\n",
       "      <td>0</td>\n",
       "      <td>0</td>\n",
       "      <td>1</td>\n",
       "      <td>0</td>\n",
       "    </tr>\n",
       "    <tr>\n",
       "      <th>2</th>\n",
       "      <td>41</td>\n",
       "      <td>130</td>\n",
       "      <td>204</td>\n",
       "      <td>172</td>\n",
       "      <td>1.4</td>\n",
       "      <td>1</td>\n",
       "      <td>0</td>\n",
       "      <td>1</td>\n",
       "      <td>0</td>\n",
       "      <td>0</td>\n",
       "      <td>...</td>\n",
       "      <td>0</td>\n",
       "      <td>0</td>\n",
       "      <td>0</td>\n",
       "      <td>0</td>\n",
       "      <td>1</td>\n",
       "      <td>0</td>\n",
       "      <td>0</td>\n",
       "      <td>0</td>\n",
       "      <td>1</td>\n",
       "      <td>0</td>\n",
       "    </tr>\n",
       "  </tbody>\n",
       "</table>\n",
       "<p>3 rows × 21 columns</p>\n",
       "</div>"
      ],
      "text/plain": [
       "   age  trtbps  chol  thalach  oldpeak  output  sex_1  cp_1  cp_2  cp_3  ...  \\\n",
       "0   63     145   233      150      2.3       1      1     0     0     1  ...   \n",
       "1   37     130   250      187      3.5       1      1     0     1     0  ...   \n",
       "2   41     130   204      172      1.4       1      0     1     0     0  ...   \n",
       "\n",
       "   restecg_1  restecg_2  exng_1  slp_1  slp_2  ca_1  ca_2  ca_3  thal_2  \\\n",
       "0          0          0       0      0      0     0     0     0       0   \n",
       "1          1          0       0      0      0     0     0     0       1   \n",
       "2          0          0       0      0      1     0     0     0       1   \n",
       "\n",
       "   thal_3  \n",
       "0       0  \n",
       "1       0  \n",
       "2       0  \n",
       "\n",
       "[3 rows x 21 columns]"
      ]
     },
     "execution_count": 11,
     "metadata": {},
     "output_type": "execute_result"
    }
   ],
   "source": [
    "# define the columns to be encoded and scaled done before\n",
    "#cat_cols = ['sex','cp','fbs','restecg','exng','slp','caa','thall']\n",
    "#con_cols = [\"age\",\"trtbps\",\"chol\",\"thalachh\",\"oldpeak\"]\n",
    "\n",
    "# Use get_dummies for feature extraction to extract the features in cat_cols\n",
    "# Generate dummy variable\n",
    "# For categorical_ Cols performs dummy variable processing, and\n",
    "# drop the first column in the generated dummy variable is rounded off to avoid causing multicollinearity\n",
    "\n",
    "# Dataset after generating dummy variable= continuous variable + discontinuous variable\n",
    "# Continuous variables should be scaled to the same data dimension\n",
    "# Discontinuous variables should generate dummy variables\n",
    "\n",
    "df2 = pd.get_dummies(df1, columns = categorical_cols, drop_first = True)\n",
    "\n",
    "df2.head(3)"
   ]
  },
  {
   "cell_type": "code",
   "execution_count": 12,
   "id": "e89715fb",
   "metadata": {},
   "outputs": [
    {
     "data": {
      "text/html": [
       "<div>\n",
       "<style scoped>\n",
       "    .dataframe tbody tr th:only-of-type {\n",
       "        vertical-align: middle;\n",
       "    }\n",
       "\n",
       "    .dataframe tbody tr th {\n",
       "        vertical-align: top;\n",
       "    }\n",
       "\n",
       "    .dataframe thead th {\n",
       "        text-align: right;\n",
       "    }\n",
       "</style>\n",
       "<table border=\"1\" class=\"dataframe\">\n",
       "  <thead>\n",
       "    <tr style=\"text-align: right;\">\n",
       "      <th></th>\n",
       "      <th>age</th>\n",
       "      <th>trtbps</th>\n",
       "      <th>chol</th>\n",
       "      <th>thalach</th>\n",
       "      <th>oldpeak</th>\n",
       "      <th>sex_1</th>\n",
       "      <th>cp_1</th>\n",
       "      <th>cp_2</th>\n",
       "      <th>cp_3</th>\n",
       "      <th>fbs_1</th>\n",
       "      <th>restecg_1</th>\n",
       "      <th>restecg_2</th>\n",
       "      <th>exng_1</th>\n",
       "      <th>slp_1</th>\n",
       "      <th>slp_2</th>\n",
       "      <th>ca_1</th>\n",
       "      <th>ca_2</th>\n",
       "      <th>ca_3</th>\n",
       "      <th>thal_2</th>\n",
       "      <th>thal_3</th>\n",
       "    </tr>\n",
       "  </thead>\n",
       "  <tbody>\n",
       "    <tr>\n",
       "      <th>0</th>\n",
       "      <td>63</td>\n",
       "      <td>145</td>\n",
       "      <td>233</td>\n",
       "      <td>150</td>\n",
       "      <td>2.3</td>\n",
       "      <td>1</td>\n",
       "      <td>0</td>\n",
       "      <td>0</td>\n",
       "      <td>1</td>\n",
       "      <td>1</td>\n",
       "      <td>0</td>\n",
       "      <td>0</td>\n",
       "      <td>0</td>\n",
       "      <td>0</td>\n",
       "      <td>0</td>\n",
       "      <td>0</td>\n",
       "      <td>0</td>\n",
       "      <td>0</td>\n",
       "      <td>0</td>\n",
       "      <td>0</td>\n",
       "    </tr>\n",
       "    <tr>\n",
       "      <th>1</th>\n",
       "      <td>37</td>\n",
       "      <td>130</td>\n",
       "      <td>250</td>\n",
       "      <td>187</td>\n",
       "      <td>3.5</td>\n",
       "      <td>1</td>\n",
       "      <td>0</td>\n",
       "      <td>1</td>\n",
       "      <td>0</td>\n",
       "      <td>0</td>\n",
       "      <td>1</td>\n",
       "      <td>0</td>\n",
       "      <td>0</td>\n",
       "      <td>0</td>\n",
       "      <td>0</td>\n",
       "      <td>0</td>\n",
       "      <td>0</td>\n",
       "      <td>0</td>\n",
       "      <td>1</td>\n",
       "      <td>0</td>\n",
       "    </tr>\n",
       "    <tr>\n",
       "      <th>2</th>\n",
       "      <td>41</td>\n",
       "      <td>130</td>\n",
       "      <td>204</td>\n",
       "      <td>172</td>\n",
       "      <td>1.4</td>\n",
       "      <td>0</td>\n",
       "      <td>1</td>\n",
       "      <td>0</td>\n",
       "      <td>0</td>\n",
       "      <td>0</td>\n",
       "      <td>0</td>\n",
       "      <td>0</td>\n",
       "      <td>0</td>\n",
       "      <td>0</td>\n",
       "      <td>1</td>\n",
       "      <td>0</td>\n",
       "      <td>0</td>\n",
       "      <td>0</td>\n",
       "      <td>1</td>\n",
       "      <td>0</td>\n",
       "    </tr>\n",
       "  </tbody>\n",
       "</table>\n",
       "</div>"
      ],
      "text/plain": [
       "   age  trtbps  chol  thalach  oldpeak  sex_1  cp_1  cp_2  cp_3  fbs_1  \\\n",
       "0   63     145   233      150      2.3      1     0     0     1      1   \n",
       "1   37     130   250      187      3.5      1     0     1     0      0   \n",
       "2   41     130   204      172      1.4      0     1     0     0      0   \n",
       "\n",
       "   restecg_1  restecg_2  exng_1  slp_1  slp_2  ca_1  ca_2  ca_3  thal_2  \\\n",
       "0          0          0       0      0      0     0     0     0       0   \n",
       "1          1          0       0      0      0     0     0     0       1   \n",
       "2          0          0       0      0      1     0     0     0       1   \n",
       "\n",
       "   thal_3  \n",
       "0       0  \n",
       "1       0  \n",
       "2       0  "
      ]
     },
     "execution_count": 12,
     "metadata": {},
     "output_type": "execute_result"
    }
   ],
   "source": [
    "# The results are removed from the dataset and results are used to compare the accuracy of the algorithm\n",
    "# Split dataset into independent variable set X and dependent variable set Y\n",
    "\n",
    "# Generate independent variable set X  (features variables)\n",
    "X = df2.drop(['output'],axis=1)\n",
    "\n",
    "X.head(3)"
   ]
  },
  {
   "cell_type": "code",
   "execution_count": 13,
   "id": "e1694ef7",
   "metadata": {},
   "outputs": [
    {
     "data": {
      "text/html": [
       "<div>\n",
       "<style scoped>\n",
       "    .dataframe tbody tr th:only-of-type {\n",
       "        vertical-align: middle;\n",
       "    }\n",
       "\n",
       "    .dataframe tbody tr th {\n",
       "        vertical-align: top;\n",
       "    }\n",
       "\n",
       "    .dataframe thead th {\n",
       "        text-align: right;\n",
       "    }\n",
       "</style>\n",
       "<table border=\"1\" class=\"dataframe\">\n",
       "  <thead>\n",
       "    <tr style=\"text-align: right;\">\n",
       "      <th></th>\n",
       "      <th>age</th>\n",
       "      <th>trtbps</th>\n",
       "      <th>chol</th>\n",
       "      <th>thalach</th>\n",
       "      <th>oldpeak</th>\n",
       "    </tr>\n",
       "  </thead>\n",
       "  <tbody>\n",
       "    <tr>\n",
       "      <th>0</th>\n",
       "      <td>63</td>\n",
       "      <td>145</td>\n",
       "      <td>233</td>\n",
       "      <td>150</td>\n",
       "      <td>2.3</td>\n",
       "    </tr>\n",
       "    <tr>\n",
       "      <th>1</th>\n",
       "      <td>37</td>\n",
       "      <td>130</td>\n",
       "      <td>250</td>\n",
       "      <td>187</td>\n",
       "      <td>3.5</td>\n",
       "    </tr>\n",
       "    <tr>\n",
       "      <th>2</th>\n",
       "      <td>41</td>\n",
       "      <td>130</td>\n",
       "      <td>204</td>\n",
       "      <td>172</td>\n",
       "      <td>1.4</td>\n",
       "    </tr>\n",
       "  </tbody>\n",
       "</table>\n",
       "</div>"
      ],
      "text/plain": [
       "   age  trtbps  chol  thalach  oldpeak\n",
       "0   63     145   233      150      2.3\n",
       "1   37     130   250      187      3.5\n",
       "2   41     130   204      172      1.4"
      ]
     },
     "execution_count": 13,
     "metadata": {},
     "output_type": "execute_result"
    }
   ],
   "source": [
    "# Conduct feature normalization (unify data of each feature to the same dimension)\n",
    "\n",
    "X[numerical_cols].head(3)"
   ]
  },
  {
   "cell_type": "code",
   "execution_count": 14,
   "id": "bcc2d2d3",
   "metadata": {},
   "outputs": [
    {
     "data": {
      "text/html": [
       "<div>\n",
       "<style scoped>\n",
       "    .dataframe tbody tr th:only-of-type {\n",
       "        vertical-align: middle;\n",
       "    }\n",
       "\n",
       "    .dataframe tbody tr th {\n",
       "        vertical-align: top;\n",
       "    }\n",
       "\n",
       "    .dataframe thead th {\n",
       "        text-align: right;\n",
       "    }\n",
       "</style>\n",
       "<table border=\"1\" class=\"dataframe\">\n",
       "  <thead>\n",
       "    <tr style=\"text-align: right;\">\n",
       "      <th></th>\n",
       "      <th>output</th>\n",
       "    </tr>\n",
       "  </thead>\n",
       "  <tbody>\n",
       "    <tr>\n",
       "      <th>0</th>\n",
       "      <td>1</td>\n",
       "    </tr>\n",
       "    <tr>\n",
       "      <th>1</th>\n",
       "      <td>1</td>\n",
       "    </tr>\n",
       "    <tr>\n",
       "      <th>2</th>\n",
       "      <td>1</td>\n",
       "    </tr>\n",
       "  </tbody>\n",
       "</table>\n",
       "</div>"
      ],
      "text/plain": [
       "   output\n",
       "0       1\n",
       "1       1\n",
       "2       1"
      ]
     },
     "execution_count": 14,
     "metadata": {},
     "output_type": "execute_result"
    }
   ],
   "source": [
    "# Generate dependent variable set Y  (output variable)\n",
    "# set Y does not need to be normalized, it is already the same dimension\n",
    "\n",
    "y = df2[['output']]\n",
    "\n",
    "y.head(3)"
   ]
  },
  {
   "cell_type": "code",
   "execution_count": 16,
   "id": "c5d0dfee",
   "metadata": {},
   "outputs": [
    {
     "data": {
      "text/html": [
       "<div>\n",
       "<style scoped>\n",
       "    .dataframe tbody tr th:only-of-type {\n",
       "        vertical-align: middle;\n",
       "    }\n",
       "\n",
       "    .dataframe tbody tr th {\n",
       "        vertical-align: top;\n",
       "    }\n",
       "\n",
       "    .dataframe thead th {\n",
       "        text-align: right;\n",
       "    }\n",
       "</style>\n",
       "<table border=\"1\" class=\"dataframe\">\n",
       "  <thead>\n",
       "    <tr style=\"text-align: right;\">\n",
       "      <th></th>\n",
       "      <th>age</th>\n",
       "      <th>trtbps</th>\n",
       "      <th>chol</th>\n",
       "      <th>thalach</th>\n",
       "      <th>oldpeak</th>\n",
       "    </tr>\n",
       "  </thead>\n",
       "  <tbody>\n",
       "    <tr>\n",
       "      <th>0</th>\n",
       "      <td>0.952197</td>\n",
       "      <td>0.763956</td>\n",
       "      <td>-0.256334</td>\n",
       "      <td>0.015443</td>\n",
       "      <td>1.087338</td>\n",
       "    </tr>\n",
       "    <tr>\n",
       "      <th>1</th>\n",
       "      <td>-1.915313</td>\n",
       "      <td>-0.092738</td>\n",
       "      <td>0.072199</td>\n",
       "      <td>1.633471</td>\n",
       "      <td>2.122573</td>\n",
       "    </tr>\n",
       "    <tr>\n",
       "      <th>2</th>\n",
       "      <td>-1.474158</td>\n",
       "      <td>-0.092738</td>\n",
       "      <td>-0.816773</td>\n",
       "      <td>0.977514</td>\n",
       "      <td>0.310912</td>\n",
       "    </tr>\n",
       "  </tbody>\n",
       "</table>\n",
       "</div>"
      ],
      "text/plain": [
       "        age    trtbps      chol   thalach   oldpeak\n",
       "0  0.952197  0.763956 -0.256334  0.015443  1.087338\n",
       "1 -1.915313 -0.092738  0.072199  1.633471  2.122573\n",
       "2 -1.474158 -0.092738 -0.816773  0.977514  0.310912"
      ]
     },
     "execution_count": 16,
     "metadata": {},
     "output_type": "execute_result"
    }
   ],
   "source": [
    "# The method of feature normalization is to use scaling\n",
    "\n",
    "# instantiating the scaler\n",
    "\n",
    "\n",
    "# Method I\n",
    "# scaler = RobustScaler()\n",
    "\n",
    "# Method II\n",
    "#scaler = MinMaxScaler()\n",
    "\n",
    "# Method III\n",
    "scaler = StandardScaler()\n",
    "\n",
    "# scaling the continuous feature\n",
    "\n",
    "# Method Parameter Description\n",
    "# fit: \n",
    "# The mean and variance are obtained from the dataset, and a Scalar object is returned\n",
    "\n",
    "# transform:\n",
    "# Normalize the training dataset and test dataset;\n",
    "\n",
    "X[numerical_cols] = scaler.fit_transform(X[numerical_cols])\n",
    "\n",
    "X[numerical_cols].head(3)"
   ]
  },
  {
   "cell_type": "code",
   "execution_count": 18,
   "id": "9e223eef",
   "metadata": {},
   "outputs": [
    {
     "name": "stdout",
     "output_type": "stream",
     "text": [
      "The shape of X_train is       (242, 20)\n",
      "The shape of X_test is        (61, 20)\n",
      "The shape of y_train is       (242, 1)\n",
      "The shape of y_test is        (61, 1)\n"
     ]
    }
   ],
   "source": [
    "# Divide the dataset into training set and test set\n",
    "# The splitting ratio of the dataset is 8:2\n",
    "\n",
    "# Parameter explanation:\n",
    "# train_data：Sample feature set to be divided\n",
    "# train_target：Sample result set to be divided\n",
    "# test_size：Sample proportion. If it is an integer, it is the number of samples\n",
    "\n",
    "# random_state：Seed of random number\n",
    "\n",
    "# random_state Value Description\n",
    "# 0: Obtain random numbers with different values each time\n",
    "# 1: Obtain the random number with the same value each time\n",
    "# Others: Get random numbers with different values each time? E.g. 42 21\n",
    "# Leave blank: obtain random numbers with different values each time\n",
    "\n",
    "# Different values of parameters will lead to different results\n",
    "# X_train, X_test, y_train, y_test = train_test_split(X,y, test_size = 0.2, random_state = 0)\n",
    "# X_train, X_test, y_train, y_test = train_test_split(X,y, test_size = 0.2, random_state = 1)\n",
    "# X_train, X_test, y_train, y_test = train_test_split(X,y, test_size = 0.2, random_state = 21)\n",
    "X_train, X_test, y_train, y_test = train_test_split(X,y, test_size = 0.2, random_state = 42)\n",
    "# X_train, X_test, y_train, y_test = train_test_split(X,y, test_size = 0.2, random_state = 43)\n",
    "# X_train, X_test, y_train, y_test = train_test_split(X,y, test_size = 0.2)\n",
    "\n",
    "print(\"The shape of X_train is      \", X_train.shape)\n",
    "print(\"The shape of X_test is       \",X_test.shape)\n",
    "print(\"The shape of y_train is      \",y_train.shape)\n",
    "print(\"The shape of y_test is       \",y_test.shape)"
   ]
  },
  {
   "cell_type": "code",
   "execution_count": 20,
   "id": "cb519be7",
   "metadata": {},
   "outputs": [
    {
     "data": {
      "text/html": [
       "<div>\n",
       "<style scoped>\n",
       "    .dataframe tbody tr th:only-of-type {\n",
       "        vertical-align: middle;\n",
       "    }\n",
       "\n",
       "    .dataframe tbody tr th {\n",
       "        vertical-align: top;\n",
       "    }\n",
       "\n",
       "    .dataframe thead th {\n",
       "        text-align: right;\n",
       "    }\n",
       "</style>\n",
       "<table border=\"1\" class=\"dataframe\">\n",
       "  <thead>\n",
       "    <tr style=\"text-align: right;\">\n",
       "      <th></th>\n",
       "      <th>age</th>\n",
       "      <th>trtbps</th>\n",
       "      <th>chol</th>\n",
       "      <th>thalach</th>\n",
       "      <th>oldpeak</th>\n",
       "      <th>sex_1</th>\n",
       "      <th>cp_1</th>\n",
       "      <th>cp_2</th>\n",
       "      <th>cp_3</th>\n",
       "      <th>fbs_1</th>\n",
       "      <th>restecg_1</th>\n",
       "      <th>restecg_2</th>\n",
       "      <th>exng_1</th>\n",
       "      <th>slp_1</th>\n",
       "      <th>slp_2</th>\n",
       "      <th>ca_1</th>\n",
       "      <th>ca_2</th>\n",
       "      <th>ca_3</th>\n",
       "      <th>thal_2</th>\n",
       "      <th>thal_3</th>\n",
       "    </tr>\n",
       "  </thead>\n",
       "  <tbody>\n",
       "    <tr>\n",
       "      <th>132</th>\n",
       "      <td>-1.363869</td>\n",
       "      <td>-0.663867</td>\n",
       "      <td>0.941846</td>\n",
       "      <td>0.540209</td>\n",
       "      <td>-0.896862</td>\n",
       "      <td>1</td>\n",
       "      <td>1</td>\n",
       "      <td>0</td>\n",
       "      <td>0</td>\n",
       "      <td>0</td>\n",
       "      <td>1</td>\n",
       "      <td>0</td>\n",
       "      <td>0</td>\n",
       "      <td>0</td>\n",
       "      <td>1</td>\n",
       "      <td>0</td>\n",
       "      <td>0</td>\n",
       "      <td>0</td>\n",
       "      <td>1</td>\n",
       "      <td>0</td>\n",
       "    </tr>\n",
       "    <tr>\n",
       "      <th>202</th>\n",
       "      <td>0.400752</td>\n",
       "      <td>1.049520</td>\n",
       "      <td>0.458709</td>\n",
       "      <td>-1.690047</td>\n",
       "      <td>-0.206705</td>\n",
       "      <td>1</td>\n",
       "      <td>0</td>\n",
       "      <td>0</td>\n",
       "      <td>0</td>\n",
       "      <td>0</td>\n",
       "      <td>0</td>\n",
       "      <td>0</td>\n",
       "      <td>1</td>\n",
       "      <td>0</td>\n",
       "      <td>1</td>\n",
       "      <td>0</td>\n",
       "      <td>0</td>\n",
       "      <td>0</td>\n",
       "      <td>0</td>\n",
       "      <td>1</td>\n",
       "    </tr>\n",
       "    <tr>\n",
       "      <th>196</th>\n",
       "      <td>-0.922713</td>\n",
       "      <td>1.049520</td>\n",
       "      <td>-0.294985</td>\n",
       "      <td>-0.115749</td>\n",
       "      <td>2.208842</td>\n",
       "      <td>1</td>\n",
       "      <td>0</td>\n",
       "      <td>1</td>\n",
       "      <td>0</td>\n",
       "      <td>0</td>\n",
       "      <td>1</td>\n",
       "      <td>0</td>\n",
       "      <td>0</td>\n",
       "      <td>1</td>\n",
       "      <td>0</td>\n",
       "      <td>0</td>\n",
       "      <td>0</td>\n",
       "      <td>0</td>\n",
       "      <td>1</td>\n",
       "      <td>0</td>\n",
       "    </tr>\n",
       "  </tbody>\n",
       "</table>\n",
       "</div>"
      ],
      "text/plain": [
       "          age    trtbps      chol   thalach   oldpeak  sex_1  cp_1  cp_2  \\\n",
       "132 -1.363869 -0.663867  0.941846  0.540209 -0.896862      1     1     0   \n",
       "202  0.400752  1.049520  0.458709 -1.690047 -0.206705      1     0     0   \n",
       "196 -0.922713  1.049520 -0.294985 -0.115749  2.208842      1     0     1   \n",
       "\n",
       "     cp_3  fbs_1  restecg_1  restecg_2  exng_1  slp_1  slp_2  ca_1  ca_2  \\\n",
       "132     0      0          1          0       0      0      1     0     0   \n",
       "202     0      0          0          0       1      0      1     0     0   \n",
       "196     0      0          1          0       0      1      0     0     0   \n",
       "\n",
       "     ca_3  thal_2  thal_3  \n",
       "132     0       1       0  \n",
       "202     0       0       1  \n",
       "196     0       1       0  "
      ]
     },
     "execution_count": 20,
     "metadata": {},
     "output_type": "execute_result"
    }
   ],
   "source": [
    "# Divided data set\n",
    "X_train.head(3)\n",
    "# X_test.head(3)\n",
    "# y_train.head(3)\n",
    "# y_test.head(3)"
   ]
  },
  {
   "cell_type": "code",
   "execution_count": 22,
   "id": "ee407aa6",
   "metadata": {},
   "outputs": [
    {
     "name": "stdout",
     "output_type": "stream",
     "text": [
      "np.unique(y_test)\n",
      " [0 1]\n",
      "output    29\n",
      "dtype: int64\n",
      "output    32\n",
      "dtype: int64\n"
     ]
    }
   ],
   "source": [
    "# analysis y_test\n",
    "\n",
    "# unique：The returned array is sorted\n",
    "print('np.unique(y_test)\\n',np.unique(y_test)) \n",
    "\n",
    "# Count 0/1 occurrences\n",
    "for i in np.unique(y_test):\n",
    " print(np.sum(y_test==i))\n",
    "\n",
    "# 0：29/61 \n",
    "# 1：32/61"
   ]
  },
  {
   "cell_type": "markdown",
   "id": "9dcbc99a",
   "metadata": {},
   "source": [
    "## Algorithm I  -- Logistic Regression"
   ]
  },
  {
   "cell_type": "markdown",
   "id": "023212d9",
   "metadata": {},
   "source": [
    "### 1. Accuracy"
   ]
  },
  {
   "cell_type": "code",
   "execution_count": 60,
   "id": "99312532",
   "metadata": {},
   "outputs": [
    {
     "name": "stdout",
     "output_type": "stream",
     "text": [
      "The test accuracy score of  Logistric Regression is  0.9016393442622951\n",
      "The number of correctly classified samples is  55\n"
     ]
    }
   ],
   "source": [
    "# 1 - Logistic Regression\n",
    "\n",
    "# Instantiating the object\n",
    "# Generate Logistic Regression Filters\n",
    "lr = LogisticRegression()\n",
    "\n",
    "# Fitting the object\n",
    "lr.fit(X_train, y_train)\n",
    "\n",
    "# Calculating the probabilities\n",
    "y_pred_proba_lr = lr.predict_proba(X_test)\n",
    "\n",
    "# Finding the predicted valued\n",
    "y_pred_lr = np.argmax(y_pred_proba_lr,axis=1)\n",
    "\n",
    "# normalize：\n",
    "# True(default), which returns the proportion of correct classification\n",
    "# False, return the number of correctly classified samples\n",
    "\n",
    "# accuracy= Number of correctly classified samples (acc_number) / Total number of samples(61)\n",
    "acc_lr = accuracy_score(y_test, y_pred_lr)\n",
    "\n",
    "# Output the number of correctly predicted samples\n",
    "# normalize=False: Predict the correct number of samples\n",
    "# normalize=True: Probability of correct prediction \n",
    "acc_number_lr = accuracy_score(y_test, y_pred_lr, normalize=False)\n",
    "#acc_number_lr = accuracy_score(y_test, y_pred_lr, normalize=True)\n",
    "\n",
    "# printing the test accuracy\n",
    "print(\"The test accuracy score of  Logistric Regression is \", acc_lr)\n",
    "\n",
    "# printing the number of correctly classified samples\n",
    "print(\"The number of correctly classified samples is \", acc_number_lr)"
   ]
  },
  {
   "cell_type": "code",
   "execution_count": 29,
   "id": "f3b5a6fb",
   "metadata": {},
   "outputs": [
    {
     "data": {
      "text/plain": [
       "array([[27,  2],\n",
       "       [ 4, 28]], dtype=int64)"
      ]
     },
     "execution_count": 29,
     "metadata": {},
     "output_type": "execute_result"
    }
   ],
   "source": [
    "# confusion matrix\n",
    "\n",
    "# Matrix interpretation:\n",
    "# The total number of test samples is 61\n",
    "##The sum of the data on the positive diagonal equals to the correctly classified sample\n",
    "#The sum of the data on the negative diagonal equals to the sample with wrong prediction\n",
    "\n",
    "cm_lr_1 = confusion_matrix(y_test, y_pred_lr)\n",
    "cm_lr_1"
   ]
  },
  {
   "cell_type": "code",
   "execution_count": 30,
   "id": "3c3e940f",
   "metadata": {},
   "outputs": [
    {
     "data": {
      "text/plain": [
       "array([[[28,  4],\n",
       "        [ 2, 27]],\n",
       "\n",
       "       [[27,  2],\n",
       "        [ 4, 28]]], dtype=int64)"
      ]
     },
     "execution_count": 30,
     "metadata": {},
     "output_type": "execute_result"
    }
   ],
   "source": [
    "# Multiple confusion matrix\n",
    "\n",
    "# The second matrix is equal to the confusion matrix\n",
    "cm_lr_2 = multilabel_confusion_matrix(y_test, y_pred_lr)\n",
    "cm_lr_2"
   ]
  },
  {
   "cell_type": "markdown",
   "id": "4bbb3d48",
   "metadata": {},
   "source": [
    "### 2. Precision, Recall, F1"
   ]
  },
  {
   "cell_type": "code",
   "execution_count": 170,
   "id": "f38ad085",
   "metadata": {},
   "outputs": [
    {
     "name": "stdout",
     "output_type": "stream",
     "text": [
      "The precision of logistic regression is  0.9036841177507492\n",
      "==========================\n",
      "The recall of logistic regression is  0.9016393442622951\n",
      "==========================\n",
      "The f1 of logistic regression is  0.9016922263352722\n"
     ]
    }
   ],
   "source": [
    "# Calculate precision, recall, f1\n",
    "\n",
    "# Precision\n",
    "precision_score_lr_weighted = precision_score(y_test, y_pred_lr, average='weighted')\n",
    "\n",
    "# Recall\n",
    "recall_score_lr_weighted = recall_score(y_test, y_pred_lr, average='weighted')\n",
    "\n",
    "# F1\n",
    "f1_score_lr_weighted = f1_score(y_test, y_pred_lr, average='weighted')\n",
    "\n",
    "print(\"The precision of logistic regression is \", precision_score(y_test, y_pred_lr, average='weighted'))\n",
    "# print(\"The precision of logistic regression is \", precision_score_lr_weighted)\n",
    "print(\"==========================\")\n",
    "print(\"The recall of logistic regression is \", recall_score(y_test, y_pred_lr, average='weighted'))\n",
    "# print(\"The recall of logistic regression is \", recall_score_lr_weighted)\n",
    "print(\"==========================\")\n",
    "print(\"The f1 of logistic regression is \", f1_score(y_test, y_pred_lr, average='weighted'))\n",
    "# print(\"The f1 of logistic regression is \", f1_score_lr_weighted)"
   ]
  },
  {
   "cell_type": "code",
   "execution_count": 33,
   "id": "15abfb55",
   "metadata": {},
   "outputs": [
    {
     "data": {
      "text/plain": [
       "array([0, 0, 1, 0, 1, 1, 1, 0, 0, 1, 1, 0, 1, 0, 1, 1, 1, 0, 0, 0, 0, 0,\n",
       "       0, 1, 1, 1, 1, 1, 0, 1, 0, 0, 0, 0, 1, 0, 1, 1, 1, 1, 1, 1, 1, 1,\n",
       "       1, 0, 0, 1, 0, 0, 0, 0, 1, 1, 0, 0, 0, 1, 0, 0, 0], dtype=int64)"
      ]
     },
     "execution_count": 33,
     "metadata": {},
     "output_type": "execute_result"
    }
   ],
   "source": [
    "# logistic regression modeling process\n",
    "lr = LogisticRegression()\n",
    "\n",
    "lr.fit(X_train, y_train)\n",
    "\n",
    "y_pred_proba_lr = lr.predict_proba(X_test)\n",
    "\n",
    "# Predicted results\n",
    "y_pred_lr = np.argmax(y_pred_proba_lr,axis=1)\n",
    "y_pred_lr"
   ]
  },
  {
   "cell_type": "code",
   "execution_count": 40,
   "id": "9e38b456",
   "metadata": {},
   "outputs": [
    {
     "data": {
      "text/plain": [
       "array([[0.97648128, 0.02351872],\n",
       "       [0.53306119, 0.46693881],\n",
       "       [0.35084894, 0.64915106],\n",
       "       [0.97677912, 0.02322088],\n",
       "       [0.06736384, 0.93263616],\n",
       "       [0.07824614, 0.92175386],\n",
       "       [0.35179804, 0.64820196],\n",
       "       [0.99454676, 0.00545324],\n",
       "       [0.98758655, 0.01241345],\n",
       "       [0.42552968, 0.57447032],\n",
       "       [0.47085575, 0.52914425],\n",
       "       [0.8954639 , 0.1045361 ],\n",
       "       [0.07579818, 0.92420182],\n",
       "       [0.94804642, 0.05195358],\n",
       "       [0.01478362, 0.98521638],\n",
       "       [0.0486547 , 0.9513453 ],\n",
       "       [0.02156507, 0.97843493],\n",
       "       [0.95928012, 0.04071988],\n",
       "       [0.99256059, 0.00743941],\n",
       "       [0.98612054, 0.01387946],\n",
       "       [0.56087972, 0.43912028],\n",
       "       [0.92970746, 0.07029254],\n",
       "       [0.64769459, 0.35230541],\n",
       "       [0.24408553, 0.75591447],\n",
       "       [0.17248489, 0.82751511],\n",
       "       [0.36672646, 0.63327354],\n",
       "       [0.12799731, 0.87200269],\n",
       "       [0.29024373, 0.70975627],\n",
       "       [0.94381943, 0.05618057],\n",
       "       [0.04829158, 0.95170842],\n",
       "       [0.97562557, 0.02437443],\n",
       "       [0.97341076, 0.02658924],\n",
       "       [0.99080268, 0.00919732],\n",
       "       [0.83179781, 0.16820219],\n",
       "       [0.16310977, 0.83689023],\n",
       "       [0.96248625, 0.03751375],\n",
       "       [0.25304087, 0.74695913],\n",
       "       [0.12226533, 0.87773467],\n",
       "       [0.37623949, 0.62376051],\n",
       "       [0.11102049, 0.88897951],\n",
       "       [0.07300325, 0.92699675],\n",
       "       [0.1698982 , 0.8301018 ],\n",
       "       [0.09534258, 0.90465742],\n",
       "       [0.28058703, 0.71941297],\n",
       "       [0.19783849, 0.80216151],\n",
       "       [0.91726928, 0.08273072],\n",
       "       [0.62485039, 0.37514961],\n",
       "       [0.03949202, 0.96050798],\n",
       "       [0.96474587, 0.03525413],\n",
       "       [0.98794873, 0.01205127],\n",
       "       [0.90966284, 0.09033716],\n",
       "       [0.94556448, 0.05443552],\n",
       "       [0.36613776, 0.63386224],\n",
       "       [0.04406484, 0.95593516],\n",
       "       [0.79924729, 0.20075271],\n",
       "       [0.97441136, 0.02558864],\n",
       "       [0.80975411, 0.19024589],\n",
       "       [0.03290137, 0.96709863],\n",
       "       [0.98129403, 0.01870597],\n",
       "       [0.99541659, 0.00458341],\n",
       "       [0.94698837, 0.05301163]])"
      ]
     },
     "execution_count": 40,
     "metadata": {},
     "output_type": "execute_result"
    }
   ],
   "source": [
    "# Calculate scores \n",
    "# Used to generate predicted results distribution\n",
    "\n",
    "# 1. predict_proba: \n",
    "# Probability of prediction input samples belonging to each category\n",
    "# Probability sum is 1\n",
    "\n",
    "scores_lr_1 = lr.predict_proba(X_test)\n",
    "# scores_lr_1 = lr.predict_proba(X_test)[:,1]\n",
    "scores_lr_1\n",
    "\n",
    "# 2. predict:\n",
    "# The prediction result with high output probability\n",
    "\n",
    "# scores_lr_2 = lr.predict(X_test)\n",
    "# scores_lr_2 = lr.predict(X_test)[:,1]\n",
    "# scores_lr_2"
   ]
  },
  {
   "cell_type": "code",
   "execution_count": 43,
   "id": "aba07dc3",
   "metadata": {},
   "outputs": [
    {
     "data": {
      "text/plain": [
       "array([0.02351872, 0.46693881, 0.64915106, 0.02322088, 0.93263616,\n",
       "       0.92175386, 0.64820196, 0.00545324, 0.01241345, 0.57447032,\n",
       "       0.52914425, 0.1045361 , 0.92420182, 0.05195358, 0.98521638,\n",
       "       0.9513453 , 0.97843493, 0.04071988, 0.00743941, 0.01387946,\n",
       "       0.43912028, 0.07029254, 0.35230541, 0.75591447, 0.82751511,\n",
       "       0.63327354, 0.87200269, 0.70975627, 0.05618057, 0.95170842,\n",
       "       0.02437443, 0.02658924, 0.00919732, 0.16820219, 0.83689023,\n",
       "       0.03751375, 0.74695913, 0.87773467, 0.62376051, 0.88897951,\n",
       "       0.92699675, 0.8301018 , 0.90465742, 0.71941297, 0.80216151,\n",
       "       0.08273072, 0.37514961, 0.96050798, 0.03525413, 0.01205127,\n",
       "       0.09033716, 0.05443552, 0.63386224, 0.95593516, 0.20075271,\n",
       "       0.02558864, 0.19024589, 0.96709863, 0.01870597, 0.00458341,\n",
       "       0.05301163])"
      ]
     },
     "execution_count": 43,
     "metadata": {},
     "output_type": "execute_result"
    }
   ],
   "source": [
    "# Take the second column of the above matrix (the predicted value is 1)\n",
    "scores_lr_1_1 = lr.predict_proba(X_test)[:,1]\n",
    "# scores_lr_1_1 = scores_lr_1[:,1]\n",
    "scores_lr_1_1"
   ]
  },
  {
   "cell_type": "markdown",
   "id": "ec1481a1",
   "metadata": {},
   "source": [
    "### 3. PR curve and AP value"
   ]
  },
  {
   "cell_type": "code",
   "execution_count": 55,
   "id": "debd0986",
   "metadata": {},
   "outputs": [
    {
     "name": "stdout",
     "output_type": "stream",
     "text": [
      "ap_lr:\n",
      "0.9505328058301409\n",
      "==============\n"
     ]
    },
    {
     "data": {
      "image/png": "[encoded data removed]",
      "text/plain": [
       "<Figure size 432x288 with 1 Axes>"
      ]
     },
     "metadata": {
      "needs_background": "light"
     },
     "output_type": "display_data"
    },
    {
     "name": "stdout",
     "output_type": "stream",
     "text": [
      "recalls_lr:\n",
      "[1.      0.96875 0.96875 0.96875 0.96875 0.96875 0.96875 0.96875 0.96875\n",
      " 0.96875 0.96875 0.96875 0.96875 0.96875 0.9375  0.90625 0.90625 0.90625\n",
      " 0.90625 0.90625 0.875   0.875   0.84375 0.8125  0.78125 0.78125 0.75\n",
      " 0.71875 0.6875  0.65625 0.625   0.59375 0.5625  0.53125 0.5     0.46875\n",
      " 0.4375  0.4375  0.40625 0.375   0.34375 0.3125  0.28125 0.25    0.21875\n",
      " 0.1875  0.15625 0.125   0.09375 0.0625  0.03125 0.     ]\n",
      "52\n",
      "==============\n",
      "precisions_lr:\n",
      "[0.62745098 0.62       0.63265306 0.64583333 0.65957447 0.67391304\n",
      " 0.68888889 0.70454545 0.72093023 0.73809524 0.75609756 0.775\n",
      " 0.79487179 0.81578947 0.81081081 0.80555556 0.82857143 0.85294118\n",
      " 0.87878788 0.90625    0.90322581 0.93333333 0.93103448 0.92857143\n",
      " 0.92592593 0.96153846 0.96       0.95833333 0.95652174 0.95454545\n",
      " 0.95238095 0.95       0.94736842 0.94444444 0.94117647 0.9375\n",
      " 0.93333333 1.         1.         1.         1.         1.\n",
      " 1.         1.         1.         1.         1.         1.\n",
      " 1.         1.         1.         1.        ]\n",
      "52\n",
      "==============\n",
      "thresholds_lr_pr:\n",
      "[0.02437443 0.02558864 0.02658924 0.03525413 0.03751375 0.04071988\n",
      " 0.05195358 0.05301163 0.05443552 0.05618057 0.07029254 0.08273072\n",
      " 0.09033716 0.1045361  0.16820219 0.19024589 0.20075271 0.35230541\n",
      " 0.37514961 0.43912028 0.46693881 0.52914425 0.57447032 0.62376051\n",
      " 0.63327354 0.63386224 0.64820196 0.64915106 0.70975627 0.71941297\n",
      " 0.74695913 0.75591447 0.80216151 0.82751511 0.8301018  0.83689023\n",
      " 0.87200269 0.87773467 0.88897951 0.90465742 0.92175386 0.92420182\n",
      " 0.92699675 0.93263616 0.9513453  0.95170842 0.95593516 0.96050798\n",
      " 0.96709863 0.97843493 0.98521638]\n",
      "51\n"
     ]
    }
   ],
   "source": [
    "# Draw PR curve and calculate AP value\n",
    "\n",
    "# Generate Data\n",
    "\n",
    "# 1. Manually generate thresholds\n",
    "# thresholds = np.arange(np.min(probs), np.max(probs), 0.1)\n",
    "\n",
    "# 2. Generate thresholds using encapsulated methods\n",
    "precisions_lr, recalls_lr, thresholds_lr_pr = precision_recall_curve(y_test, scores_lr_1_1)\n",
    "#precision, recall, thresholds = precision_recall_curve(y_test, y_pred)\n",
    "\n",
    "# Draw chart\n",
    "\n",
    "# plt.figure(\"LR_P-R Curve\")\n",
    "\n",
    "# Set the title of the chart\n",
    "plt.title('LR Precision/Recall Curve')\n",
    "\n",
    "# Set the label of the axis\n",
    "plt.xlabel('Recall')\n",
    "plt.ylabel('Precision')\n",
    "\n",
    "# Calculate AP value\n",
    "ap_lr = average_precision_score(y_test, scores_lr_1_1, average='weighted', sample_weight=None)\n",
    "print(\"ap_lr:\")\n",
    "print(ap_lr) # Area Under Curve\n",
    "print(\"==============\")\n",
    "\n",
    "# Display data\n",
    "plt.plot(precisions_lr, recalls_lr, label='AP_lr(area_lr = {0:.16f})'.format(ap_lr), lw=2) #lw = lineweighth\n",
    "\n",
    "# Display legend\n",
    "plt.legend(loc=\"lower left\")\n",
    "\n",
    "# Display chart\n",
    "plt.show()\n",
    "\n",
    "# Generate 51 thresholds\n",
    "# Generate 52 recall-precision pairs according to thresholds\n",
    "# Draw the curve according to recalls-precisions pairs\n",
    "print(\"recalls_lr:\")\n",
    "print(recalls_lr)\n",
    "print(len(recalls_lr))\n",
    "print(\"==============\")\n",
    "\n",
    "print(\"precisions_lr:\")\n",
    "print(precisions_lr)\n",
    "print(len(precisions_lr))\n",
    "print(\"==============\")\n",
    "\n",
    "print(\"thresholds_lr_pr:\")\n",
    "print(thresholds_lr_pr)\n",
    "print(len(thresholds_lr_pr))"
   ]
  },
  {
   "cell_type": "markdown",
   "id": "630e4028",
   "metadata": {},
   "source": [
    "### 4. ROC curve and AUC value"
   ]
  },
  {
   "cell_type": "code",
   "execution_count": 56,
   "id": "d3044e12",
   "metadata": {},
   "outputs": [
    {
     "name": "stdout",
     "output_type": "stream",
     "text": [
      "roc_auc_lr:\n",
      "0.9428879310344827\n",
      "==============\n"
     ]
    },
    {
     "data": {
      "image/png": "[encoded data removed]",
      "text/plain": [
       "<Figure size 432x288 with 1 Axes>"
      ]
     },
     "metadata": {
      "needs_background": "light"
     },
     "output_type": "display_data"
    },
    {
     "name": "stdout",
     "output_type": "stream",
     "text": [
      "fpr_lr:\n",
      "[0.         0.         0.         0.03448276 0.03448276 0.06896552\n",
      " 0.06896552 0.10344828 0.10344828 0.24137931 0.24137931 0.65517241\n",
      " 0.65517241 1.        ]\n",
      "14\n",
      "==============\n",
      "tpr_lr:\n",
      "[0.      0.03125 0.4375  0.4375  0.78125 0.78125 0.875   0.875   0.90625\n",
      " 0.90625 0.96875 0.96875 1.      1.     ]\n",
      "14\n",
      "==============\n",
      "thresholds_lr_roc:\n",
      "[1.98521638 0.98521638 0.87773467 0.87200269 0.63386224 0.63327354\n",
      " 0.52914425 0.46693881 0.43912028 0.19024589 0.1045361  0.02558864\n",
      " 0.02437443 0.00458341]\n",
      "14\n"
     ]
    }
   ],
   "source": [
    "# Draw ROC curve and calculate AUC value\n",
    "\n",
    "# Generate thresholds using encapsulated methods\n",
    "fpr_lr, tpr_lr, thresholds_lr_roc = roc_curve(y_test, scores_lr_1_1)\n",
    "#precision, recall, thresholds = precision_recall_curve(y_test, y_pred)\n",
    "\n",
    "# Draw chart\n",
    "\n",
    "# plt.figure(\"LR_ROC Curve\")\n",
    "\n",
    "# Set the title of the chart\n",
    "plt.title('LR ROC Curve')\n",
    "\n",
    "# Set the label of the axis\n",
    "plt.xlabel('fpr')\n",
    "plt.ylabel('tpr')\n",
    "# plt.xlabel(\"False Positive Rate\")\n",
    "# plt.ylabel(\"True Positive Rate\")\n",
    "\n",
    "# Calculate AUC value\n",
    "roc_auc_lr = auc(fpr_lr, tpr_lr)\n",
    "print(\"roc_auc_lr:\")\n",
    "print(roc_auc_lr) # Area Under Curve\n",
    "print(\"==============\")\n",
    "\n",
    "# Display data\n",
    "plt.plot(fpr_lr, tpr_lr, 'k--', label='ROC_lr (area_lr = {0:.16f})'.format(roc_auc_lr), lw=2) #lw =2 linewidth\n",
    "\n",
    "# Display legend\n",
    "plt.legend(loc=\"lower right\")\n",
    "\n",
    "# Display chart\n",
    "plt.show()\n",
    "\n",
    "# Generate 14 thresholds\n",
    "# Generate 14 fpr-tpr pairs according to thresholds\n",
    "# Draw the curve according to fpr-tpr pairs\n",
    "print(\"fpr_lr:\")\n",
    "print(fpr_lr)\n",
    "print(len(fpr_lr))\n",
    "print(\"==============\")\n",
    "\n",
    "print(\"tpr_lr:\")\n",
    "print(tpr_lr)\n",
    "print(len(tpr_lr))\n",
    "print(\"==============\")\n",
    "\n",
    "print(\"thresholds_lr_roc:\")\n",
    "print(thresholds_lr_roc)\n",
    "print(len(thresholds_lr_roc))"
   ]
  },
  {
   "cell_type": "markdown",
   "id": "b55aa72d",
   "metadata": {},
   "source": [
    "## Algorithm II  -- SVM"
   ]
  },
  {
   "cell_type": "markdown",
   "id": "4991c4f5",
   "metadata": {},
   "source": [
    "### 1. Accuracy"
   ]
  },
  {
   "cell_type": "code",
   "execution_count": 59,
   "id": "b44d22cf",
   "metadata": {},
   "outputs": [
    {
     "name": "stdout",
     "output_type": "stream",
     "text": [
      "The test accuracy score of SVM is  0.8852459016393442\n",
      "The test accuracy score of SVM is  54\n"
     ]
    }
   ],
   "source": [
    "# 2 - Support Vector Machines\n",
    "\n",
    "# instantiating the object and fitting\n",
    "\n",
    "# probability=True: enable fitting probability\n",
    "clf = SVC(kernel='rbf', C=1, random_state=50, probability=True).fit(X_train,y_train)\n",
    "\n",
    "# probability=False: Do not use fitting probability\n",
    "#clf = SVC(kernel='rbf', C=1, random_state=50).fit(X_train,y_train)\n",
    "\n",
    "# predicting the values\n",
    "y_pred_svm = clf.predict(X_test)\n",
    "\n",
    "# accuracy= Number of correctly classified samples (acc_number) / Total number of samples(61)\n",
    "acc_svm = accuracy_score(y_test, y_pred_svm)\n",
    "\n",
    "# Output the number of correctly predicted samples\n",
    "# normalize=False: Predict the correct number of samples\n",
    "acc_number_svm = accuracy_score(y_test, y_pred_svm, normalize=False)\n",
    "\n",
    "# printing the test accuracy\n",
    "print(\"The test accuracy score of SVM is \", acc_svm)\n",
    "\n",
    "# printing the number of correctly classified samples\n",
    "print(\"The test accuracy score of SVM is \", acc_number_svm)"
   ]
  },
  {
   "cell_type": "code",
   "execution_count": 49,
   "id": "4702d26f",
   "metadata": {},
   "outputs": [
    {
     "data": {
      "text/plain": [
       "array([[27,  2],\n",
       "       [ 5, 27]], dtype=int64)"
      ]
     },
     "execution_count": 49,
     "metadata": {},
     "output_type": "execute_result"
    }
   ],
   "source": [
    "# confusion matrix\n",
    "\n",
    "cm_svm_1 = confusion_matrix(y_test, y_pred_svm)\n",
    "cm_svm_1"
   ]
  },
  {
   "cell_type": "code",
   "execution_count": 50,
   "id": "a3136f9a",
   "metadata": {},
   "outputs": [
    {
     "data": {
      "text/plain": [
       "array([[[27,  5],\n",
       "        [ 2, 27]],\n",
       "\n",
       "       [[27,  2],\n",
       "        [ 5, 27]]], dtype=int64)"
      ]
     },
     "execution_count": 50,
     "metadata": {},
     "output_type": "execute_result"
    }
   ],
   "source": [
    "# Multiple confusion matrix\n",
    "\n",
    "cm_svm_2 = multilabel_confusion_matrix(y_test, y_pred_svm)\n",
    "cm_svm_2"
   ]
  },
  {
   "cell_type": "markdown",
   "id": "59660edc",
   "metadata": {},
   "source": [
    "### 2. Precision, Recall, F1"
   ]
  },
  {
   "cell_type": "code",
   "execution_count": 51,
   "id": "a5eb4339",
   "metadata": {},
   "outputs": [
    {
     "name": "stdout",
     "output_type": "stream",
     "text": [
      "The precision of SVM is  0.8895385811192763\n",
      "==========================\n",
      "The recall of SVM is  0.8852459016393442\n",
      "==========================\n",
      "The f1 of SVM is  0.8852459016393444\n"
     ]
    }
   ],
   "source": [
    "# Calculate precision, recall, f1\n",
    "\n",
    "# Precision\n",
    "precision_score_svm_weighted = precision_score(y_test, y_pred_svm, average='weighted')\n",
    "\n",
    "# Recall\n",
    "recall_score_svm_weighted = recall_score(y_test, y_pred_svm, average='weighted')\n",
    "\n",
    "# F1\n",
    "f1_score_svm_weighted = f1_score(y_test, y_pred_svm, average='weighted')\n",
    "\n",
    "print(\"The precision of SVM is \", precision_score(y_test, y_pred_svm, average='weighted'))\n",
    "# print(\"The precision of SVM is \", precision_score_svm_weighted)\n",
    "print(\"==========================\")\n",
    "print(\"The recall of SVM is \", recall_score(y_test, y_pred_svm, average='weighted'))\n",
    "#print(\"The recall of SVM is \", recall_score_svm_weighted)\n",
    "print(\"==========================\")\n",
    "print(\"The f1 of SVM is \", f1_score(y_test, y_pred_svm, average='weighted'))\n",
    "#print(\"The f1 of SVM is \", f1_score_svm_weighted)"
   ]
  },
  {
   "cell_type": "code",
   "execution_count": 52,
   "id": "de8613ac",
   "metadata": {},
   "outputs": [
    {
     "data": {
      "text/plain": [
       "array([[0.95581989, 0.04418011],\n",
       "       [0.62269654, 0.37730346],\n",
       "       [0.4580822 , 0.5419178 ],\n",
       "       [0.69973058, 0.30026942],\n",
       "       [0.15657004, 0.84342996],\n",
       "       [0.16848459, 0.83151541],\n",
       "       [0.17426567, 0.82573433],\n",
       "       [0.76325795, 0.23674205],\n",
       "       [0.94518883, 0.05481117],\n",
       "       [0.37660174, 0.62339826],\n",
       "       [0.44832513, 0.55167487],\n",
       "       [0.78594374, 0.21405626],\n",
       "       [0.12204034, 0.87795966],\n",
       "       [0.85562691, 0.14437309],\n",
       "       [0.0451956 , 0.9548044 ],\n",
       "       [0.05916553, 0.94083447],\n",
       "       [0.07143069, 0.92856931],\n",
       "       [0.92259068, 0.07740932],\n",
       "       [0.97412038, 0.02587962],\n",
       "       [0.90655031, 0.09344969],\n",
       "       [0.655901  , 0.344099  ],\n",
       "       [0.93960929, 0.06039071],\n",
       "       [0.66325777, 0.33674223],\n",
       "       [0.21546052, 0.78453948],\n",
       "       [0.22053853, 0.77946147],\n",
       "       [0.29986707, 0.70013293],\n",
       "       [0.18298161, 0.81701839],\n",
       "       [0.18019602, 0.81980398],\n",
       "       [0.90416889, 0.09583111],\n",
       "       [0.07513215, 0.92486785],\n",
       "       [0.94228192, 0.05771808],\n",
       "       [0.91293728, 0.08706272],\n",
       "       [0.94833933, 0.05166067],\n",
       "       [0.72699587, 0.27300413],\n",
       "       [0.52659255, 0.47340745],\n",
       "       [0.93881556, 0.06118444],\n",
       "       [0.4477775 , 0.5522225 ],\n",
       "       [0.15286155, 0.84713845],\n",
       "       [0.47953337, 0.52046663],\n",
       "       [0.16845892, 0.83154108],\n",
       "       [0.07598026, 0.92401974],\n",
       "       [0.15514909, 0.84485091],\n",
       "       [0.081953  , 0.918047  ],\n",
       "       [0.29969623, 0.70030377],\n",
       "       [0.27240057, 0.72759943],\n",
       "       [0.78792191, 0.21207809],\n",
       "       [0.58696287, 0.41303713],\n",
       "       [0.05770785, 0.94229215],\n",
       "       [0.89755611, 0.10244389],\n",
       "       [0.96509188, 0.03490812],\n",
       "       [0.80791809, 0.19208191],\n",
       "       [0.85337444, 0.14662556],\n",
       "       [0.48125528, 0.51874472],\n",
       "       [0.14618959, 0.85381041],\n",
       "       [0.73523027, 0.26476973],\n",
       "       [0.7424836 , 0.2575164 ],\n",
       "       [0.80357809, 0.19642191],\n",
       "       [0.0585945 , 0.9414055 ],\n",
       "       [0.92701681, 0.07298319],\n",
       "       [0.98700788, 0.01299212],\n",
       "       [0.96517651, 0.03482349]])"
      ]
     },
     "execution_count": 52,
     "metadata": {},
     "output_type": "execute_result"
    }
   ],
   "source": [
    "# Calculate scores\n",
    "\n",
    "# Probability of prediction input samples belonging to each category\n",
    "# Probability sum is 1\n",
    "scores_svm_1 = clf.predict_proba(X_test)\n",
    "scores_svm_1"
   ]
  },
  {
   "cell_type": "code",
   "execution_count": 53,
   "id": "52a8f7a7",
   "metadata": {},
   "outputs": [
    {
     "data": {
      "text/plain": [
       "array([0.04418011, 0.37730346, 0.5419178 , 0.30026942, 0.84342996,\n",
       "       0.83151541, 0.82573433, 0.23674205, 0.05481117, 0.62339826,\n",
       "       0.55167487, 0.21405626, 0.87795966, 0.14437309, 0.9548044 ,\n",
       "       0.94083447, 0.92856931, 0.07740932, 0.02587962, 0.09344969,\n",
       "       0.344099  , 0.06039071, 0.33674223, 0.78453948, 0.77946147,\n",
       "       0.70013293, 0.81701839, 0.81980398, 0.09583111, 0.92486785,\n",
       "       0.05771808, 0.08706272, 0.05166067, 0.27300413, 0.47340745,\n",
       "       0.06118444, 0.5522225 , 0.84713845, 0.52046663, 0.83154108,\n",
       "       0.92401974, 0.84485091, 0.918047  , 0.70030377, 0.72759943,\n",
       "       0.21207809, 0.41303713, 0.94229215, 0.10244389, 0.03490812,\n",
       "       0.19208191, 0.14662556, 0.51874472, 0.85381041, 0.26476973,\n",
       "       0.2575164 , 0.19642191, 0.9414055 , 0.07298319, 0.01299212,\n",
       "       0.03482349])"
      ]
     },
     "execution_count": 53,
     "metadata": {},
     "output_type": "execute_result"
    }
   ],
   "source": [
    "# Take the second column of the above matrix (the predicted value is 1)\n",
    "scores_svm_1_1 = clf.predict_proba(X_test)[:,1]\n",
    "# scores_svm_1_1 = scores_svm_1[:,1]\n",
    "scores_svm_1_1"
   ]
  },
  {
   "cell_type": "markdown",
   "id": "54d05790",
   "metadata": {},
   "source": [
    "### 3. PR curve and AP value"
   ]
  },
  {
   "cell_type": "code",
   "execution_count": 57,
   "id": "39bfe5f1",
   "metadata": {},
   "outputs": [
    {
     "name": "stdout",
     "output_type": "stream",
     "text": [
      "ap_svm:\n",
      "0.9488317935320545\n",
      "==============\n"
     ]
    },
    {
     "data": {
      "image/png": "[encoded data removed]",
      "text/plain": [
       "<Figure size 432x288 with 1 Axes>"
      ]
     },
     "metadata": {
      "needs_background": "light"
     },
     "output_type": "display_data"
    },
    {
     "name": "stdout",
     "output_type": "stream",
     "text": [
      "recalls_svm:\n",
      "[1.      0.96875 0.96875 0.96875 0.96875 0.96875 0.96875 0.96875 0.96875\n",
      " 0.96875 0.96875 0.96875 0.96875 0.96875 0.96875 0.9375  0.9375  0.9375\n",
      " 0.9375  0.90625 0.90625 0.90625 0.875   0.875   0.875   0.84375 0.8125\n",
      " 0.78125 0.75    0.71875 0.6875  0.65625 0.65625 0.625   0.59375 0.5625\n",
      " 0.53125 0.53125 0.5     0.46875 0.4375  0.40625 0.375   0.34375 0.3125\n",
      " 0.28125 0.25    0.21875 0.1875  0.15625 0.125   0.09375 0.0625  0.03125\n",
      " 0.     ]\n",
      "55\n",
      "==============\n",
      "precisions_svm:\n",
      "[0.59259259 0.58490566 0.59615385 0.60784314 0.62       0.63265306\n",
      " 0.64583333 0.65957447 0.67391304 0.68888889 0.70454545 0.72093023\n",
      " 0.73809524 0.75609756 0.775      0.76923077 0.78947368 0.81081081\n",
      " 0.83333333 0.82857143 0.85294118 0.87878788 0.875      0.90322581\n",
      " 0.93333333 0.93103448 0.92857143 0.92592593 0.92307692 0.92\n",
      " 0.91666667 0.91304348 0.95454545 0.95238095 0.95       0.94736842\n",
      " 0.94444444 1.         1.         1.         1.         1.\n",
      " 1.         1.         1.         1.         1.         1.\n",
      " 1.         1.         1.         1.         1.         1.\n",
      " 1.        ]\n",
      "55\n",
      "==============\n",
      "thresholds_svm_pr:\n",
      "[0.05771808 0.06039071 0.06118444 0.07298319 0.07740932 0.08706272\n",
      " 0.09344969 0.09583111 0.10244389 0.14437309 0.14662556 0.19208191\n",
      " 0.19642191 0.21207809 0.21405626 0.23674205 0.2575164  0.26476973\n",
      " 0.27300413 0.30026942 0.33674223 0.344099   0.37730346 0.41303713\n",
      " 0.47340745 0.51874472 0.52046663 0.5419178  0.55167487 0.5522225\n",
      " 0.62339826 0.70013293 0.70030377 0.72759943 0.77946147 0.78453948\n",
      " 0.81701839 0.81980398 0.82573433 0.83151541 0.83154108 0.84342996\n",
      " 0.84485091 0.84713845 0.85381041 0.87795966 0.918047   0.92401974\n",
      " 0.92486785 0.92856931 0.94083447 0.9414055  0.94229215 0.9548044 ]\n",
      "54\n"
     ]
    }
   ],
   "source": [
    "# Draw PR curve and calculate AP value\n",
    "\n",
    "# Generate Data\n",
    "\n",
    "# Generate thresholds using encapsulated methods\n",
    "precisions_svm, recalls_svm, thresholds_svm_pr = precision_recall_curve(y_test, scores_svm_1_1)\n",
    "#precision, recall, thresholds = precision_recall_curve(y_test, y_pred)\n",
    "\n",
    "# Draw chart\n",
    "\n",
    "# plt.figure(\"SVM_P-R Curve\")\n",
    "\n",
    "# Set the title of the chart\n",
    "plt.title('SVM Precision/Recall Curve')\n",
    "\n",
    "# Set the label of the axis\n",
    "plt.xlabel('Recall')\n",
    "plt.ylabel('Precision')\n",
    "\n",
    "# Calculate AP value\n",
    "ap_svm = average_precision_score(y_test, scores_svm_1_1, average='weighted', sample_weight=None)\n",
    "print(\"ap_svm:\")\n",
    "print(ap_svm) # Area Under Curve\n",
    "print(\"==============\")\n",
    "\n",
    "# Display data\n",
    "plt.plot(precisions_svm, recalls_svm, label='AP_svm (area_svm = {0:.16f})'.format(ap_svm), lw=2)\n",
    "\n",
    "# Display legend\n",
    "plt.legend(loc=\"lower left\")\n",
    "\n",
    "# Display chart\n",
    "plt.show()\n",
    "\n",
    "# Generate 54 thresholds\n",
    "# Generate 55 recall-precision pairs according to thresholds\n",
    "# Draw the curve according to recalls-precisions pairs\n",
    "print(\"recalls_svm:\")\n",
    "print(recalls_svm)\n",
    "print(len(recalls_svm))\n",
    "print(\"==============\")\n",
    "\n",
    "print(\"precisions_svm:\")\n",
    "print(precisions_svm)\n",
    "print(len(precisions_svm))\n",
    "print(\"==============\")\n",
    "\n",
    "print(\"thresholds_svm_pr:\")\n",
    "print(thresholds_svm_pr)\n",
    "print(len(thresholds_svm_pr))"
   ]
  },
  {
   "cell_type": "markdown",
   "id": "3691b683",
   "metadata": {},
   "source": [
    "### 4. ROC curve and AUC value"
   ]
  },
  {
   "cell_type": "code",
   "execution_count": 58,
   "id": "82eb4dfe",
   "metadata": {},
   "outputs": [
    {
     "name": "stdout",
     "output_type": "stream",
     "text": [
      "roc_auc_svm:\n",
      "0.9364224137931034\n",
      "==============\n"
     ]
    },
    {
     "data": {
      "image/png": "[encoded data removed]",
      "text/plain": [
       "<Figure size 432x288 with 1 Axes>"
      ]
     },
     "metadata": {
      "needs_background": "light"
     },
     "output_type": "display_data"
    },
    {
     "name": "stdout",
     "output_type": "stream",
     "text": [
      "fpr_svm:\n",
      "[0.         0.         0.         0.03448276 0.03448276 0.06896552\n",
      " 0.06896552 0.13793103 0.13793103 0.20689655 0.20689655 0.31034483\n",
      " 0.31034483 0.75862069 0.75862069 1.        ]\n",
      "16\n",
      "==============\n",
      "tpr_svm:\n",
      "[0.      0.03125 0.53125 0.53125 0.65625 0.65625 0.875   0.875   0.90625\n",
      " 0.90625 0.9375  0.9375  0.96875 0.96875 1.      1.     ]\n",
      "16\n",
      "==============\n",
      "thresholds_svm_roc:\n",
      "[1.9548044  0.9548044  0.81980398 0.81701839 0.70030377 0.70013293\n",
      " 0.47340745 0.37730346 0.344099   0.30026942 0.27300413 0.23674205\n",
      " 0.21405626 0.06039071 0.05771808 0.01299212]\n",
      "16\n"
     ]
    }
   ],
   "source": [
    "# Draw ROC curve and calculate AUC value\n",
    "\n",
    "# Generate thresholds using encapsulated methods\n",
    "fpr_svm, tpr_svm, thresholds_svm_roc = roc_curve(y_test, scores_svm_1_1)\n",
    "#precision, recall, thresholds = precision_recall_curve(y_test, y_pred)\n",
    "\n",
    "# Draw chart\n",
    "\n",
    "# plt.figure(\"SVM_ROC Curve\")\n",
    "\n",
    "# Set the title of the chart\n",
    "plt.title('SVM_fpr/tpr Curve')\n",
    "\n",
    "# Set the label of the axis\n",
    "plt.xlabel('fpr')\n",
    "plt.ylabel('tpr')\n",
    "# plt.xlabel(\"False Positive Rate\")\n",
    "# plt.ylabel(\"True Positive Rate\")\n",
    "\n",
    "# Calculate AUC value\n",
    "roc_auc_svm = auc(fpr_svm, tpr_svm)\n",
    "print(\"roc_auc_svm:\")\n",
    "print(roc_auc_svm) # Area Under Curve\n",
    "print(\"==============\")\n",
    "\n",
    "# Display data\n",
    "plt.plot(fpr_svm, tpr_svm, 'k--', label='ROC_svm (area_svm = {0:.7f})'.format(roc_auc_svm), lw=2) #lw =2 linewidth\n",
    "\n",
    "# Display legend\n",
    "plt.legend(loc=\"lower right\")\n",
    "\n",
    "# Display chart\n",
    "plt.show()\n",
    "\n",
    "# Generate 16 thresholds\n",
    "# Generate 16 fpr-tpr pairs according to thresholds\n",
    "# Draw the curve according to fpr-tpr pairs\n",
    "print(\"fpr_svm:\")\n",
    "print(fpr_svm)\n",
    "print(len(fpr_svm))\n",
    "print(\"==============\")\n",
    "\n",
    "print(\"tpr_svm:\")\n",
    "print(tpr_svm)\n",
    "print(len(tpr_svm))\n",
    "print(\"==============\")\n",
    "\n",
    "print(\"thresholds_svm_roc:\")\n",
    "print(thresholds_svm_roc)\n",
    "print(len(thresholds_svm_roc))"
   ]
  },
  {
   "cell_type": "markdown",
   "id": "5f28e2ba",
   "metadata": {},
   "source": [
    "## Algorithm III  -- KNN"
   ]
  },
  {
   "cell_type": "markdown",
   "id": "622f2a5c",
   "metadata": {},
   "source": [
    "### 1. Accuracy"
   ]
  },
  {
   "cell_type": "code",
   "execution_count": 61,
   "id": "fcffd82f",
   "metadata": {},
   "outputs": [
    {
     "name": "stdout",
     "output_type": "stream",
     "text": [
      "The test accuracy score of Logistric Regression is  0.8852459016393442\n",
      "The test accuracy score of Logistric Regression is  54\n"
     ]
    }
   ],
   "source": [
    "# 1 - KNN\n",
    "\n",
    "# Instantiating the object\n",
    "# Generate KNN Filters\n",
    "knn = KNeighborsClassifier()\n",
    "\n",
    "# Fitting the object\n",
    "knn.fit(X_train, y_train)\n",
    "\n",
    "# Calculating the probabilities\n",
    "y_pred_knn = knn.predict(X_test)\n",
    "\n",
    "# accuracy= Number of correctly classified samples (acc_number) / Total number of samples(61)\n",
    "acc_knn = accuracy_score(y_test, y_pred_knn)\n",
    "\n",
    "# Output the number of correctly predicted samples\n",
    "# # normalize=False: Predict the correct number of samples\n",
    "acc_number_knn = accuracy_score(y_test, y_pred_knn, normalize=False)\n",
    "\n",
    "# printing the test accuracy\n",
    "print(\"The test accuracy score of Logistric Regression is \", acc_knn)\n",
    "\n",
    "# printing the number of correctly classified samples\n",
    "print(\"The test accuracy score of Logistric Regression is \", acc_number_knn)"
   ]
  },
  {
   "cell_type": "code",
   "execution_count": 62,
   "id": "cb0e6062",
   "metadata": {},
   "outputs": [
    {
     "data": {
      "text/plain": [
       "array([[26,  3],\n",
       "       [ 4, 28]], dtype=int64)"
      ]
     },
     "execution_count": 62,
     "metadata": {},
     "output_type": "execute_result"
    }
   ],
   "source": [
    "# confusion matrix\n",
    "\n",
    "cm_knn_1 = confusion_matrix(y_test, y_pred_knn)\n",
    "cm_knn_1"
   ]
  },
  {
   "cell_type": "code",
   "execution_count": 63,
   "id": "e25b5dba",
   "metadata": {},
   "outputs": [
    {
     "data": {
      "text/plain": [
       "array([[[28,  4],\n",
       "        [ 3, 26]],\n",
       "\n",
       "       [[26,  3],\n",
       "        [ 4, 28]]], dtype=int64)"
      ]
     },
     "execution_count": 63,
     "metadata": {},
     "output_type": "execute_result"
    }
   ],
   "source": [
    "# Multiple confusion matrix\n",
    "\n",
    "cm_knn_2 = multilabel_confusion_matrix(y_test, y_pred_knn)\n",
    "cm_knn_2"
   ]
  },
  {
   "cell_type": "markdown",
   "id": "f9aeedf4",
   "metadata": {},
   "source": [
    "### 2. Precision, Recall, F1"
   ]
  },
  {
   "cell_type": "code",
   "execution_count": 64,
   "id": "869144bd",
   "metadata": {},
   "outputs": [
    {
     "name": "stdout",
     "output_type": "stream",
     "text": [
      "The precision of KNN is  0.8858452317997532\n",
      "==========================\n",
      "The recall of KNN is  0.8852459016393442\n",
      "==========================\n",
      "The f1 of KNN is  0.8853076471859468\n"
     ]
    }
   ],
   "source": [
    "# Calculate precision, recall, f1\n",
    "\n",
    "# Precision\n",
    "precision_score_knn_weighted = precision_score(y_test, y_pred_knn, average='weighted')\n",
    "\n",
    "# Recall\n",
    "recall_score_knn_weighted = recall_score(y_test, y_pred_knn, average='weighted')\n",
    "\n",
    "# F1\n",
    "f1_score_knn_weighted = f1_score(y_test, y_pred_knn, average='weighted')\n",
    "\n",
    "print(\"The precision of KNN is \", precision_score(y_test, y_pred_knn, average='weighted'))\n",
    "# print(\"The precision of KNN is \", precision_score_knn_weighted)\n",
    "print(\"==========================\")\n",
    "\n",
    "print(\"The recall of KNN is \", recall_score(y_test, y_pred_knn, average='weighted'))\n",
    "# print(\"The recall of KNN is \", recall_score_knn_weighted)\n",
    "print(\"==========================\")\n",
    "\n",
    "print(\"The f1 of KNN is \", f1_score(y_test, y_pred_knn, average='weighted'))\n",
    "# print(\"The f1 of KNN is \", f1_score_knn_weighted)"
   ]
  },
  {
   "cell_type": "code",
   "execution_count": 66,
   "id": "a9036910",
   "metadata": {},
   "outputs": [],
   "source": [
    "# # KNN modeling process\n",
    "# knn = KNeighborsClassifier()\n",
    "\n",
    "# knn.fit(X_train, y_train)\n",
    "\n",
    "# y_pred_knn = knn.predict(X_test)\n",
    "\n",
    "# y_pred_knn\n",
    "\n",
    "# # #scores = knn.decision_function(X_test)\n",
    "# # scores = knn.predict_proba(X_test)[:,1] #predict_proba\n",
    "# # #y_pred\n",
    "# # scores"
   ]
  },
  {
   "cell_type": "code",
   "execution_count": 67,
   "id": "6b0df332",
   "metadata": {},
   "outputs": [
    {
     "data": {
      "text/plain": [
       "array([[1. , 0. ],\n",
       "       [0.8, 0.2],\n",
       "       [0.4, 0.6],\n",
       "       [0.8, 0.2],\n",
       "       [0.2, 0.8],\n",
       "       [0. , 1. ],\n",
       "       [0. , 1. ],\n",
       "       [1. , 0. ],\n",
       "       [0.8, 0.2],\n",
       "       [0.2, 0.8],\n",
       "       [0.4, 0.6],\n",
       "       [0.6, 0.4],\n",
       "       [0. , 1. ],\n",
       "       [0.8, 0.2],\n",
       "       [0. , 1. ],\n",
       "       [0. , 1. ],\n",
       "       [0. , 1. ],\n",
       "       [0.8, 0.2],\n",
       "       [1. , 0. ],\n",
       "       [1. , 0. ],\n",
       "       [0.6, 0.4],\n",
       "       [1. , 0. ],\n",
       "       [0.8, 0.2],\n",
       "       [0. , 1. ],\n",
       "       [0. , 1. ],\n",
       "       [0. , 1. ],\n",
       "       [0.2, 0.8],\n",
       "       [0. , 1. ],\n",
       "       [1. , 0. ],\n",
       "       [0. , 1. ],\n",
       "       [1. , 0. ],\n",
       "       [0.8, 0.2],\n",
       "       [1. , 0. ],\n",
       "       [0.6, 0.4],\n",
       "       [0.4, 0.6],\n",
       "       [0.8, 0.2],\n",
       "       [0.4, 0.6],\n",
       "       [0. , 1. ],\n",
       "       [0.2, 0.8],\n",
       "       [0.2, 0.8],\n",
       "       [0. , 1. ],\n",
       "       [0. , 1. ],\n",
       "       [0. , 1. ],\n",
       "       [0. , 1. ],\n",
       "       [0.2, 0.8],\n",
       "       [0.8, 0.2],\n",
       "       [0.4, 0.6],\n",
       "       [0. , 1. ],\n",
       "       [0.8, 0.2],\n",
       "       [1. , 0. ],\n",
       "       [1. , 0. ],\n",
       "       [0.8, 0.2],\n",
       "       [0.4, 0.6],\n",
       "       [0. , 1. ],\n",
       "       [0.6, 0.4],\n",
       "       [1. , 0. ],\n",
       "       [0.8, 0.2],\n",
       "       [0.2, 0.8],\n",
       "       [1. , 0. ],\n",
       "       [1. , 0. ],\n",
       "       [1. , 0. ]])"
      ]
     },
     "execution_count": 67,
     "metadata": {},
     "output_type": "execute_result"
    }
   ],
   "source": [
    "# Calculate scores \n",
    "# Probability of prediction input samples belonging to each category\n",
    "# Probability sum is 1\n",
    "\n",
    "scores_knn_1 = knn.predict_proba(X_test)\n",
    "scores_knn_1"
   ]
  },
  {
   "cell_type": "code",
   "execution_count": 70,
   "id": "79d35ca0",
   "metadata": {},
   "outputs": [],
   "source": [
    "# # Take the first column of the above matrix (the predicted value is 0)\n",
    "# scores_knn_1_0 = knn.predict_proba(X_test)[:,0]\n",
    "# scores_knn_1_0"
   ]
  },
  {
   "cell_type": "code",
   "execution_count": 69,
   "id": "401de102",
   "metadata": {},
   "outputs": [
    {
     "data": {
      "text/plain": [
       "array([0. , 0.2, 0.6, 0.2, 0.8, 1. , 1. , 0. , 0.2, 0.8, 0.6, 0.4, 1. ,\n",
       "       0.2, 1. , 1. , 1. , 0.2, 0. , 0. , 0.4, 0. , 0.2, 1. , 1. , 1. ,\n",
       "       0.8, 1. , 0. , 1. , 0. , 0.2, 0. , 0.4, 0.6, 0.2, 0.6, 1. , 0.8,\n",
       "       0.8, 1. , 1. , 1. , 1. , 0.8, 0.2, 0.6, 1. , 0.2, 0. , 0. , 0.2,\n",
       "       0.6, 1. , 0.4, 0. , 0.2, 0.8, 0. , 0. , 0. ])"
      ]
     },
     "execution_count": 69,
     "metadata": {},
     "output_type": "execute_result"
    }
   ],
   "source": [
    "# Take the second column of the above matrix (the predicted value is 1)\n",
    "scores_knn_1_1 = knn.predict_proba(X_test)[:,1]\n",
    "scores_knn_1_1"
   ]
  },
  {
   "cell_type": "markdown",
   "id": "744ea747",
   "metadata": {},
   "source": [
    "### 3. PR curve and AP value"
   ]
  },
  {
   "cell_type": "code",
   "execution_count": 72,
   "id": "c8edf6b8",
   "metadata": {},
   "outputs": [
    {
     "name": "stdout",
     "output_type": "stream",
     "text": [
      "ap_knn:\n",
      "0.9147943002778407\n",
      "==============\n"
     ]
    },
    {
     "data": {
      "image/png": "[encoded data removed]",
      "text/plain": [
       "<Figure size 432x288 with 1 Axes>"
      ]
     },
     "metadata": {
      "needs_background": "light"
     },
     "output_type": "display_data"
    },
    {
     "name": "stdout",
     "output_type": "stream",
     "text": [
      "recalls_knn:\n",
      "[1.      0.96875 0.96875 0.875   0.71875 0.53125 0.     ]\n",
      "7\n",
      "==============\n",
      "precisions_knn:\n",
      "[0.52459016 0.65957447 0.88571429 0.90322581 0.92       0.94444444\n",
      " 1.        ]\n",
      "7\n",
      "==============\n",
      "thresholds_knn_pr:\n",
      "[0.  0.2 0.4 0.6 0.8 1. ]\n",
      "6\n"
     ]
    }
   ],
   "source": [
    "# Draw PR curve and calculate AP value\n",
    "\n",
    "# Generate Data\n",
    "\n",
    "# Generate thresholds using encapsulated methods\n",
    "precisions_knn, recalls_knn, thresholds_knn_pr = precision_recall_curve(y_test, scores_knn_1_1)\n",
    "#precision, recall, thresholds = precision_recall_curve(y_test, y_pred)\n",
    "\n",
    "# Draw chart\n",
    "# plt.figure(\"KNN_P-R Curve\")\n",
    "\n",
    "# Set the title of the chart\n",
    "plt.title('KNN Precision/Recall Curve')\n",
    "\n",
    "# Set the label of the axis\n",
    "plt.xlabel('Recall')\n",
    "plt.ylabel('Precision')\n",
    "\n",
    "# Calculate AP value\n",
    "ap_knn = average_precision_score(y_test, scores_knn_1_1, average='weighted', sample_weight=None)\n",
    "print(\"ap_knn:\")\n",
    "print(ap_knn) # Area Under Curve\n",
    "print(\"==============\")\n",
    "\n",
    "# Display data\n",
    "plt.plot(precisions_knn, recalls_knn, label='AP_knn (area_knn = {0:.7f})'.format(ap_knn), lw=2)\n",
    "\n",
    "# Display legend\n",
    "plt.legend(loc=\"lower left\")\n",
    "\n",
    "# Display chart\n",
    "plt.show()\n",
    "\n",
    "# Generate 6 thresholds\n",
    "# Generate 7 recall-precision pairs according to thresholds\n",
    "# Draw the curve according to recalls-precisions pairs\n",
    "print(\"recalls_knn:\")\n",
    "print(recalls_knn)\n",
    "print(len(recalls_knn))\n",
    "print(\"==============\")\n",
    "\n",
    "print(\"precisions_knn:\")\n",
    "print(precisions_knn)\n",
    "print(len(precisions_knn))\n",
    "print(\"==============\")\n",
    "\n",
    "print(\"thresholds_knn_pr:\")\n",
    "print(thresholds_knn_pr)\n",
    "print(len(thresholds_knn_pr))"
   ]
  },
  {
   "cell_type": "markdown",
   "id": "0ac9a86b",
   "metadata": {},
   "source": [
    "### 4. ROC curve and AUC value"
   ]
  },
  {
   "cell_type": "code",
   "execution_count": 75,
   "id": "cd0dfa8f",
   "metadata": {},
   "outputs": [
    {
     "name": "stdout",
     "output_type": "stream",
     "text": [
      "roc_auc_knn:\n",
      "0.9321120689655173\n",
      "==============\n"
     ]
    },
    {
     "data": {
      "image/png": "[encoded data removed]",
      "text/plain": [
       "<Figure size 432x288 with 1 Axes>"
      ]
     },
     "metadata": {
      "needs_background": "light"
     },
     "output_type": "display_data"
    },
    {
     "name": "stdout",
     "output_type": "stream",
     "text": [
      "fpr_knn:\n",
      "[0.         0.03448276 0.06896552 0.10344828 0.13793103 0.55172414\n",
      " 1.        ]\n",
      "7\n",
      "==============\n",
      "tpr_knn:\n",
      "[0.      0.53125 0.71875 0.875   0.96875 0.96875 1.     ]\n",
      "7\n",
      "==============\n",
      "thresholds_knn_roc:\n",
      "[2.  1.  0.8 0.6 0.4 0.2 0. ]\n",
      "7\n"
     ]
    }
   ],
   "source": [
    "# Draw ROC curve and calculate AUC value\n",
    "\n",
    "# Generate thresholds using encapsulated methods\n",
    "fpr_knn, tpr_knn, thresholds_knn_roc = roc_curve(y_test, scores_knn_1_1)\n",
    "\n",
    "# Draw chart\n",
    "\n",
    "#plt.figure(\"KNN_ROC Curve\")\n",
    "\n",
    "# Set the title of the chart\n",
    "plt.title('KNN ROC Curve')\n",
    "\n",
    "# Set the title of the chart\n",
    "plt.xlabel('fpr')\n",
    "plt.ylabel('tpr')\n",
    "# plt.xlabel(\"False Positive Rate\")\n",
    "# plt.ylabel(\"True Positive Rate\")\n",
    "\n",
    "# Calculate AUC value\n",
    "roc_auc_knn = auc(fpr_knn, tpr_knn)\n",
    "print(\"roc_auc_knn:\")\n",
    "print(roc_auc_knn) # Area Under Curve\n",
    "print(\"==============\")\n",
    "\n",
    "# Display data\n",
    "plt.plot(fpr_knn, tpr_knn, 'k--', label='ROC_knn (area_knn = {0:.7f})'.format(roc_auc_knn), lw=2) #lw =2 linewidth\n",
    "\n",
    "# Display legend\n",
    "plt.legend(loc=\"lower right\")\n",
    "\n",
    "# Display chart\n",
    "plt.show()\n",
    "\n",
    "# Generate 7 thresholds\n",
    "# Generate 7 fpr-tpr pairs according to thresholds\n",
    "# Draw the curve according to fpr-tpr pairs\n",
    "print(\"fpr_knn:\")\n",
    "print(fpr_knn)\n",
    "print(len(fpr_knn))\n",
    "print(\"==============\")\n",
    "print(\"tpr_knn:\")\n",
    "print(tpr_knn)\n",
    "print(len(tpr_knn))\n",
    "print(\"==============\")\n",
    "print(\"thresholds_knn_roc:\")\n",
    "print(thresholds_knn_roc)\n",
    "print(len(thresholds_knn_roc))"
   ]
  },
  {
   "cell_type": "markdown",
   "id": "1a205e04",
   "metadata": {},
   "source": [
    "## Algorithm Ⅳ  -- Random Rorest"
   ]
  },
  {
   "cell_type": "markdown",
   "id": "35fcff49",
   "metadata": {},
   "source": [
    "### 1. Accuracy"
   ]
  },
  {
   "cell_type": "code",
   "execution_count": 76,
   "id": "f96419e7",
   "metadata": {},
   "outputs": [
    {
     "name": "stdout",
     "output_type": "stream",
     "text": [
      "The test accuracy score of Logistric Regression is  0.8688524590163934\n",
      "The test accuracy score of Logistric Regression is  53\n"
     ]
    }
   ],
   "source": [
    "# 3 - Random Forest\n",
    "\n",
    "# instantiating the object\n",
    "rf = RandomForestClassifier(max_depth=5,n_estimators=100,random_state=5)\n",
    "\n",
    "# Limit the maximum depth of the tree \n",
    "# rf = RandomForestClassifier(max_depth = 5)\n",
    "\n",
    "# Fitting the object\n",
    "rf.fit(X_train, y_train)\n",
    "\n",
    "# # predicting the values\n",
    "y_pred_rf = rf.predict(X_test)\n",
    "\n",
    "# accuracy= Number of correctly classified samples (acc_number) / Total number of samples(61)\n",
    "acc_rf = accuracy_score(y_test, y_pred_rf)\n",
    "\n",
    "# Output the number of correctly predicted samples\n",
    "# normalize=False: Predict the correct number of samples\n",
    "acc_number_rf = accuracy_score(y_test, y_pred_rf, normalize=False)\n",
    "\n",
    "# printing the test accuracy\n",
    "print(\"The test accuracy score of Logistric Regression is \", acc_rf)\n",
    "\n",
    "# printing the number of correctly classified samples\n",
    "print(\"The test accuracy score of Logistric Regression is \", acc_number_rf)"
   ]
  },
  {
   "cell_type": "code",
   "execution_count": 77,
   "id": "bc35962d",
   "metadata": {},
   "outputs": [
    {
     "data": {
      "text/plain": [
       "array([[27,  2],\n",
       "       [ 6, 26]], dtype=int64)"
      ]
     },
     "execution_count": 77,
     "metadata": {},
     "output_type": "execute_result"
    }
   ],
   "source": [
    "# confusion matrix\n",
    "\n",
    "cm_rf_1 = confusion_matrix(y_test, y_pred_rf)\n",
    "cm_rf_1"
   ]
  },
  {
   "cell_type": "code",
   "execution_count": 78,
   "id": "2faa49f4",
   "metadata": {},
   "outputs": [
    {
     "data": {
      "text/plain": [
       "array([[[26,  6],\n",
       "        [ 2, 27]],\n",
       "\n",
       "       [[27,  2],\n",
       "        [ 6, 26]]], dtype=int64)"
      ]
     },
     "execution_count": 78,
     "metadata": {},
     "output_type": "execute_result"
    }
   ],
   "source": [
    "# Multiple confusion matrix\n",
    "\n",
    "cm_rf_2 = multilabel_confusion_matrix(y_test, y_pred_rf)\n",
    "cm_rf_2"
   ]
  },
  {
   "cell_type": "markdown",
   "id": "1849b5d0",
   "metadata": {},
   "source": [
    "### 2. Precision, Recall, F1"
   ]
  },
  {
   "cell_type": "code",
   "execution_count": 80,
   "id": "61528fbb",
   "metadata": {},
   "outputs": [
    {
     "name": "stdout",
     "output_type": "stream",
     "text": [
      "The precision of RF is  0.8760911219927613\n",
      "==========================\n",
      "The recall of RF is  0.8688524590163934\n",
      "==========================\n",
      "The f1 of RF is  0.8687114401551207\n"
     ]
    }
   ],
   "source": [
    "# Calculate precision, recall, f1\n",
    "\n",
    "# Precision\n",
    "precision_score_rf_weighted = precision_score(y_test, y_pred_rf, average='weighted')\n",
    "\n",
    "# Recall\n",
    "recall_score_rf_weighted = recall_score(y_test, y_pred_rf, average='weighted')\n",
    "\n",
    "# F1\n",
    "f1_score_rf_weighted = f1_score(y_test, y_pred_rf, average='weighted')\n",
    "\n",
    "print(\"The precision of RF is \", precision_score(y_test, y_pred_rf, average='weighted'))\n",
    "# print(\"The precision of RF is \", precision_score_rf_weighted)\n",
    "print(\"==========================\")\n",
    "\n",
    "print(\"The recall of RF is \", recall_score(y_test, y_pred_rf, average='weighted'))\n",
    "# print(\"The recall of RF is \", recall_score_rf_weighted)\n",
    "print(\"==========================\")\n",
    "\n",
    "print(\"The f1 of RF is \", f1_score(y_test, y_pred_rf, average='weighted'))\n",
    "# print(\"The f1 of RF is \", f1_score_rf_weighted)"
   ]
  },
  {
   "cell_type": "code",
   "execution_count": 81,
   "id": "06a51860",
   "metadata": {},
   "outputs": [
    {
     "data": {
      "text/plain": [
       "array([[0.88277771, 0.11722229],\n",
       "       [0.51841247, 0.48158753],\n",
       "       [0.48102685, 0.51897315],\n",
       "       [0.80469062, 0.19530938],\n",
       "       [0.28808492, 0.71191508],\n",
       "       [0.17497515, 0.82502485],\n",
       "       [0.31335642, 0.68664358],\n",
       "       [0.93534608, 0.06465392],\n",
       "       [0.84307996, 0.15692004],\n",
       "       [0.29613397, 0.70386603],\n",
       "       [0.4854656 , 0.5145344 ],\n",
       "       [0.73864761, 0.26135239],\n",
       "       [0.08834643, 0.91165357],\n",
       "       [0.87093436, 0.12906564],\n",
       "       [0.09642344, 0.90357656],\n",
       "       [0.09974073, 0.90025927],\n",
       "       [0.03593666, 0.96406334],\n",
       "       [0.83359076, 0.16640924],\n",
       "       [0.95214927, 0.04785073],\n",
       "       [0.78118583, 0.21881417],\n",
       "       [0.56509845, 0.43490155],\n",
       "       [0.89646106, 0.10353894],\n",
       "       [0.51244155, 0.48755845],\n",
       "       [0.21646087, 0.78353913],\n",
       "       [0.18896569, 0.81103431],\n",
       "       [0.36674969, 0.63325031],\n",
       "       [0.34859651, 0.65140349],\n",
       "       [0.2027201 , 0.7972799 ],\n",
       "       [0.83382616, 0.16617384],\n",
       "       [0.15724054, 0.84275946],\n",
       "       [0.91346597, 0.08653403],\n",
       "       [0.77469005, 0.22530995],\n",
       "       [0.94157587, 0.05842413],\n",
       "       [0.60927226, 0.39072774],\n",
       "       [0.51394557, 0.48605443],\n",
       "       [0.74419961, 0.25580039],\n",
       "       [0.46243852, 0.53756148],\n",
       "       [0.25378906, 0.74621094],\n",
       "       [0.6094321 , 0.3905679 ],\n",
       "       [0.16970441, 0.83029559],\n",
       "       [0.11298929, 0.88701071],\n",
       "       [0.34589433, 0.65410567],\n",
       "       [0.32031033, 0.67968967],\n",
       "       [0.33149243, 0.66850757],\n",
       "       [0.37622463, 0.62377537],\n",
       "       [0.80051033, 0.19948967],\n",
       "       [0.61795629, 0.38204371],\n",
       "       [0.09701998, 0.90298002],\n",
       "       [0.83201347, 0.16798653],\n",
       "       [0.92249869, 0.07750131],\n",
       "       [0.7327342 , 0.2672658 ],\n",
       "       [0.69324379, 0.30675621],\n",
       "       [0.49816982, 0.50183018],\n",
       "       [0.17373135, 0.82626865],\n",
       "       [0.68249601, 0.31750399],\n",
       "       [0.78592266, 0.21407734],\n",
       "       [0.74472369, 0.25527631],\n",
       "       [0.09102896, 0.90897104],\n",
       "       [0.77318363, 0.22681637],\n",
       "       [0.97986174, 0.02013826],\n",
       "       [0.8615466 , 0.1384534 ]])"
      ]
     },
     "execution_count": 81,
     "metadata": {},
     "output_type": "execute_result"
    }
   ],
   "source": [
    "# Calculate scores\n",
    "\n",
    "# Probability of prediction input samples belonging to each category\n",
    "# Probability sum is 1\n",
    "scores_rf_1 = rf.predict_proba(X_test)\n",
    "scores_rf_1"
   ]
  },
  {
   "cell_type": "code",
   "execution_count": 82,
   "id": "5c460f7c",
   "metadata": {},
   "outputs": [
    {
     "data": {
      "text/plain": [
       "array([0.11722229, 0.48158753, 0.51897315, 0.19530938, 0.71191508,\n",
       "       0.82502485, 0.68664358, 0.06465392, 0.15692004, 0.70386603,\n",
       "       0.5145344 , 0.26135239, 0.91165357, 0.12906564, 0.90357656,\n",
       "       0.90025927, 0.96406334, 0.16640924, 0.04785073, 0.21881417,\n",
       "       0.43490155, 0.10353894, 0.48755845, 0.78353913, 0.81103431,\n",
       "       0.63325031, 0.65140349, 0.7972799 , 0.16617384, 0.84275946,\n",
       "       0.08653403, 0.22530995, 0.05842413, 0.39072774, 0.48605443,\n",
       "       0.25580039, 0.53756148, 0.74621094, 0.3905679 , 0.83029559,\n",
       "       0.88701071, 0.65410567, 0.67968967, 0.66850757, 0.62377537,\n",
       "       0.19948967, 0.38204371, 0.90298002, 0.16798653, 0.07750131,\n",
       "       0.2672658 , 0.30675621, 0.50183018, 0.82626865, 0.31750399,\n",
       "       0.21407734, 0.25527631, 0.90897104, 0.22681637, 0.02013826,\n",
       "       0.1384534 ])"
      ]
     },
     "execution_count": 82,
     "metadata": {},
     "output_type": "execute_result"
    }
   ],
   "source": [
    "# Take the second column of the above matrix (the predicted value is 1)\n",
    "scores_rf_1_1 = rf.predict_proba(X_test)[:,1]\n",
    "scores_rf_1_1"
   ]
  },
  {
   "cell_type": "markdown",
   "id": "168d27d3",
   "metadata": {},
   "source": [
    "### 3. PR curve and AP value"
   ]
  },
  {
   "cell_type": "code",
   "execution_count": 86,
   "id": "e11233f1",
   "metadata": {},
   "outputs": [
    {
     "name": "stdout",
     "output_type": "stream",
     "text": [
      "ap_rf:\n",
      "0.9536463165783018\n",
      "==============\n"
     ]
    },
    {
     "data": {
      "image/png": "[encoded data removed]",
      "text/plain": [
       "<Figure size 432x288 with 1 Axes>"
      ]
     },
     "metadata": {
      "needs_background": "light"
     },
     "output_type": "display_data"
    },
    {
     "name": "stdout",
     "output_type": "stream",
     "text": [
      "recalls_rf:\n",
      "[1.      0.96875 0.96875 0.96875 0.96875 0.96875 0.96875 0.96875 0.96875\n",
      " 0.96875 0.96875 0.96875 0.96875 0.96875 0.96875 0.96875 0.96875 0.96875\n",
      " 0.9375  0.9375  0.9375  0.9375  0.9375  0.90625 0.875   0.84375 0.84375\n",
      " 0.8125  0.8125  0.78125 0.75    0.71875 0.6875  0.65625 0.65625 0.65625\n",
      " 0.625   0.59375 0.5625  0.53125 0.5     0.46875 0.4375  0.40625 0.375\n",
      " 0.34375 0.3125  0.28125 0.25    0.21875 0.1875  0.15625 0.125   0.09375\n",
      " 0.0625  0.03125 0.     ]\n",
      "57\n",
      "==============\n",
      "precisions_rf:\n",
      "[0.57142857 0.56363636 0.57407407 0.58490566 0.59615385 0.60784314\n",
      " 0.62       0.63265306 0.64583333 0.65957447 0.67391304 0.68888889\n",
      " 0.70454545 0.72093023 0.73809524 0.75609756 0.775      0.79487179\n",
      " 0.78947368 0.81081081 0.83333333 0.85714286 0.88235294 0.87878788\n",
      " 0.875      0.87096774 0.9        0.89655172 0.92857143 0.92592593\n",
      " 0.92307692 0.92       0.91666667 0.91304348 0.95454545 1.\n",
      " 1.         1.         1.         1.         1.         1.\n",
      " 1.         1.         1.         1.         1.         1.\n",
      " 1.         1.         1.         1.         1.         1.\n",
      " 1.         1.         1.        ]\n",
      "57\n",
      "==============\n",
      "thresholds_rf_pr:\n",
      "[0.08653403 0.10353894 0.11722229 0.12906564 0.1384534  0.15692004\n",
      " 0.16617384 0.16640924 0.16798653 0.19530938 0.19948967 0.21407734\n",
      " 0.21881417 0.22530995 0.22681637 0.25527631 0.25580039 0.26135239\n",
      " 0.2672658  0.30675621 0.31750399 0.38204371 0.3905679  0.39072774\n",
      " 0.43490155 0.48158753 0.48605443 0.48755845 0.50183018 0.5145344\n",
      " 0.51897315 0.53756148 0.62377537 0.63325031 0.65140349 0.65410567\n",
      " 0.66850757 0.67968967 0.68664358 0.70386603 0.71191508 0.74621094\n",
      " 0.78353913 0.7972799  0.81103431 0.82502485 0.82626865 0.83029559\n",
      " 0.84275946 0.88701071 0.90025927 0.90298002 0.90357656 0.90897104\n",
      " 0.91165357 0.96406334]\n",
      "56\n"
     ]
    }
   ],
   "source": [
    "# Draw PR curve and calculate AP value\n",
    "\n",
    "# Generate Data\n",
    "\n",
    "# Generate thresholds using encapsulated methods\n",
    "precisions_rf, recalls_rf, thresholds_rf_pr = precision_recall_curve(y_test, scores_rf_1_1)\n",
    "\n",
    "# Draw chart\n",
    "# plt.figure(\"RF_P-R Curve\")\n",
    "\n",
    "# Set the title of the chart\n",
    "plt.title('RF Precision/Recall Curve')\n",
    "\n",
    "# Set the label of the axis\n",
    "plt.xlabel('Recall')\n",
    "plt.ylabel('Precision')\n",
    "\n",
    "\n",
    "# Calculate AP value\n",
    "ap_rf = average_precision_score(y_test, scores_rf_1_1, average='weighted', sample_weight=None)\n",
    "print(\"ap_rf:\")\n",
    "print(ap_rf) # Area Under Curve\n",
    "print(\"==============\")\n",
    "\n",
    "# Display data\n",
    "plt.plot(precisions_rf, recalls_rf, label='AP_rf (area_rf = {0:.7f})'.format(ap_rf), lw=2)\n",
    "\n",
    "# Display legend\n",
    "plt.legend(loc=\"lower left\")\n",
    "\n",
    "# Display chart\n",
    "plt.show()\n",
    "\n",
    "# Generate 56 thresholds\n",
    "# Generate 57 recall-precision pairs according to thresholds\n",
    "# Draw the curve according to recalls-precisions pairs\n",
    "print(\"recalls_rf:\")\n",
    "print(recalls_rf)\n",
    "print(len(recalls_rf))\n",
    "print(\"==============\")\n",
    "\n",
    "print(\"precisions_rf:\")\n",
    "print(precisions_rf)\n",
    "print(len(precisions_rf))\n",
    "print(\"==============\")\n",
    "\n",
    "print(\"thresholds_rf_pr:\")\n",
    "print(thresholds_rf_pr)\n",
    "print(len(thresholds_rf_pr))"
   ]
  },
  {
   "cell_type": "markdown",
   "id": "d60e4491",
   "metadata": {},
   "source": [
    "### 4. ROC curve and AUC value"
   ]
  },
  {
   "cell_type": "code",
   "execution_count": 87,
   "id": "bed2702e",
   "metadata": {},
   "outputs": [
    {
     "name": "stdout",
     "output_type": "stream",
     "text": [
      "roc_auc_rf:\n",
      "0.9385775862068965\n",
      "==============\n"
     ]
    },
    {
     "data": {
      "image/png": "[encoded data removed]",
      "text/plain": [
       "<Figure size 432x288 with 1 Axes>"
      ]
     },
     "metadata": {
      "needs_background": "light"
     },
     "output_type": "display_data"
    },
    {
     "name": "stdout",
     "output_type": "stream",
     "text": [
      "fpr_rf:\n",
      "[0.         0.         0.         0.06896552 0.06896552 0.10344828\n",
      " 0.10344828 0.13793103 0.13793103 0.27586207 0.27586207 0.82758621\n",
      " 0.82758621 1.        ]\n",
      "14\n",
      "==============\n",
      "tpr_rf:\n",
      "[0.      0.03125 0.65625 0.65625 0.8125  0.8125  0.84375 0.84375 0.9375\n",
      " 0.9375  0.96875 0.96875 1.      1.     ]\n",
      "14\n",
      "==============\n",
      "thresholds_rf_roc:\n",
      "[1.96406334 0.96406334 0.65410567 0.63325031 0.50183018 0.48755845\n",
      " 0.48605443 0.48158753 0.3905679  0.2672658  0.26135239 0.10353894\n",
      " 0.08653403 0.02013826]\n",
      "14\n"
     ]
    }
   ],
   "source": [
    "# Draw ROC curve and calculate AUC value\n",
    "\n",
    "# Generate thresholds using encapsulated methods\n",
    "fpr_rf, tpr_rf, thresholds_rf_roc = roc_curve(y_test, scores_rf_1_1)\n",
    "#precision, recall, thresholds = precision_recall_curve(y_test, y_pred)\n",
    "\n",
    "# Draw chart\n",
    "# plt.figure(\"RF_ROC Curve\")\n",
    "\n",
    "# Set the title of the chart\n",
    "plt.title('RF_fpr/tpr Curve')\n",
    "\n",
    "# Set the label of the axis\n",
    "plt.xlabel('fpr')\n",
    "plt.ylabel('tpr')\n",
    "# plt.xlabel(\"False Positive Rate\")\n",
    "# plt.ylabel(\"True Positive Rate\")\n",
    "\n",
    "# Calculate AUC value\n",
    "roc_auc_rf = auc(fpr_rf, tpr_rf)\n",
    "print(\"roc_auc_rf:\")\n",
    "print(roc_auc_rf) # Area Under Curve\n",
    "print(\"==============\")\n",
    "\n",
    "# Display data\n",
    "plt.plot(fpr_rf, tpr_rf, 'k--', label='ROC_rf (area_rf = {0:.7f})'.format(roc_auc_rf), lw=2) #lw =2 linewidth\n",
    "\n",
    "# Display legend\n",
    "plt.legend(loc=\"lower right\")\n",
    "\n",
    "# Display chart\n",
    "plt.show()\n",
    "\n",
    "# Generate 14 thresholds\n",
    "# Generate 14 fpr-tpr pairs according to thresholds\n",
    "# Draw the curve according to fpr-tpr pairs\n",
    "print(\"fpr_rf:\")\n",
    "print(fpr_rf)\n",
    "print(len(fpr_rf))\n",
    "print(\"==============\")\n",
    "\n",
    "print(\"tpr_rf:\")\n",
    "print(tpr_rf)\n",
    "print(len(tpr_rf))\n",
    "print(\"==============\")\n",
    "\n",
    "print(\"thresholds_rf_roc:\")\n",
    "print(thresholds_rf_roc)\n",
    "print(len(thresholds_rf_roc))"
   ]
  },
  {
   "cell_type": "markdown",
   "id": "244a4fc1",
   "metadata": {},
   "source": [
    "## Data collection and comparison"
   ]
  },
  {
   "cell_type": "markdown",
   "id": "252157fc",
   "metadata": {},
   "source": [
    "### 1. Accuracy"
   ]
  },
  {
   "cell_type": "code",
   "execution_count": 89,
   "id": "a735a219",
   "metadata": {},
   "outputs": [
    {
     "name": "stdout",
     "output_type": "stream",
     "text": [
      "Logistic Regression:\n",
      "The test accuracy score of Logistric Regression is  0.9016393442622951\n",
      "The number of correctly classified samples is  55\n",
      "===================================================================\n",
      "SVM:\n",
      "The test accuracy score of Logistric Regression is  0.8852459016393442\n",
      "The number of correctly classified samples is  54\n",
      "===================================================================\n",
      "KNN:\n",
      "The test accuracy score of Logistric Regression is  0.8852459016393442\n",
      "The number of correctly classified samples is  54\n",
      "===================================================================\n",
      "Random Forest:\n",
      "The test accuracy score of Logistric Regression is  0.8688524590163934\n",
      "The number of correctly classified samples is  53\n",
      "===================================================================\n"
     ]
    }
   ],
   "source": [
    "print(\"Logistic Regression:\")\n",
    "print(\"The test accuracy score of Logistric Regression is \", acc_lr)\n",
    "print(\"The number of correctly classified samples is \", acc_number_lr)\n",
    "print(\"===================================================================\")\n",
    "\n",
    "print(\"SVM:\")\n",
    "print(\"The test accuracy score of Logistric Regression is \", acc_svm)\n",
    "print(\"The number of correctly classified samples is \", acc_number_svm)\n",
    "print(\"===================================================================\")\n",
    "\n",
    "print(\"KNN:\")\n",
    "print(\"The test accuracy score of Logistric Regression is \", acc_knn)\n",
    "print(\"The number of correctly classified samples is \", acc_number_knn)\n",
    "print(\"===================================================================\")\n",
    "\n",
    "print(\"Random Forest:\")\n",
    "print(\"The test accuracy score of Logistric Regression is \", acc_rf)\n",
    "print(\"The number of correctly classified samples is \", acc_number_rf)\n",
    "print(\"===================================================================\")"
   ]
  },
  {
   "cell_type": "code",
   "execution_count": 166,
   "id": "201078f0",
   "metadata": {},
   "outputs": [
    {
     "data": {
      "image/png": "[encoded data removed]",
      "text/plain": [
       "<Figure size 864x504 with 1 Axes>"
      ]
     },
     "metadata": {
      "needs_background": "light"
     },
     "output_type": "display_data"
    }
   ],
   "source": [
    "# 1_2 acc 画图集合\n",
    "\n",
    "models_acc = pd.DataFrame({\n",
    "    'Model' : ['LR', \n",
    "                 'SVM', \n",
    "                 'KNN', \n",
    "                 'RF'\n",
    "                ],\n",
    "    'Acc' : [acc_lr,\n",
    "               acc_svm,\n",
    "               acc_knn,\n",
    "               acc_rf\n",
    "              ]\n",
    "})\n",
    "\n",
    "plt.figure(figsize = (12, 7))\n",
    "sns.barplot(x = 'Acc', y = 'Model', data = models_acc)\n",
    "\n",
    "# Set the title of the chart\n",
    "plt.title('Accuracy Data Collection',fontsize = 16, fontweight = 'bold', alpha = 1, pad = 12)\n",
    "\n",
    "# Set the label of the axis\n",
    "plt.xlabel('Acc', fontsize = 16, labelpad=20)\n",
    "plt.ylabel('Model', fontsize = 16, labelpad=20)\n",
    "\n",
    "# Set Axis Precision\n",
    "my_x_ticks = np.arange(0.00, 1.30, 0.05)\n",
    "plt.xticks(my_x_ticks)\n",
    "\n",
    "# Set Axis Label Text Size\n",
    "plt.xticks(fontproperties = 'Times New Roman', size = 14)\n",
    "plt.yticks(fontproperties = 'Times New Roman', size = 14)\n",
    "\n",
    "# Display Data\n",
    "plt.text(0.92, 0.04, acc_lr, size = 14)\n",
    "plt.text(0.90, 1.04, acc_svm, size = 14)\n",
    "plt.text(0.90, 2.04, acc_knn, size = 14)\n",
    "plt.text(0.88, 3.04, acc_rf, size = 14)\n",
    "\n",
    "# Display chart\n",
    "plt.show()"
   ]
  },
  {
   "cell_type": "markdown",
   "id": "2e2bcacf",
   "metadata": {},
   "source": [
    "### 2. Confusion matrix"
   ]
  },
  {
   "cell_type": "code",
   "execution_count": 100,
   "id": "9ddc5994",
   "metadata": {},
   "outputs": [
    {
     "name": "stdout",
     "output_type": "stream",
     "text": [
      "Logistic Regression:\n",
      "The confusion matrix is \n",
      " [[27  2]\n",
      " [ 4 28]]\n",
      "The number of correctly classified samples is  55\n",
      "===================================================================\n",
      "SVM:\n",
      "The confusion matrix is \n",
      " [[27  2]\n",
      " [ 5 27]]\n",
      "The number of correctly classified samples is  54\n",
      "===================================================================\n",
      "KNN:\n",
      "The confusion matrix is \n",
      " [[26  3]\n",
      " [ 4 28]]\n",
      "The number of correctly classified samples is  54\n",
      "===================================================================\n",
      "Random Forest:\n",
      "The confusion matrix is \n",
      " [[27  2]\n",
      " [ 6 26]]\n",
      "The number of correctly classified samples is  53\n",
      "===================================================================\n"
     ]
    }
   ],
   "source": [
    "# Single confusion matrix\n",
    "print(\"Logistic Regression:\")\n",
    "print(\"The confusion matrix is \\n\", cm_lr_1)\n",
    "print(\"The number of correctly classified samples is \", acc_number_lr)\n",
    "print(\"===================================================================\")\n",
    "\n",
    "print(\"SVM:\")\n",
    "print(\"The confusion matrix is \\n\", cm_svm_1)\n",
    "print(\"The number of correctly classified samples is \", acc_number_svm)\n",
    "print(\"===================================================================\")\n",
    "\n",
    "print(\"KNN:\")\n",
    "print(\"The confusion matrix is \\n\", cm_knn_1)\n",
    "print(\"The number of correctly classified samples is \", acc_number_knn)\n",
    "print(\"===================================================================\")\n",
    "\n",
    "print(\"Random Forest:\")\n",
    "print(\"The confusion matrix is \\n\", cm_rf_1)\n",
    "print(\"The number of correctly classified samples is \", acc_number_rf)\n",
    "print(\"===================================================================\")"
   ]
  },
  {
   "cell_type": "code",
   "execution_count": 104,
   "id": "a1b6fd06",
   "metadata": {},
   "outputs": [
    {
     "name": "stdout",
     "output_type": "stream",
     "text": [
      "Logistic Regression:\n",
      "The single confusion matrix is \n",
      " [[27  2]\n",
      " [ 4 28]]\n",
      "==========================================\n",
      "The multiple confusion matrix is \n",
      " [[[28  4]\n",
      "  [ 2 27]]\n",
      "\n",
      " [[27  2]\n",
      "  [ 4 28]]]\n",
      "===================================================================\n",
      "SVM:\n",
      "The single confusion matrix is \n",
      " [[27  2]\n",
      " [ 5 27]]\n",
      "==========================================\n",
      "The multiple confusion matrix is \n",
      " [[[27  5]\n",
      "  [ 2 27]]\n",
      "\n",
      " [[27  2]\n",
      "  [ 5 27]]]\n",
      "===================================================================\n",
      "KNN:\n",
      "The single confusion matrix is \n",
      " [[26  3]\n",
      " [ 4 28]]\n",
      "==========================================\n",
      "The multiple confusion matrix is \n",
      " [[[28  4]\n",
      "  [ 3 26]]\n",
      "\n",
      " [[26  3]\n",
      "  [ 4 28]]]\n",
      "===================================================================\n",
      "Random Forest:\n",
      "The single confusion matrix is \n",
      " [[27  2]\n",
      " [ 6 26]]\n",
      "==========================================\n",
      "The multiple confusion matrix is \n",
      " [[[26  6]\n",
      "  [ 2 27]]\n",
      "\n",
      " [[27  2]\n",
      "  [ 6 26]]]\n",
      "===================================================================\n"
     ]
    }
   ],
   "source": [
    "# Multiple confusion matrix\n",
    "print(\"Logistic Regression:\")\n",
    "print(\"The single confusion matrix is \\n\", cm_lr_1)\n",
    "print(\"==========================================\")\n",
    "print(\"The multiple confusion matrix is \\n\", cm_lr_2)\n",
    "print(\"===================================================================\")\n",
    "\n",
    "print(\"SVM:\")\n",
    "print(\"The single confusion matrix is \\n\", cm_svm_1)\n",
    "print(\"==========================================\")\n",
    "print(\"The multiple confusion matrix is \\n\", cm_svm_2)\n",
    "print(\"===================================================================\")\n",
    "\n",
    "print(\"KNN:\")\n",
    "print(\"The single confusion matrix is \\n\", cm_knn_1)\n",
    "print(\"==========================================\")\n",
    "print(\"The multiple confusion matrix is \\n\", cm_knn_2)\n",
    "print(\"===================================================================\")\n",
    "\n",
    "print(\"Random Forest:\")\n",
    "print(\"The single confusion matrix is \\n\", cm_rf_1)\n",
    "print(\"==========================================\")\n",
    "print(\"The multiple confusion matrix is \\n\", cm_rf_2)\n",
    "print(\"===================================================================\")"
   ]
  },
  {
   "cell_type": "markdown",
   "id": "6cee4ffe",
   "metadata": {},
   "source": [
    "### 3. Precision, Recall, F1"
   ]
  },
  {
   "cell_type": "code",
   "execution_count": 107,
   "id": "7cad79be",
   "metadata": {},
   "outputs": [
    {
     "name": "stdout",
     "output_type": "stream",
     "text": [
      "Logistic Regression:\n",
      "The precision of LR is  0.9036841177507492\n",
      "==========================\n",
      "The recall of LR is  0.9016393442622951\n",
      "==========================\n",
      "The f1 of LR is  0.9016922263352722\n",
      "===================================================================\n",
      "\n",
      "SVM:\n",
      "The precision of SVM is  0.8895385811192763\n",
      "==========================\n",
      "The recall of SVM is  0.8852459016393442\n",
      "==========================\n",
      "The f1 of SVM is  0.8852459016393444\n",
      "===================================================================\n",
      "\n",
      "KNN:\n",
      "The precision of KNN is  0.8858452317997532\n",
      "==========================\n",
      "The recall of KNN is  0.8852459016393442\n",
      "==========================\n",
      "The f1 of KNN is  0.8853076471859468\n",
      "===================================================================\n",
      "\n",
      "Random Forest:\n",
      "The precision of RF is  0.8760911219927613\n",
      "==========================\n",
      "The recall of RF is  0.8688524590163934\n",
      "==========================\n",
      "The f1 of RF is  0.8687114401551207\n",
      "===================================================================\n"
     ]
    }
   ],
   "source": [
    "print(\"Logistic Regression:\")\n",
    "print(\"The precision of LR is \", precision_score_lr_weighted)\n",
    "print(\"==========================\")\n",
    "print(\"The recall of LR is \", recall_score_lr_weighted)\n",
    "print(\"==========================\")\n",
    "print(\"The f1 of LR is \", f1_score_lr_weighted)\n",
    "print(\"===================================================================\")\n",
    "print(\"\")\n",
    "print(\"SVM:\")\n",
    "print(\"The precision of SVM is \", precision_score_svm_weighted)\n",
    "print(\"==========================\")\n",
    "print(\"The recall of SVM is \", recall_score_svm_weighted)\n",
    "print(\"==========================\")\n",
    "print(\"The f1 of SVM is \", f1_score_svm_weighted)\n",
    "print(\"===================================================================\")\n",
    "print(\"\")\n",
    "print(\"KNN:\")\n",
    "print(\"The precision of KNN is \", precision_score_knn_weighted)\n",
    "print(\"==========================\")\n",
    "print(\"The recall of KNN is \", recall_score_knn_weighted)\n",
    "print(\"==========================\")\n",
    "print(\"The f1 of KNN is \", f1_score_knn_weighted)\n",
    "print(\"===================================================================\")\n",
    "print(\"\")\n",
    "print(\"Random Forest:\")\n",
    "print(\"The precision of RF is \", precision_score_rf_weighted)\n",
    "print(\"==========================\")\n",
    "print(\"The recall of RF is \", recall_score_rf_weighted)\n",
    "print(\"==========================\")\n",
    "print(\"The f1 of RF is \", f1_score_rf_weighted)\n",
    "print(\"===================================================================\")"
   ]
  },
  {
   "cell_type": "code",
   "execution_count": 165,
   "id": "24d4bd15",
   "metadata": {},
   "outputs": [
    {
     "data": {
      "image/png": "[encoded data removed]",
      "text/plain": [
       "<Figure size 864x504 with 1 Axes>"
      ]
     },
     "metadata": {
      "needs_background": "light"
     },
     "output_type": "display_data"
    }
   ],
   "source": [
    "models_precision = pd.DataFrame({\n",
    "    'Model' : ['LR', \n",
    "                 'SVM', \n",
    "                 'KNN', \n",
    "                 'RF'\n",
    "                ],\n",
    "    'Precision' : [precision_score_lr_weighted,\n",
    "               precision_score_svm_weighted,\n",
    "               precision_score_knn_weighted,\n",
    "               precision_score_rf_weighted\n",
    "              ]\n",
    "})\n",
    "\n",
    "plt.figure(figsize = (12, 7))\n",
    "sns.barplot(x = 'Precision', y = 'Model', data = models_precision)\n",
    "\n",
    "# Set the title of the chart\n",
    "plt.title('Precision Data Collection',fontsize = 16, fontweight = 'bold', alpha = 1, pad = 12)\n",
    "\n",
    "# Set the label of the axis\n",
    "plt.xlabel('Precision', fontsize = 16, labelpad=20)\n",
    "plt.ylabel('Model', fontsize = 16, labelpad=20)\n",
    "\n",
    "# Set Axis Precision\n",
    "my_x_ticks = np.arange(0.00, 1.30, 0.05)\n",
    "plt.xticks(my_x_ticks)\n",
    "\n",
    "# Set Axis Label Text Size\n",
    "plt.xticks(fontproperties = 'Times New Roman', size = 14)\n",
    "plt.yticks(fontproperties = 'Times New Roman', size = 14)\n",
    "\n",
    "# Display data\n",
    "plt.text(0.92, 0.04, precision_score_lr_weighted, size = 14)\n",
    "plt.text(0.90, 1.04, precision_score_svm_weighted, size = 14)\n",
    "plt.text(0.90, 2.04, precision_score_knn_weighted, size = 14)\n",
    "plt.text(0.89, 3.04, precision_score_rf_weighted, size = 14)\n",
    "\n",
    "# Display chart\n",
    "plt.show()"
   ]
  },
  {
   "cell_type": "code",
   "execution_count": 164,
   "id": "0f9dbf09",
   "metadata": {},
   "outputs": [
    {
     "data": {
      "image/png": "[encoded data removed]",
      "text/plain": [
       "<Figure size 864x504 with 1 Axes>"
      ]
     },
     "metadata": {
      "needs_background": "light"
     },
     "output_type": "display_data"
    }
   ],
   "source": [
    "models_recall = pd.DataFrame({\n",
    "    'Model' : ['LR', \n",
    "                 'SVM', \n",
    "                 'KNN', \n",
    "                 'RF'\n",
    "                ],\n",
    "    'Recall' : [recall_score_lr_weighted,\n",
    "               recall_score_svm_weighted,\n",
    "               recall_score_knn_weighted,\n",
    "               recall_score_rf_weighted\n",
    "              ]\n",
    "})\n",
    "\n",
    "plt.figure(figsize = (12, 7))\n",
    "sns.barplot(x = 'Recall', y = 'Model', data = models_recall)\n",
    "\n",
    "# Set the title of the chart\n",
    "plt.title('Recall Data Collection',fontsize = 16, fontweight = 'bold', alpha = 1, pad = 12)\n",
    "\n",
    "# Set the label of the axis\n",
    "plt.xlabel('Recall', fontsize = 16, labelpad=20)\n",
    "plt.ylabel('Model', fontsize = 16, labelpad=20)\n",
    "\n",
    "# Set Axis Precision\n",
    "my_x_ticks = np.arange(0.00, 1.30, 0.05)\n",
    "plt.xticks(my_x_ticks)\n",
    "\n",
    "# Set Axis Label Text Size\n",
    "plt.xticks(fontproperties = 'Times New Roman', size = 14)\n",
    "plt.yticks(fontproperties = 'Times New Roman', size = 14)\n",
    "\n",
    "# Display data\n",
    "plt.text(0.92, 0.04, recall_score_lr_weighted, size = 14)\n",
    "plt.text(0.90, 1.04, recall_score_svm_weighted, size = 14)\n",
    "plt.text(0.90, 2.04, recall_score_knn_weighted, size = 14)\n",
    "plt.text(0.88, 3.04, recall_score_rf_weighted, size = 14)\n",
    "\n",
    "# Display chart\n",
    "plt.show()"
   ]
  },
  {
   "cell_type": "code",
   "execution_count": 163,
   "id": "ec6e019a",
   "metadata": {},
   "outputs": [
    {
     "data": {
      "image/png": "[encoded data removed]",
      "text/plain": [
       "<Figure size 864x504 with 1 Axes>"
      ]
     },
     "metadata": {
      "needs_background": "light"
     },
     "output_type": "display_data"
    }
   ],
   "source": [
    "models_f1 = pd.DataFrame({\n",
    "    'Model' : ['LR', \n",
    "                 'SVM', \n",
    "                 'KNN', \n",
    "                 'RF'\n",
    "                ],\n",
    "    'F1' : [f1_score_lr_weighted,\n",
    "               f1_score_svm_weighted,\n",
    "               f1_score_knn_weighted,\n",
    "               f1_score_rf_weighted\n",
    "              ]\n",
    "})\n",
    "\n",
    "plt.figure(figsize = (12, 7))\n",
    "sns.barplot(x = 'F1', y = 'Model', data = models_f1)\n",
    "\n",
    "# Set the title of the chart\n",
    "plt.title('F1 Data Collection',fontsize = 16, fontweight = 'bold', alpha = 1, pad = 12)\n",
    "\n",
    "# Set the label of the axis\n",
    "plt.xlabel('F1', fontsize = 16, labelpad=20)\n",
    "plt.ylabel('Model', fontsize = 16, labelpad=20)\n",
    "\n",
    "# Set Axis Precision\n",
    "my_x_ticks = np.arange(0.00, 1.30, 0.05)\n",
    "plt.xticks(my_x_ticks)\n",
    "\n",
    "# Set Axis Label Text Size\n",
    "plt.xticks(fontproperties = 'Times New Roman', size = 14)\n",
    "plt.yticks(fontproperties = 'Times New Roman', size = 14)\n",
    "\n",
    "# Display data\n",
    "plt.text(0.92, 0.04, f1_score_lr_weighted, size = 14)\n",
    "plt.text(0.90, 1.04, f1_score_svm_weighted, size = 14)\n",
    "plt.text(0.90, 2.04, f1_score_knn_weighted, size = 14)\n",
    "plt.text(0.88, 3.04, f1_score_rf_weighted, size = 14)\n",
    "\n",
    "# Display chart\n",
    "plt.show()"
   ]
  },
  {
   "cell_type": "markdown",
   "id": "25d3cc8a",
   "metadata": {},
   "source": [
    "### 4. Probability distribution of results"
   ]
  },
  {
   "cell_type": "code",
   "execution_count": 125,
   "id": "30e57700",
   "metadata": {},
   "outputs": [
    {
     "name": "stdout",
     "output_type": "stream",
     "text": [
      "Logistic Regression:\n",
      "The predicted probability distribution is \n",
      " [[0.97648128 0.02351872]\n",
      " [0.53306119 0.46693881]\n",
      " [0.35084894 0.64915106]\n",
      " [0.97677912 0.02322088]\n",
      " [0.06736384 0.93263616]\n",
      " [0.07824614 0.92175386]\n",
      " [0.35179804 0.64820196]\n",
      " [0.99454676 0.00545324]\n",
      " [0.98758655 0.01241345]\n",
      " [0.42552968 0.57447032]\n",
      " [0.47085575 0.52914425]\n",
      " [0.8954639  0.1045361 ]\n",
      " [0.07579818 0.92420182]\n",
      " [0.94804642 0.05195358]\n",
      " [0.01478362 0.98521638]\n",
      " [0.0486547  0.9513453 ]\n",
      " [0.02156507 0.97843493]\n",
      " [0.95928012 0.04071988]\n",
      " [0.99256059 0.00743941]\n",
      " [0.98612054 0.01387946]\n",
      " [0.56087972 0.43912028]\n",
      " [0.92970746 0.07029254]\n",
      " [0.64769459 0.35230541]\n",
      " [0.24408553 0.75591447]\n",
      " [0.17248489 0.82751511]\n",
      " [0.36672646 0.63327354]\n",
      " [0.12799731 0.87200269]\n",
      " [0.29024373 0.70975627]\n",
      " [0.94381943 0.05618057]\n",
      " [0.04829158 0.95170842]\n",
      " [0.97562557 0.02437443]\n",
      " [0.97341076 0.02658924]\n",
      " [0.99080268 0.00919732]\n",
      " [0.83179781 0.16820219]\n",
      " [0.16310977 0.83689023]\n",
      " [0.96248625 0.03751375]\n",
      " [0.25304087 0.74695913]\n",
      " [0.12226533 0.87773467]\n",
      " [0.37623949 0.62376051]\n",
      " [0.11102049 0.88897951]\n",
      " [0.07300325 0.92699675]\n",
      " [0.1698982  0.8301018 ]\n",
      " [0.09534258 0.90465742]\n",
      " [0.28058703 0.71941297]\n",
      " [0.19783849 0.80216151]\n",
      " [0.91726928 0.08273072]\n",
      " [0.62485039 0.37514961]\n",
      " [0.03949202 0.96050798]\n",
      " [0.96474587 0.03525413]\n",
      " [0.98794873 0.01205127]\n",
      " [0.90966284 0.09033716]\n",
      " [0.94556448 0.05443552]\n",
      " [0.36613776 0.63386224]\n",
      " [0.04406484 0.95593516]\n",
      " [0.79924729 0.20075271]\n",
      " [0.97441136 0.02558864]\n",
      " [0.80975411 0.19024589]\n",
      " [0.03290137 0.96709863]\n",
      " [0.98129403 0.01870597]\n",
      " [0.99541659 0.00458341]\n",
      " [0.94698837 0.05301163]]\n",
      "===================================================================\n",
      "SVM:\n",
      "The predicted probability distribution is \n",
      " [[0.95581989 0.04418011]\n",
      " [0.62269654 0.37730346]\n",
      " [0.4580822  0.5419178 ]\n",
      " [0.69973058 0.30026942]\n",
      " [0.15657004 0.84342996]\n",
      " [0.16848459 0.83151541]\n",
      " [0.17426567 0.82573433]\n",
      " [0.76325795 0.23674205]\n",
      " [0.94518883 0.05481117]\n",
      " [0.37660174 0.62339826]\n",
      " [0.44832513 0.55167487]\n",
      " [0.78594374 0.21405626]\n",
      " [0.12204034 0.87795966]\n",
      " [0.85562691 0.14437309]\n",
      " [0.0451956  0.9548044 ]\n",
      " [0.05916553 0.94083447]\n",
      " [0.07143069 0.92856931]\n",
      " [0.92259068 0.07740932]\n",
      " [0.97412038 0.02587962]\n",
      " [0.90655031 0.09344969]\n",
      " [0.655901   0.344099  ]\n",
      " [0.93960929 0.06039071]\n",
      " [0.66325777 0.33674223]\n",
      " [0.21546052 0.78453948]\n",
      " [0.22053853 0.77946147]\n",
      " [0.29986707 0.70013293]\n",
      " [0.18298161 0.81701839]\n",
      " [0.18019602 0.81980398]\n",
      " [0.90416889 0.09583111]\n",
      " [0.07513215 0.92486785]\n",
      " [0.94228192 0.05771808]\n",
      " [0.91293728 0.08706272]\n",
      " [0.94833933 0.05166067]\n",
      " [0.72699587 0.27300413]\n",
      " [0.52659255 0.47340745]\n",
      " [0.93881556 0.06118444]\n",
      " [0.4477775  0.5522225 ]\n",
      " [0.15286155 0.84713845]\n",
      " [0.47953337 0.52046663]\n",
      " [0.16845892 0.83154108]\n",
      " [0.07598026 0.92401974]\n",
      " [0.15514909 0.84485091]\n",
      " [0.081953   0.918047  ]\n",
      " [0.29969623 0.70030377]\n",
      " [0.27240057 0.72759943]\n",
      " [0.78792191 0.21207809]\n",
      " [0.58696287 0.41303713]\n",
      " [0.05770785 0.94229215]\n",
      " [0.89755611 0.10244389]\n",
      " [0.96509188 0.03490812]\n",
      " [0.80791809 0.19208191]\n",
      " [0.85337444 0.14662556]\n",
      " [0.48125528 0.51874472]\n",
      " [0.14618959 0.85381041]\n",
      " [0.73523027 0.26476973]\n",
      " [0.7424836  0.2575164 ]\n",
      " [0.80357809 0.19642191]\n",
      " [0.0585945  0.9414055 ]\n",
      " [0.92701681 0.07298319]\n",
      " [0.98700788 0.01299212]\n",
      " [0.96517651 0.03482349]]\n",
      "===================================================================\n",
      "KNN:\n",
      "The predicted probability distribution is \n",
      " [[1.  0. ]\n",
      " [0.8 0.2]\n",
      " [0.4 0.6]\n",
      " [0.8 0.2]\n",
      " [0.2 0.8]\n",
      " [0.  1. ]\n",
      " [0.  1. ]\n",
      " [1.  0. ]\n",
      " [0.8 0.2]\n",
      " [0.2 0.8]\n",
      " [0.4 0.6]\n",
      " [0.6 0.4]\n",
      " [0.  1. ]\n",
      " [0.8 0.2]\n",
      " [0.  1. ]\n",
      " [0.  1. ]\n",
      " [0.  1. ]\n",
      " [0.8 0.2]\n",
      " [1.  0. ]\n",
      " [1.  0. ]\n",
      " [0.6 0.4]\n",
      " [1.  0. ]\n",
      " [0.8 0.2]\n",
      " [0.  1. ]\n",
      " [0.  1. ]\n",
      " [0.  1. ]\n",
      " [0.2 0.8]\n",
      " [0.  1. ]\n",
      " [1.  0. ]\n",
      " [0.  1. ]\n",
      " [1.  0. ]\n",
      " [0.8 0.2]\n",
      " [1.  0. ]\n",
      " [0.6 0.4]\n",
      " [0.4 0.6]\n",
      " [0.8 0.2]\n",
      " [0.4 0.6]\n",
      " [0.  1. ]\n",
      " [0.2 0.8]\n",
      " [0.2 0.8]\n",
      " [0.  1. ]\n",
      " [0.  1. ]\n",
      " [0.  1. ]\n",
      " [0.  1. ]\n",
      " [0.2 0.8]\n",
      " [0.8 0.2]\n",
      " [0.4 0.6]\n",
      " [0.  1. ]\n",
      " [0.8 0.2]\n",
      " [1.  0. ]\n",
      " [1.  0. ]\n",
      " [0.8 0.2]\n",
      " [0.4 0.6]\n",
      " [0.  1. ]\n",
      " [0.6 0.4]\n",
      " [1.  0. ]\n",
      " [0.8 0.2]\n",
      " [0.2 0.8]\n",
      " [1.  0. ]\n",
      " [1.  0. ]\n",
      " [1.  0. ]]\n",
      "===================================================================\n",
      "Random Forest:\n",
      "The predicted probability distribution is \n",
      " [[0.88277771 0.11722229]\n",
      " [0.51841247 0.48158753]\n",
      " [0.48102685 0.51897315]\n",
      " [0.80469062 0.19530938]\n",
      " [0.28808492 0.71191508]\n",
      " [0.17497515 0.82502485]\n",
      " [0.31335642 0.68664358]\n",
      " [0.93534608 0.06465392]\n",
      " [0.84307996 0.15692004]\n",
      " [0.29613397 0.70386603]\n",
      " [0.4854656  0.5145344 ]\n",
      " [0.73864761 0.26135239]\n",
      " [0.08834643 0.91165357]\n",
      " [0.87093436 0.12906564]\n",
      " [0.09642344 0.90357656]\n",
      " [0.09974073 0.90025927]\n",
      " [0.03593666 0.96406334]\n",
      " [0.83359076 0.16640924]\n",
      " [0.95214927 0.04785073]\n",
      " [0.78118583 0.21881417]\n",
      " [0.56509845 0.43490155]\n",
      " [0.89646106 0.10353894]\n",
      " [0.51244155 0.48755845]\n",
      " [0.21646087 0.78353913]\n",
      " [0.18896569 0.81103431]\n",
      " [0.36674969 0.63325031]\n",
      " [0.34859651 0.65140349]\n",
      " [0.2027201  0.7972799 ]\n",
      " [0.83382616 0.16617384]\n",
      " [0.15724054 0.84275946]\n",
      " [0.91346597 0.08653403]\n",
      " [0.77469005 0.22530995]\n",
      " [0.94157587 0.05842413]\n",
      " [0.60927226 0.39072774]\n",
      " [0.51394557 0.48605443]\n",
      " [0.74419961 0.25580039]\n",
      " [0.46243852 0.53756148]\n",
      " [0.25378906 0.74621094]\n",
      " [0.6094321  0.3905679 ]\n",
      " [0.16970441 0.83029559]\n",
      " [0.11298929 0.88701071]\n",
      " [0.34589433 0.65410567]\n",
      " [0.32031033 0.67968967]\n",
      " [0.33149243 0.66850757]\n",
      " [0.37622463 0.62377537]\n",
      " [0.80051033 0.19948967]\n",
      " [0.61795629 0.38204371]\n",
      " [0.09701998 0.90298002]\n",
      " [0.83201347 0.16798653]\n",
      " [0.92249869 0.07750131]\n",
      " [0.7327342  0.2672658 ]\n",
      " [0.69324379 0.30675621]\n",
      " [0.49816982 0.50183018]\n",
      " [0.17373135 0.82626865]\n",
      " [0.68249601 0.31750399]\n",
      " [0.78592266 0.21407734]\n",
      " [0.74472369 0.25527631]\n",
      " [0.09102896 0.90897104]\n",
      " [0.77318363 0.22681637]\n",
      " [0.97986174 0.02013826]\n",
      " [0.8615466  0.1384534 ]]\n",
      "===================================================================\n"
     ]
    }
   ],
   "source": [
    "# scores1\n",
    "print(\"Logistic Regression:\")\n",
    "print(\"The predicted probability distribution is \\n\", scores_lr_1)\n",
    "print(\"===================================================================\")\n",
    "\n",
    "print(\"SVM:\")\n",
    "print(\"The predicted probability distribution is \\n\", scores_svm_1)\n",
    "print(\"===================================================================\")\n",
    "\n",
    "print(\"KNN:\")\n",
    "print(\"The predicted probability distribution is \\n\", scores_knn_1)\n",
    "print(\"===================================================================\")\n",
    "\n",
    "print(\"Random Forest:\")\n",
    "print(\"The predicted probability distribution is \\n\", scores_rf_1)\n",
    "print(\"===================================================================\")"
   ]
  },
  {
   "cell_type": "code",
   "execution_count": 126,
   "id": "fc70ad68",
   "metadata": {},
   "outputs": [
    {
     "name": "stdout",
     "output_type": "stream",
     "text": [
      "Logistic Regression:\n",
      "The probability that the prediction result equal 1 is \n",
      " [0.02351872 0.46693881 0.64915106 0.02322088 0.93263616 0.92175386\n",
      " 0.64820196 0.00545324 0.01241345 0.57447032 0.52914425 0.1045361\n",
      " 0.92420182 0.05195358 0.98521638 0.9513453  0.97843493 0.04071988\n",
      " 0.00743941 0.01387946 0.43912028 0.07029254 0.35230541 0.75591447\n",
      " 0.82751511 0.63327354 0.87200269 0.70975627 0.05618057 0.95170842\n",
      " 0.02437443 0.02658924 0.00919732 0.16820219 0.83689023 0.03751375\n",
      " 0.74695913 0.87773467 0.62376051 0.88897951 0.92699675 0.8301018\n",
      " 0.90465742 0.71941297 0.80216151 0.08273072 0.37514961 0.96050798\n",
      " 0.03525413 0.01205127 0.09033716 0.05443552 0.63386224 0.95593516\n",
      " 0.20075271 0.02558864 0.19024589 0.96709863 0.01870597 0.00458341\n",
      " 0.05301163]\n",
      "===================================================================\n",
      "SVM:\n",
      "The probability that the prediction result equal 1 is \n",
      " [0.02351872 0.46693881 0.64915106 0.02322088 0.93263616 0.92175386\n",
      " 0.64820196 0.00545324 0.01241345 0.57447032 0.52914425 0.1045361\n",
      " 0.92420182 0.05195358 0.98521638 0.9513453  0.97843493 0.04071988\n",
      " 0.00743941 0.01387946 0.43912028 0.07029254 0.35230541 0.75591447\n",
      " 0.82751511 0.63327354 0.87200269 0.70975627 0.05618057 0.95170842\n",
      " 0.02437443 0.02658924 0.00919732 0.16820219 0.83689023 0.03751375\n",
      " 0.74695913 0.87773467 0.62376051 0.88897951 0.92699675 0.8301018\n",
      " 0.90465742 0.71941297 0.80216151 0.08273072 0.37514961 0.96050798\n",
      " 0.03525413 0.01205127 0.09033716 0.05443552 0.63386224 0.95593516\n",
      " 0.20075271 0.02558864 0.19024589 0.96709863 0.01870597 0.00458341\n",
      " 0.05301163]\n",
      "===================================================================\n",
      "KNN:\n",
      "The probability that the prediction result equal 1 is \n",
      " [0.02351872 0.46693881 0.64915106 0.02322088 0.93263616 0.92175386\n",
      " 0.64820196 0.00545324 0.01241345 0.57447032 0.52914425 0.1045361\n",
      " 0.92420182 0.05195358 0.98521638 0.9513453  0.97843493 0.04071988\n",
      " 0.00743941 0.01387946 0.43912028 0.07029254 0.35230541 0.75591447\n",
      " 0.82751511 0.63327354 0.87200269 0.70975627 0.05618057 0.95170842\n",
      " 0.02437443 0.02658924 0.00919732 0.16820219 0.83689023 0.03751375\n",
      " 0.74695913 0.87773467 0.62376051 0.88897951 0.92699675 0.8301018\n",
      " 0.90465742 0.71941297 0.80216151 0.08273072 0.37514961 0.96050798\n",
      " 0.03525413 0.01205127 0.09033716 0.05443552 0.63386224 0.95593516\n",
      " 0.20075271 0.02558864 0.19024589 0.96709863 0.01870597 0.00458341\n",
      " 0.05301163]\n",
      "===================================================================\n",
      "Random Forest:\n",
      "The probability that the prediction result equal 1 is \n",
      " [0.02351872 0.46693881 0.64915106 0.02322088 0.93263616 0.92175386\n",
      " 0.64820196 0.00545324 0.01241345 0.57447032 0.52914425 0.1045361\n",
      " 0.92420182 0.05195358 0.98521638 0.9513453  0.97843493 0.04071988\n",
      " 0.00743941 0.01387946 0.43912028 0.07029254 0.35230541 0.75591447\n",
      " 0.82751511 0.63327354 0.87200269 0.70975627 0.05618057 0.95170842\n",
      " 0.02437443 0.02658924 0.00919732 0.16820219 0.83689023 0.03751375\n",
      " 0.74695913 0.87773467 0.62376051 0.88897951 0.92699675 0.8301018\n",
      " 0.90465742 0.71941297 0.80216151 0.08273072 0.37514961 0.96050798\n",
      " 0.03525413 0.01205127 0.09033716 0.05443552 0.63386224 0.95593516\n",
      " 0.20075271 0.02558864 0.19024589 0.96709863 0.01870597 0.00458341\n",
      " 0.05301163]\n",
      "===================================================================\n"
     ]
    }
   ],
   "source": [
    "# scores1-1\n",
    "print(\"Logistic Regression:\")\n",
    "print(\"The probability that the prediction result equal 1 is \\n\", scores_lr_1_1)\n",
    "print(\"===================================================================\")\n",
    "\n",
    "print(\"SVM:\")\n",
    "print(\"The probability that the prediction result equal 1 is \\n\", scores_lr_1_1)\n",
    "print(\"===================================================================\")\n",
    "\n",
    "print(\"KNN:\")\n",
    "print(\"The probability that the prediction result equal 1 is \\n\", scores_lr_1_1)\n",
    "print(\"===================================================================\")\n",
    "\n",
    "print(\"Random Forest:\")\n",
    "print(\"The probability that the prediction result equal 1 is \\n\", scores_lr_1_1)\n",
    "print(\"===================================================================\")"
   ]
  },
  {
   "cell_type": "code",
   "execution_count": 124,
   "id": "134619b5",
   "metadata": {},
   "outputs": [],
   "source": [
    "# scores2\n",
    "# print(\"Logistic Regression:\")\n",
    "# print(\"The Distribution of forecast results is \\n\", scores_lr_2)\n",
    "# print(\"===================================================================\")\n",
    "\n",
    "# print(\"SVM:\")\n",
    "# print(\"The Distribution of forecast results is \\n\", scores_lr_2)\n",
    "# print(\"===================================================================\")\n",
    "\n",
    "# print(\"KNN:\")\n",
    "# print(\"The Distribution of forecast results is \\n\", scores_lr_2)\n",
    "# print(\"===================================================================\")\n",
    "\n",
    "# print(\"Random Forest:\")\n",
    "# print(\"The Distribution of forecast results is \\n\", scores_lr_2)\n",
    "# print(\"===================================================================\")"
   ]
  },
  {
   "cell_type": "markdown",
   "id": "bc5da55c",
   "metadata": {},
   "source": [
    "### 5. PR curve and AP value"
   ]
  },
  {
   "cell_type": "code",
   "execution_count": 127,
   "id": "201cf68c",
   "metadata": {},
   "outputs": [
    {
     "name": "stdout",
     "output_type": "stream",
     "text": [
      "Logistic Regression:\n",
      "Thresholds of PR Curve: \n",
      " [0.02437443 0.02558864 0.02658924 0.03525413 0.03751375 0.04071988\n",
      " 0.05195358 0.05301163 0.05443552 0.05618057 0.07029254 0.08273072\n",
      " 0.09033716 0.1045361  0.16820219 0.19024589 0.20075271 0.35230541\n",
      " 0.37514961 0.43912028 0.46693881 0.52914425 0.57447032 0.62376051\n",
      " 0.63327354 0.63386224 0.64820196 0.64915106 0.70975627 0.71941297\n",
      " 0.74695913 0.75591447 0.80216151 0.82751511 0.8301018  0.83689023\n",
      " 0.87200269 0.87773467 0.88897951 0.90465742 0.92175386 0.92420182\n",
      " 0.92699675 0.93263616 0.9513453  0.95170842 0.95593516 0.96050798\n",
      " 0.96709863 0.97843493 0.98521638]\n",
      "===================================================================\n",
      "SVM:\n",
      "Thresholds of PR Curve: \n",
      " [0.05771808 0.06039071 0.06118444 0.07298319 0.07740932 0.08706272\n",
      " 0.09344969 0.09583111 0.10244389 0.14437309 0.14662556 0.19208191\n",
      " 0.19642191 0.21207809 0.21405626 0.23674205 0.2575164  0.26476973\n",
      " 0.27300413 0.30026942 0.33674223 0.344099   0.37730346 0.41303713\n",
      " 0.47340745 0.51874472 0.52046663 0.5419178  0.55167487 0.5522225\n",
      " 0.62339826 0.70013293 0.70030377 0.72759943 0.77946147 0.78453948\n",
      " 0.81701839 0.81980398 0.82573433 0.83151541 0.83154108 0.84342996\n",
      " 0.84485091 0.84713845 0.85381041 0.87795966 0.918047   0.92401974\n",
      " 0.92486785 0.92856931 0.94083447 0.9414055  0.94229215 0.9548044 ]\n",
      "===================================================================\n",
      "KNN:\n",
      "Thresholds of PR Curve: \n",
      " [0.  0.2 0.4 0.6 0.8 1. ]\n",
      "===================================================================\n",
      "Random Forest:\n",
      "Thresholds of PR Curve: \n",
      " [0.08653403 0.10353894 0.11722229 0.12906564 0.1384534  0.15692004\n",
      " 0.16617384 0.16640924 0.16798653 0.19530938 0.19948967 0.21407734\n",
      " 0.21881417 0.22530995 0.22681637 0.25527631 0.25580039 0.26135239\n",
      " 0.2672658  0.30675621 0.31750399 0.38204371 0.3905679  0.39072774\n",
      " 0.43490155 0.48158753 0.48605443 0.48755845 0.50183018 0.5145344\n",
      " 0.51897315 0.53756148 0.62377537 0.63325031 0.65140349 0.65410567\n",
      " 0.66850757 0.67968967 0.68664358 0.70386603 0.71191508 0.74621094\n",
      " 0.78353913 0.7972799  0.81103431 0.82502485 0.82626865 0.83029559\n",
      " 0.84275946 0.88701071 0.90025927 0.90298002 0.90357656 0.90897104\n",
      " 0.91165357 0.96406334]\n",
      "===================================================================\n"
     ]
    }
   ],
   "source": [
    "# Thresholds of PR Curve\n",
    "print(\"Logistic Regression:\")\n",
    "print(\"Thresholds of PR Curve: \\n\", thresholds_lr_pr)\n",
    "print(\"===================================================================\")\n",
    "\n",
    "print(\"SVM:\")\n",
    "print(\"Thresholds of PR Curve: \\n\", thresholds_svm_pr)\n",
    "print(\"===================================================================\")\n",
    "\n",
    "print(\"KNN:\")\n",
    "print(\"Thresholds of PR Curve: \\n\", thresholds_knn_pr)\n",
    "print(\"===================================================================\")\n",
    "\n",
    "print(\"Random Forest:\")\n",
    "print(\"Thresholds of PR Curve: \\n\", thresholds_rf_pr)\n",
    "print(\"===================================================================\")"
   ]
  },
  {
   "cell_type": "code",
   "execution_count": 130,
   "id": "fad7c5ec",
   "metadata": {},
   "outputs": [
    {
     "data": {
      "text/plain": [
       "[<matplotlib.lines.Line2D at 0x1bbaea55490>]"
      ]
     },
     "execution_count": 130,
     "metadata": {},
     "output_type": "execute_result"
    },
    {
     "data": {
      "image/png": "[encoded data removed]",
      "text/plain": [
       "<Figure size 720x504 with 1 Axes>"
      ]
     },
     "metadata": {
      "needs_background": "light"
     },
     "output_type": "display_data"
    }
   ],
   "source": [
    "fig1,ax1 = plt.subplots(figsize=(10,7))\n",
    "\n",
    "#ax1.figure(\"Collection P-R Curve\")\n",
    "ax1.set_title('Precision/Recall Curve Collection ', fontsize=20, pad = 12)\n",
    "ax1.set_xlabel('Recall', fontsize=14, labelpad=12)\n",
    "ax1.set_ylabel('Precision', fontsize=14, labelpad=12)\n",
    "\n",
    "# Manually define label names label=''\n",
    "ax1.plot(precisions_lr, recalls_lr, label='LR    (area_lr = {0:.7f})'.format(ap_lr), lw=2)\n",
    "ax1.plot(precisions_svm, recalls_svm, label='SVM (area_svm = {0:.7f})'.format(ap_svm), lw=2)\n",
    "ax1.plot(precisions_knn, recalls_knn, label='KNN (area_knn = {0:.7f})'.format(ap_knn), lw=2)\n",
    "ax1.plot(precisions_rf, recalls_rf, label='RF    (area_rf = {0:.7f})'.format(ap_rf), lw=2)\n",
    "\n",
    "plt.legend(loc=\"upper left\", fontsize=12)\n",
    "\n",
    "# Set background gridlines\n",
    "plt.grid(True)\n",
    "\n",
    "# Draw Diagonal\n",
    "ax1.plot([0,1],[0,1],linestyle='--',color='grey')"
   ]
  },
  {
   "cell_type": "code",
   "execution_count": 133,
   "id": "1e19acaf",
   "metadata": {},
   "outputs": [
    {
     "name": "stdout",
     "output_type": "stream",
     "text": [
      "Logistic Regression:\n",
      "The AP of LR is \n",
      " 0.9505328058301409\n",
      "===================================================================\n",
      "\n",
      "SVM:\n",
      "The AP of SVM is \n",
      " 0.9488317935320545\n",
      "===================================================================\n",
      "\n",
      "KNN:\n",
      "The AP of KNN is \n",
      " 0.9147943002778407\n",
      "===================================================================\n",
      "\n",
      "Random Forest:\n",
      "The AP of LR RF \n",
      " 0.9536463165783018\n",
      "===================================================================\n"
     ]
    }
   ],
   "source": [
    "# AP Collection\n",
    "print(\"Logistic Regression:\")\n",
    "print(\"The AP of LR is \\n\", ap_lr)\n",
    "print(\"===================================================================\")\n",
    "print(\"\")\n",
    "\n",
    "print(\"SVM:\")\n",
    "print(\"The AP of SVM is \\n\", ap_svm)\n",
    "print(\"===================================================================\")\n",
    "print(\"\")\n",
    "\n",
    "print(\"KNN:\")\n",
    "print(\"The AP of KNN is \\n\", ap_knn)\n",
    "print(\"===================================================================\")\n",
    "print(\"\")\n",
    "\n",
    "print(\"Random Forest:\")\n",
    "print(\"The AP of LR RF \\n\", ap_rf)\n",
    "print(\"===================================================================\")"
   ]
  },
  {
   "cell_type": "code",
   "execution_count": 162,
   "id": "58c1477e",
   "metadata": {},
   "outputs": [
    {
     "data": {
      "image/png": "[encoded data removed]",
      "text/plain": [
       "<Figure size 864x504 with 1 Axes>"
      ]
     },
     "metadata": {
      "needs_background": "light"
     },
     "output_type": "display_data"
    }
   ],
   "source": [
    "models_pr_ap = pd.DataFrame({\n",
    "    'Model' : ['LR', \n",
    "                 'SVM', \n",
    "                 'KNN', \n",
    "                 'RF'\n",
    "                ],\n",
    "    'AP' : [ap_lr,\n",
    "               ap_svm,\n",
    "               ap_knn,\n",
    "               ap_rf\n",
    "              ]\n",
    "})\n",
    "\n",
    "plt.figure(figsize = (12, 7))\n",
    "sns.barplot(x = 'AP', y = 'Model', data = models_pr_ap)\n",
    "\n",
    "# Set the title of the chart\n",
    "plt.title('AP Data Collection',fontsize = 16, fontweight = 'bold', alpha = 1, pad = 12)\n",
    "\n",
    "# Set the label of the axis\n",
    "plt.xlabel('AP', fontsize = 16, labelpad=20)\n",
    "plt.ylabel('Model', fontsize = 16, labelpad=20)\n",
    "\n",
    "# Set Axis Precision\n",
    "my_x_ticks = np.arange(0.00, 1.30, 0.05)\n",
    "plt.xticks(my_x_ticks)\n",
    "\n",
    "# Set Axis Label Text Size\n",
    "plt.xticks(fontproperties = 'Times New Roman', size = 14)\n",
    "plt.yticks(fontproperties = 'Times New Roman', size = 14)\n",
    "\n",
    "# Display data\n",
    "plt.text(0.96, 0.04, ap_lr, size = 14)\n",
    "plt.text(0.95, 1.04, ap_svm, size = 14)\n",
    "plt.text(0.92, 2.04, ap_knn, size = 14)\n",
    "plt.text(0.96, 3.04, ap_rf, size = 14)\n",
    "\n",
    "# Display chart\n",
    "plt.show()"
   ]
  },
  {
   "cell_type": "markdown",
   "id": "46d9eec3",
   "metadata": {},
   "source": [
    "### 6. ROC curve and AUC value"
   ]
  },
  {
   "cell_type": "code",
   "execution_count": 139,
   "id": "991d11c3",
   "metadata": {},
   "outputs": [
    {
     "name": "stdout",
     "output_type": "stream",
     "text": [
      "Logistic Regression:\n",
      "Thresholds of ROC Curve: \n",
      " [1.98521638 0.98521638 0.87773467 0.87200269 0.63386224 0.63327354\n",
      " 0.52914425 0.46693881 0.43912028 0.19024589 0.1045361  0.02558864\n",
      " 0.02437443 0.00458341]\n",
      "===================================================================\n",
      "SVM:\n",
      "Thresholds of ROC Curve: \n",
      " [1.9548044  0.9548044  0.81980398 0.81701839 0.70030377 0.70013293\n",
      " 0.47340745 0.37730346 0.344099   0.30026942 0.27300413 0.23674205\n",
      " 0.21405626 0.06039071 0.05771808 0.01299212]\n",
      "===================================================================\n",
      "KNN:\n",
      "Thresholds of ROC Curve: \n",
      " [2.  1.  0.8 0.6 0.4 0.2 0. ]\n",
      "===================================================================\n",
      "Random Forest:\n",
      "Thresholds of ROC Curve: \n",
      " [1.96406334 0.96406334 0.65410567 0.63325031 0.50183018 0.48755845\n",
      " 0.48605443 0.48158753 0.3905679  0.2672658  0.26135239 0.10353894\n",
      " 0.08653403 0.02013826]\n",
      "===================================================================\n"
     ]
    }
   ],
   "source": [
    "# Thresholds of ROC Curve\n",
    "print(\"Logistic Regression:\")\n",
    "print(\"Thresholds of ROC Curve: \\n\", thresholds_lr_roc)\n",
    "print(\"===================================================================\")\n",
    "\n",
    "print(\"SVM:\")\n",
    "print(\"Thresholds of ROC Curve: \\n\", thresholds_svm_roc)\n",
    "print(\"===================================================================\")\n",
    "\n",
    "print(\"KNN:\")\n",
    "print(\"Thresholds of ROC Curve: \\n\", thresholds_knn_roc)\n",
    "print(\"===================================================================\")\n",
    "\n",
    "print(\"Random Forest:\")\n",
    "print(\"Thresholds of ROC Curve: \\n\", thresholds_rf_roc)\n",
    "print(\"===================================================================\")"
   ]
  },
  {
   "cell_type": "code",
   "execution_count": 142,
   "id": "248a526e",
   "metadata": {},
   "outputs": [
    {
     "data": {
      "text/plain": [
       "[<matplotlib.lines.Line2D at 0x1bbab613bb0>]"
      ]
     },
     "execution_count": 142,
     "metadata": {},
     "output_type": "execute_result"
    },
    {
     "data": {
      "image/png": "[encoded data removed]",
      "text/plain": [
       "<Figure size 720x504 with 1 Axes>"
      ]
     },
     "metadata": {
      "needs_background": "light"
     },
     "output_type": "display_data"
    }
   ],
   "source": [
    "fig2,ax2 = plt.subplots(figsize=(10,7))\n",
    "\n",
    "ax2.set_title('ROC Curve Collection', fontsize=20 ,pad = 12)\n",
    "# ax2.set_xlabel('False Positive Rate')\n",
    "# ax2.set_ylabel('True Positive Rate')\n",
    "ax2.set_xlabel('FPR',fontsize=14, labelpad=12)\n",
    "ax2.set_ylabel('TPR',fontsize=14, labelpad=12)\n",
    "\n",
    "# Manually define label names label=''\n",
    "ax2.plot(fpr_lr, tpr_lr,   label='LR  (area_lr = {0:.7f})'.format(roc_auc_lr), lw=2)\n",
    "ax2.plot(fpr_svm, tpr_svm, label='SVM (area_lr = {0:.7f})'.format(roc_auc_svm), lw=2)\n",
    "ax2.plot(fpr_knn, tpr_knn, label='KNN (area_lr = {0:.7f})'.format(roc_auc_knn), lw=2)\n",
    "ax2.plot(fpr_rf, tpr_rf,   label='RF  (area_lr = {0:.7f})'.format(roc_auc_rf), lw=2)\n",
    "\n",
    "plt.legend(loc=\"lower right\", fontsize=12)\n",
    "\n",
    "# Set background gridlines\n",
    "plt.grid(True)\n",
    "\n",
    "# Draw Diagonal\n",
    "ax2.plot([0,1],[0,1],linestyle='--',color='grey')"
   ]
  },
  {
   "cell_type": "code",
   "execution_count": 145,
   "id": "239569ff",
   "metadata": {},
   "outputs": [
    {
     "name": "stdout",
     "output_type": "stream",
     "text": [
      "Logistic Regression:\n",
      "The AUC of LR is \n",
      " 0.9428879310344827\n",
      "===================================================================\n",
      "SVM:\n",
      "The AUC of SVM is \n",
      " 0.9364224137931034\n",
      "===================================================================\n",
      "KNN:\n",
      "The AUC of KNN is \n",
      " 0.9321120689655173\n",
      "===================================================================\n",
      "Random Forest:\n",
      "The AUC of RF is \n",
      " 0.9385775862068965\n",
      "===================================================================\n"
     ]
    }
   ],
   "source": [
    "# AUC Collection\n",
    "print(\"Logistic Regression:\")\n",
    "print(\"The AUC of LR is \\n\", roc_auc_lr)\n",
    "print(\"===================================================================\")\n",
    "\n",
    "print(\"SVM:\")\n",
    "print(\"The AUC of SVM is \\n\", roc_auc_svm)\n",
    "print(\"===================================================================\")\n",
    "\n",
    "print(\"KNN:\")\n",
    "print(\"The AUC of KNN is \\n\", roc_auc_knn)\n",
    "print(\"===================================================================\")\n",
    "\n",
    "print(\"Random Forest:\")\n",
    "print(\"The AUC of RF is \\n\", roc_auc_rf)\n",
    "print(\"===================================================================\")"
   ]
  },
  {
   "cell_type": "code",
   "execution_count": 159,
   "id": "fc0afc64",
   "metadata": {},
   "outputs": [
    {
     "data": {
      "image/png": "[encoded data removed]",
      "text/plain": [
       "<Figure size 864x504 with 1 Axes>"
      ]
     },
     "metadata": {
      "needs_background": "light"
     },
     "output_type": "display_data"
    }
   ],
   "source": [
    "models_roc_auc = pd.DataFrame({\n",
    "    'Model' : ['LR', \n",
    "                 'SVM', \n",
    "                 'KNN', \n",
    "                 'RF'\n",
    "                ],\n",
    "    'AUC' : [roc_auc_lr,\n",
    "               roc_auc_svm,\n",
    "               roc_auc_knn,\n",
    "               roc_auc_rf\n",
    "              ]\n",
    "})\n",
    "\n",
    "plt.figure(figsize = (12, 7))\n",
    "sns.barplot(x = 'AUC', y = 'Model', data = models_roc_auc)\n",
    "\n",
    "# Set the title of the chart\n",
    "plt.title('AUC Data Collection',fontsize = 16, fontweight = 'bold', alpha = 1, pad = 12)\n",
    "\n",
    "# Set the label of the axis\n",
    "plt.xlabel('AUC', fontsize = 16, labelpad=20)\n",
    "plt.ylabel('Model', fontsize = 16, labelpad=20)\n",
    "\n",
    "# Set Axis Precision\n",
    "my_x_ticks = np.arange(0.00, 1.30, 0.05)\n",
    "plt.xticks(my_x_ticks)\n",
    "\n",
    "# Set Axis Label Text Size\n",
    "plt.xticks(fontproperties = 'Times New Roman', size = 14)\n",
    "plt.yticks(fontproperties = 'Times New Roman', size = 14)\n",
    "\n",
    "# Display data\n",
    "plt.text(0.96, 0.04, roc_auc_lr, size = 14)\n",
    "plt.text(0.95, 1.04, roc_auc_svm, size = 14)\n",
    "plt.text(0.95, 2.04, roc_auc_knn, size = 14)\n",
    "plt.text(0.95, 3.04, roc_auc_rf, size = 14)\n",
    "\n",
    "# Display chart\n",
    "plt.show()"
   ]
  },
  {
   "cell_type": "markdown",
   "id": "c40860e7",
   "metadata": {},
   "source": [
    "## Compare all algorithms"
   ]
  },
  {
   "cell_type": "markdown",
   "id": "0871825d",
   "metadata": {},
   "source": [
    "### 1. accuracy\n"
   ]
  },
  {
   "cell_type": "code",
   "execution_count": 154,
   "id": "eda5d936",
   "metadata": {},
   "outputs": [],
   "source": [
    "acc_tensor = 0.8852459192276001"
   ]
  },
  {
   "cell_type": "code",
   "execution_count": 155,
   "id": "89b6e19c",
   "metadata": {},
   "outputs": [
    {
     "name": "stdout",
     "output_type": "stream",
     "text": [
      "Logistic Regression:\n",
      "The test accuracy score of Logistric Regression is  0.9016393442622951\n",
      "===================================================================\n",
      "\n",
      "SVM:\n",
      "The test accuracy score of Logistric Regression is  0.8852459016393442\n",
      "===================================================================\n",
      "\n",
      "KNN:\n",
      "The test accuracy score of Logistric Regression is  0.8852459016393442\n",
      "===================================================================\n",
      "\n",
      "Random Forest:\n",
      "The test accuracy score of Logistric Regression is  0.8688524590163934\n",
      "===================================================================\n",
      "\n",
      "Tensorflow:\n",
      "The test accuracy score of Tensorflow           is  0.8852459192276001\n",
      "===================================================================\n"
     ]
    }
   ],
   "source": [
    "print(\"Logistic Regression:\")\n",
    "print(\"The test accuracy score of Logistric Regression is \", acc_lr)\n",
    "print(\"===================================================================\")\n",
    "print(\"\")\n",
    "\n",
    "print(\"SVM:\")\n",
    "print(\"The test accuracy score of Logistric Regression is \", acc_svm)\n",
    "print(\"===================================================================\")\n",
    "print(\"\")\n",
    "\n",
    "print(\"KNN:\")\n",
    "print(\"The test accuracy score of Logistric Regression is \", acc_knn)\n",
    "print(\"===================================================================\")\n",
    "print(\"\")\n",
    "\n",
    "print(\"Random Forest:\")\n",
    "print(\"The test accuracy score of Logistric Regression is \", acc_rf)\n",
    "print(\"===================================================================\")\n",
    "print(\"\")\n",
    "\n",
    "print(\"Tensorflow:\")\n",
    "print(\"The test accuracy score of Tensorflow           is \", acc_tensor)\n",
    "print(\"===================================================================\")"
   ]
  },
  {
   "cell_type": "code",
   "execution_count": 160,
   "id": "d66a3ed1",
   "metadata": {},
   "outputs": [
    {
     "data": {
      "image/png": "[encoded data removed]",
      "text/plain": [
       "<Figure size 864x504 with 1 Axes>"
      ]
     },
     "metadata": {
      "needs_background": "light"
     },
     "output_type": "display_data"
    }
   ],
   "source": [
    "models_acc = pd.DataFrame({\n",
    "    'Model' : [  \n",
    "                 'LR', \n",
    "                 'Tensorflow',\n",
    "                 'SVM', \n",
    "                 'KNN', \n",
    "                 'RF'\n",
    "                 \n",
    "                ],\n",
    "    'Acc' : [\n",
    "               acc_lr,\n",
    "               acc_tensor,\n",
    "               acc_svm,\n",
    "               acc_knn,\n",
    "               acc_rf\n",
    "              ]\n",
    "})\n",
    "\n",
    "plt.figure(figsize = (12, 7))\n",
    "sns.barplot(x = 'Acc', y = 'Model', data = models_acc)\n",
    "\n",
    "# Set the title of the chart\n",
    "plt.title('Accuracy Data Collection(5 algorithms)',fontsize = 16, fontweight = 'bold', alpha = 1, pad = 12)\n",
    "\n",
    "# Set the label of the axis\n",
    "plt.xlabel('Accuracy', fontsize = 16, labelpad=20)\n",
    "plt.ylabel('Models', fontsize = 16, labelpad=20)\n",
    "\n",
    "# Set Axis Precision\n",
    "my_x_ticks = np.arange(0.00, 1.30, 0.05)\n",
    "plt.xticks(my_x_ticks)\n",
    "\n",
    "# Set Axis Label Text Size\n",
    "plt.xticks(fontproperties = 'Times New Roman', size = 14)\n",
    "plt.yticks(fontproperties = 'Times New Roman', size = 14)\n",
    "\n",
    "# Display data\n",
    "plt.text(0.92, 0.04, acc_lr, size = 14)\n",
    "plt.text(0.90, 1.04, acc_tensor, size = 14)\n",
    "plt.text(0.90, 2.04, acc_svm, size = 14)\n",
    "plt.text(0.90, 3.04, acc_knn, size = 14)\n",
    "plt.text(0.88, 4.04, acc_rf, size = 14)\n",
    "\n",
    "# Display chart\n",
    "plt.show()"
   ]
  },
  {
   "cell_type": "markdown",
   "id": "e1fa16f6",
   "metadata": {},
   "source": [
    "### Conclusion: Select logistic regression as the final algorithm"
   ]
  }
 ],
 "metadata": {
  "celltoolbar": "原始单元格格式",
  "kernelspec": {
   "display_name": "Python 3 (ipykernel)",
   "language": "python",
   "name": "python3"
  },
  "language_info": {
   "codemirror_mode": {
    "name": "ipython",
    "version": 3
   },
   "file_extension": ".py",
   "mimetype": "text/x-python",
   "name": "python",
   "nbconvert_exporter": "python",
   "pygments_lexer": "ipython3",
   "version": "3.9.12"
  }
 },
 "nbformat": 4,
 "nbformat_minor": 5
}
